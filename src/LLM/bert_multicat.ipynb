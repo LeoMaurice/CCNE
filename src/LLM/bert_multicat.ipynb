{
 "cells": [
  {
   "cell_type": "code",
   "execution_count": 1,
   "metadata": {},
   "outputs": [
    {
     "name": "stdout",
     "output_type": "stream",
     "text": [
      "Requirement already satisfied: AugmentedSocialScientist in /opt/mamba/lib/python3.12/site-packages (2.2.1)\n",
      "Requirement already satisfied: pandas in /opt/mamba/lib/python3.12/site-packages (2.2.2)\n",
      "Requirement already satisfied: numpy in /opt/mamba/lib/python3.12/site-packages (1.26.4)\n",
      "Requirement already satisfied: wordcloud in /opt/mamba/lib/python3.12/site-packages (1.9.3)\n",
      "Requirement already satisfied: matplotlib in /opt/mamba/lib/python3.12/site-packages (3.9.0)\n",
      "Requirement already satisfied: spacy in /opt/mamba/lib/python3.12/site-packages (3.7.4)\n",
      "Requirement already satisfied: nltk in /opt/mamba/lib/python3.12/site-packages (3.8.1)\n",
      "Requirement already satisfied: scikit-learn in /opt/mamba/lib/python3.12/site-packages (from AugmentedSocialScientist) (1.5.0)\n",
      "Requirement already satisfied: tqdm in /opt/mamba/lib/python3.12/site-packages (from AugmentedSocialScientist) (4.66.2)\n",
      "Requirement already satisfied: scipy in /opt/mamba/lib/python3.12/site-packages (from AugmentedSocialScientist) (1.13.1)\n",
      "Requirement already satisfied: torch in /opt/mamba/lib/python3.12/site-packages (from AugmentedSocialScientist) (2.3.0)\n",
      "Requirement already satisfied: transformers in /opt/mamba/lib/python3.12/site-packages (from AugmentedSocialScientist) (4.41.2)\n",
      "Requirement already satisfied: sentencepiece in /opt/mamba/lib/python3.12/site-packages (from AugmentedSocialScientist) (0.2.0)\n",
      "Requirement already satisfied: python-dateutil>=2.8.2 in /opt/mamba/lib/python3.12/site-packages (from pandas) (2.9.0)\n",
      "Requirement already satisfied: pytz>=2020.1 in /opt/mamba/lib/python3.12/site-packages (from pandas) (2024.1)\n",
      "Requirement already satisfied: tzdata>=2022.7 in /opt/mamba/lib/python3.12/site-packages (from pandas) (2024.1)\n",
      "Requirement already satisfied: pillow in /opt/mamba/lib/python3.12/site-packages (from wordcloud) (10.3.0)\n",
      "Requirement already satisfied: contourpy>=1.0.1 in /opt/mamba/lib/python3.12/site-packages (from matplotlib) (1.2.1)\n",
      "Requirement already satisfied: cycler>=0.10 in /opt/mamba/lib/python3.12/site-packages (from matplotlib) (0.12.1)\n",
      "Requirement already satisfied: fonttools>=4.22.0 in /opt/mamba/lib/python3.12/site-packages (from matplotlib) (4.53.0)\n",
      "Requirement already satisfied: kiwisolver>=1.3.1 in /opt/mamba/lib/python3.12/site-packages (from matplotlib) (1.4.5)\n",
      "Requirement already satisfied: packaging>=20.0 in /opt/mamba/lib/python3.12/site-packages (from matplotlib) (24.0)\n",
      "Requirement already satisfied: pyparsing>=2.3.1 in /opt/mamba/lib/python3.12/site-packages (from matplotlib) (3.1.2)\n",
      "Requirement already satisfied: spacy-legacy<3.1.0,>=3.0.11 in /opt/mamba/lib/python3.12/site-packages (from spacy) (3.0.12)\n",
      "Requirement already satisfied: spacy-loggers<2.0.0,>=1.0.0 in /opt/mamba/lib/python3.12/site-packages (from spacy) (1.0.5)\n",
      "Requirement already satisfied: murmurhash<1.1.0,>=0.28.0 in /opt/mamba/lib/python3.12/site-packages (from spacy) (1.0.10)\n",
      "Requirement already satisfied: cymem<2.1.0,>=2.0.2 in /opt/mamba/lib/python3.12/site-packages (from spacy) (2.0.8)\n",
      "Requirement already satisfied: preshed<3.1.0,>=3.0.2 in /opt/mamba/lib/python3.12/site-packages (from spacy) (3.0.9)\n",
      "Requirement already satisfied: thinc<8.3.0,>=8.2.2 in /opt/mamba/lib/python3.12/site-packages (from spacy) (8.2.3)\n",
      "Requirement already satisfied: wasabi<1.2.0,>=0.9.1 in /opt/mamba/lib/python3.12/site-packages (from spacy) (1.1.3)\n",
      "Requirement already satisfied: srsly<3.0.0,>=2.4.3 in /opt/mamba/lib/python3.12/site-packages (from spacy) (2.4.8)\n",
      "Requirement already satisfied: catalogue<2.1.0,>=2.0.6 in /opt/mamba/lib/python3.12/site-packages (from spacy) (2.0.10)\n",
      "Requirement already satisfied: weasel<0.4.0,>=0.1.0 in /opt/mamba/lib/python3.12/site-packages (from spacy) (0.3.4)\n",
      "Requirement already satisfied: typer<0.10.0,>=0.3.0 in /opt/mamba/lib/python3.12/site-packages (from spacy) (0.9.4)\n",
      "Requirement already satisfied: smart-open<7.0.0,>=5.2.1 in /opt/mamba/lib/python3.12/site-packages (from spacy) (6.4.0)\n",
      "Requirement already satisfied: requests<3.0.0,>=2.13.0 in /opt/mamba/lib/python3.12/site-packages (from spacy) (2.31.0)\n",
      "Requirement already satisfied: pydantic!=1.8,!=1.8.1,<3.0.0,>=1.7.4 in /opt/mamba/lib/python3.12/site-packages (from spacy) (2.7.3)\n",
      "Requirement already satisfied: jinja2 in /opt/mamba/lib/python3.12/site-packages (from spacy) (3.1.3)\n",
      "Requirement already satisfied: setuptools in /opt/mamba/lib/python3.12/site-packages (from spacy) (69.5.1)\n",
      "Requirement already satisfied: langcodes<4.0.0,>=3.2.0 in /opt/mamba/lib/python3.12/site-packages (from spacy) (3.4.0)\n",
      "Requirement already satisfied: click in /opt/mamba/lib/python3.12/site-packages (from nltk) (8.1.7)\n",
      "Requirement already satisfied: joblib in /opt/mamba/lib/python3.12/site-packages (from nltk) (1.4.2)\n",
      "Requirement already satisfied: regex>=2021.8.3 in /opt/mamba/lib/python3.12/site-packages (from nltk) (2024.5.15)\n",
      "Requirement already satisfied: language-data>=1.2 in /opt/mamba/lib/python3.12/site-packages (from langcodes<4.0.0,>=3.2.0->spacy) (1.2.0)\n",
      "Requirement already satisfied: annotated-types>=0.4.0 in /opt/mamba/lib/python3.12/site-packages (from pydantic!=1.8,!=1.8.1,<3.0.0,>=1.7.4->spacy) (0.7.0)\n",
      "Requirement already satisfied: pydantic-core==2.18.4 in /opt/mamba/lib/python3.12/site-packages (from pydantic!=1.8,!=1.8.1,<3.0.0,>=1.7.4->spacy) (2.18.4)\n",
      "Requirement already satisfied: typing-extensions>=4.6.1 in /opt/mamba/lib/python3.12/site-packages (from pydantic!=1.8,!=1.8.1,<3.0.0,>=1.7.4->spacy) (4.11.0)\n",
      "Requirement already satisfied: six>=1.5 in /opt/mamba/lib/python3.12/site-packages (from python-dateutil>=2.8.2->pandas) (1.16.0)\n",
      "Requirement already satisfied: charset-normalizer<4,>=2 in /opt/mamba/lib/python3.12/site-packages (from requests<3.0.0,>=2.13.0->spacy) (3.3.2)\n",
      "Requirement already satisfied: idna<4,>=2.5 in /opt/mamba/lib/python3.12/site-packages (from requests<3.0.0,>=2.13.0->spacy) (3.6)\n",
      "Requirement already satisfied: urllib3<3,>=1.21.1 in /opt/mamba/lib/python3.12/site-packages (from requests<3.0.0,>=2.13.0->spacy) (1.26.18)\n",
      "Requirement already satisfied: certifi>=2017.4.17 in /opt/mamba/lib/python3.12/site-packages (from requests<3.0.0,>=2.13.0->spacy) (2024.2.2)\n",
      "Requirement already satisfied: blis<0.8.0,>=0.7.8 in /opt/mamba/lib/python3.12/site-packages (from thinc<8.3.0,>=8.2.2->spacy) (0.7.11)\n",
      "Requirement already satisfied: confection<1.0.0,>=0.0.1 in /opt/mamba/lib/python3.12/site-packages (from thinc<8.3.0,>=8.2.2->spacy) (0.1.5)\n",
      "Requirement already satisfied: cloudpathlib<0.17.0,>=0.7.0 in /opt/mamba/lib/python3.12/site-packages (from weasel<0.4.0,>=0.1.0->spacy) (0.16.0)\n",
      "Requirement already satisfied: MarkupSafe>=2.0 in /opt/mamba/lib/python3.12/site-packages (from jinja2->spacy) (2.1.5)\n",
      "Requirement already satisfied: threadpoolctl>=3.1.0 in /opt/mamba/lib/python3.12/site-packages (from scikit-learn->AugmentedSocialScientist) (3.5.0)\n",
      "Requirement already satisfied: filelock in /opt/mamba/lib/python3.12/site-packages (from torch->AugmentedSocialScientist) (3.13.4)\n",
      "Requirement already satisfied: sympy in /opt/mamba/lib/python3.12/site-packages (from torch->AugmentedSocialScientist) (1.12)\n",
      "Requirement already satisfied: networkx in /opt/mamba/lib/python3.12/site-packages (from torch->AugmentedSocialScientist) (3.3)\n",
      "Requirement already satisfied: fsspec in /opt/mamba/lib/python3.12/site-packages (from torch->AugmentedSocialScientist) (2024.3.1)\n",
      "Requirement already satisfied: nvidia-cuda-nvrtc-cu12==12.1.105 in /opt/mamba/lib/python3.12/site-packages (from torch->AugmentedSocialScientist) (12.1.105)\n",
      "Requirement already satisfied: nvidia-cuda-runtime-cu12==12.1.105 in /opt/mamba/lib/python3.12/site-packages (from torch->AugmentedSocialScientist) (12.1.105)\n",
      "Requirement already satisfied: nvidia-cuda-cupti-cu12==12.1.105 in /opt/mamba/lib/python3.12/site-packages (from torch->AugmentedSocialScientist) (12.1.105)\n",
      "Requirement already satisfied: nvidia-cudnn-cu12==8.9.2.26 in /opt/mamba/lib/python3.12/site-packages (from torch->AugmentedSocialScientist) (8.9.2.26)\n",
      "Requirement already satisfied: nvidia-cublas-cu12==12.1.3.1 in /opt/mamba/lib/python3.12/site-packages (from torch->AugmentedSocialScientist) (12.1.3.1)\n",
      "Requirement already satisfied: nvidia-cufft-cu12==11.0.2.54 in /opt/mamba/lib/python3.12/site-packages (from torch->AugmentedSocialScientist) (11.0.2.54)\n",
      "Requirement already satisfied: nvidia-curand-cu12==10.3.2.106 in /opt/mamba/lib/python3.12/site-packages (from torch->AugmentedSocialScientist) (10.3.2.106)\n",
      "Requirement already satisfied: nvidia-cusolver-cu12==11.4.5.107 in /opt/mamba/lib/python3.12/site-packages (from torch->AugmentedSocialScientist) (11.4.5.107)\n",
      "Requirement already satisfied: nvidia-cusparse-cu12==12.1.0.106 in /opt/mamba/lib/python3.12/site-packages (from torch->AugmentedSocialScientist) (12.1.0.106)\n",
      "Requirement already satisfied: nvidia-nccl-cu12==2.20.5 in /opt/mamba/lib/python3.12/site-packages (from torch->AugmentedSocialScientist) (2.20.5)\n",
      "Requirement already satisfied: nvidia-nvtx-cu12==12.1.105 in /opt/mamba/lib/python3.12/site-packages (from torch->AugmentedSocialScientist) (12.1.105)\n",
      "Requirement already satisfied: nvidia-nvjitlink-cu12 in /opt/mamba/lib/python3.12/site-packages (from nvidia-cusolver-cu12==11.4.5.107->torch->AugmentedSocialScientist) (12.4.127)\n",
      "Requirement already satisfied: huggingface-hub<1.0,>=0.23.0 in /opt/mamba/lib/python3.12/site-packages (from transformers->AugmentedSocialScientist) (0.23.2)\n",
      "Requirement already satisfied: pyyaml>=5.1 in /opt/mamba/lib/python3.12/site-packages (from transformers->AugmentedSocialScientist) (6.0.1)\n",
      "Requirement already satisfied: tokenizers<0.20,>=0.19 in /opt/mamba/lib/python3.12/site-packages (from transformers->AugmentedSocialScientist) (0.19.1)\n",
      "Requirement already satisfied: safetensors>=0.4.1 in /opt/mamba/lib/python3.12/site-packages (from transformers->AugmentedSocialScientist) (0.4.3)\n",
      "Requirement already satisfied: marisa-trie>=0.7.7 in /opt/mamba/lib/python3.12/site-packages (from language-data>=1.2->langcodes<4.0.0,>=3.2.0->spacy) (1.1.1)\n"
     ]
    },
    {
     "name": "stdout",
     "output_type": "stream",
     "text": [
      "Requirement already satisfied: mpmath>=0.19 in /opt/mamba/lib/python3.12/site-packages (from sympy->torch->AugmentedSocialScientist) (1.3.0)\n",
      "Collecting fr-core-news-sm==3.7.0\n",
      "  Downloading https://github.com/explosion/spacy-models/releases/download/fr_core_news_sm-3.7.0/fr_core_news_sm-3.7.0-py3-none-any.whl (16.3 MB)\n",
      "\u001b[2K     \u001b[90m━━━━━━━━━━━━━━━━━━━━━━━━━━━━━━━━━━━━━━━━\u001b[0m \u001b[32m16.3/16.3 MB\u001b[0m \u001b[31m38.3 MB/s\u001b[0m eta \u001b[36m0:00:00\u001b[0m00:01\u001b[0m00:01\u001b[0m\n",
      "\u001b[?25hRequirement already satisfied: spacy<3.8.0,>=3.7.0 in /opt/mamba/lib/python3.12/site-packages (from fr-core-news-sm==3.7.0) (3.7.4)\n",
      "Requirement already satisfied: spacy-legacy<3.1.0,>=3.0.11 in /opt/mamba/lib/python3.12/site-packages (from spacy<3.8.0,>=3.7.0->fr-core-news-sm==3.7.0) (3.0.12)\n",
      "Requirement already satisfied: spacy-loggers<2.0.0,>=1.0.0 in /opt/mamba/lib/python3.12/site-packages (from spacy<3.8.0,>=3.7.0->fr-core-news-sm==3.7.0) (1.0.5)\n",
      "Requirement already satisfied: murmurhash<1.1.0,>=0.28.0 in /opt/mamba/lib/python3.12/site-packages (from spacy<3.8.0,>=3.7.0->fr-core-news-sm==3.7.0) (1.0.10)\n",
      "Requirement already satisfied: cymem<2.1.0,>=2.0.2 in /opt/mamba/lib/python3.12/site-packages (from spacy<3.8.0,>=3.7.0->fr-core-news-sm==3.7.0) (2.0.8)\n",
      "Requirement already satisfied: preshed<3.1.0,>=3.0.2 in /opt/mamba/lib/python3.12/site-packages (from spacy<3.8.0,>=3.7.0->fr-core-news-sm==3.7.0) (3.0.9)\n",
      "Requirement already satisfied: thinc<8.3.0,>=8.2.2 in /opt/mamba/lib/python3.12/site-packages (from spacy<3.8.0,>=3.7.0->fr-core-news-sm==3.7.0) (8.2.3)\n",
      "Requirement already satisfied: wasabi<1.2.0,>=0.9.1 in /opt/mamba/lib/python3.12/site-packages (from spacy<3.8.0,>=3.7.0->fr-core-news-sm==3.7.0) (1.1.3)\n",
      "Requirement already satisfied: srsly<3.0.0,>=2.4.3 in /opt/mamba/lib/python3.12/site-packages (from spacy<3.8.0,>=3.7.0->fr-core-news-sm==3.7.0) (2.4.8)\n",
      "Requirement already satisfied: catalogue<2.1.0,>=2.0.6 in /opt/mamba/lib/python3.12/site-packages (from spacy<3.8.0,>=3.7.0->fr-core-news-sm==3.7.0) (2.0.10)\n",
      "Requirement already satisfied: weasel<0.4.0,>=0.1.0 in /opt/mamba/lib/python3.12/site-packages (from spacy<3.8.0,>=3.7.0->fr-core-news-sm==3.7.0) (0.3.4)\n",
      "Requirement already satisfied: typer<0.10.0,>=0.3.0 in /opt/mamba/lib/python3.12/site-packages (from spacy<3.8.0,>=3.7.0->fr-core-news-sm==3.7.0) (0.9.4)\n",
      "Requirement already satisfied: smart-open<7.0.0,>=5.2.1 in /opt/mamba/lib/python3.12/site-packages (from spacy<3.8.0,>=3.7.0->fr-core-news-sm==3.7.0) (6.4.0)\n",
      "Requirement already satisfied: tqdm<5.0.0,>=4.38.0 in /opt/mamba/lib/python3.12/site-packages (from spacy<3.8.0,>=3.7.0->fr-core-news-sm==3.7.0) (4.66.2)\n",
      "Requirement already satisfied: requests<3.0.0,>=2.13.0 in /opt/mamba/lib/python3.12/site-packages (from spacy<3.8.0,>=3.7.0->fr-core-news-sm==3.7.0) (2.31.0)\n",
      "Requirement already satisfied: pydantic!=1.8,!=1.8.1,<3.0.0,>=1.7.4 in /opt/mamba/lib/python3.12/site-packages (from spacy<3.8.0,>=3.7.0->fr-core-news-sm==3.7.0) (2.7.3)\n",
      "Requirement already satisfied: jinja2 in /opt/mamba/lib/python3.12/site-packages (from spacy<3.8.0,>=3.7.0->fr-core-news-sm==3.7.0) (3.1.3)\n",
      "Requirement already satisfied: setuptools in /opt/mamba/lib/python3.12/site-packages (from spacy<3.8.0,>=3.7.0->fr-core-news-sm==3.7.0) (69.5.1)\n",
      "Requirement already satisfied: packaging>=20.0 in /opt/mamba/lib/python3.12/site-packages (from spacy<3.8.0,>=3.7.0->fr-core-news-sm==3.7.0) (24.0)\n",
      "Requirement already satisfied: langcodes<4.0.0,>=3.2.0 in /opt/mamba/lib/python3.12/site-packages (from spacy<3.8.0,>=3.7.0->fr-core-news-sm==3.7.0) (3.4.0)\n",
      "Requirement already satisfied: numpy>=1.19.0 in /opt/mamba/lib/python3.12/site-packages (from spacy<3.8.0,>=3.7.0->fr-core-news-sm==3.7.0) (1.26.4)\n",
      "Requirement already satisfied: language-data>=1.2 in /opt/mamba/lib/python3.12/site-packages (from langcodes<4.0.0,>=3.2.0->spacy<3.8.0,>=3.7.0->fr-core-news-sm==3.7.0) (1.2.0)\n",
      "Requirement already satisfied: annotated-types>=0.4.0 in /opt/mamba/lib/python3.12/site-packages (from pydantic!=1.8,!=1.8.1,<3.0.0,>=1.7.4->spacy<3.8.0,>=3.7.0->fr-core-news-sm==3.7.0) (0.7.0)\n",
      "Requirement already satisfied: pydantic-core==2.18.4 in /opt/mamba/lib/python3.12/site-packages (from pydantic!=1.8,!=1.8.1,<3.0.0,>=1.7.4->spacy<3.8.0,>=3.7.0->fr-core-news-sm==3.7.0) (2.18.4)\n",
      "Requirement already satisfied: typing-extensions>=4.6.1 in /opt/mamba/lib/python3.12/site-packages (from pydantic!=1.8,!=1.8.1,<3.0.0,>=1.7.4->spacy<3.8.0,>=3.7.0->fr-core-news-sm==3.7.0) (4.11.0)\n",
      "Requirement already satisfied: charset-normalizer<4,>=2 in /opt/mamba/lib/python3.12/site-packages (from requests<3.0.0,>=2.13.0->spacy<3.8.0,>=3.7.0->fr-core-news-sm==3.7.0) (3.3.2)\n",
      "Requirement already satisfied: idna<4,>=2.5 in /opt/mamba/lib/python3.12/site-packages (from requests<3.0.0,>=2.13.0->spacy<3.8.0,>=3.7.0->fr-core-news-sm==3.7.0) (3.6)\n",
      "Requirement already satisfied: urllib3<3,>=1.21.1 in /opt/mamba/lib/python3.12/site-packages (from requests<3.0.0,>=2.13.0->spacy<3.8.0,>=3.7.0->fr-core-news-sm==3.7.0) (1.26.18)\n",
      "Requirement already satisfied: certifi>=2017.4.17 in /opt/mamba/lib/python3.12/site-packages (from requests<3.0.0,>=2.13.0->spacy<3.8.0,>=3.7.0->fr-core-news-sm==3.7.0) (2024.2.2)\n",
      "Requirement already satisfied: blis<0.8.0,>=0.7.8 in /opt/mamba/lib/python3.12/site-packages (from thinc<8.3.0,>=8.2.2->spacy<3.8.0,>=3.7.0->fr-core-news-sm==3.7.0) (0.7.11)\n",
      "Requirement already satisfied: confection<1.0.0,>=0.0.1 in /opt/mamba/lib/python3.12/site-packages (from thinc<8.3.0,>=8.2.2->spacy<3.8.0,>=3.7.0->fr-core-news-sm==3.7.0) (0.1.5)\n",
      "Requirement already satisfied: click<9.0.0,>=7.1.1 in /opt/mamba/lib/python3.12/site-packages (from typer<0.10.0,>=0.3.0->spacy<3.8.0,>=3.7.0->fr-core-news-sm==3.7.0) (8.1.7)\n",
      "Requirement already satisfied: cloudpathlib<0.17.0,>=0.7.0 in /opt/mamba/lib/python3.12/site-packages (from weasel<0.4.0,>=0.1.0->spacy<3.8.0,>=3.7.0->fr-core-news-sm==3.7.0) (0.16.0)\n",
      "Requirement already satisfied: MarkupSafe>=2.0 in /opt/mamba/lib/python3.12/site-packages (from jinja2->spacy<3.8.0,>=3.7.0->fr-core-news-sm==3.7.0) (2.1.5)\n",
      "Requirement already satisfied: marisa-trie>=0.7.7 in /opt/mamba/lib/python3.12/site-packages (from language-data>=1.2->langcodes<4.0.0,>=3.2.0->spacy<3.8.0,>=3.7.0->fr-core-news-sm==3.7.0) (1.1.1)\n",
      "\u001b[38;5;2m✔ Download and installation successful\u001b[0m\n",
      "You can now load the package via spacy.load('fr_core_news_sm')\n"
     ]
    }
   ],
   "source": [
    "!pip install AugmentedSocialScientist pandas numpy wordcloud matplotlib spacy nltk\n",
    "!python -m spacy download fr_core_news_sm"
   ]
  },
  {
   "cell_type": "markdown",
   "metadata": {},
   "source": [
    "REMARQUE : BESOIN D'AVOIR FAIT TOURNE DESCRIPTION ANNOTATIONS POUR CREER LE FICHIER AVEC LES PHRASES !"
   ]
  },
  {
   "cell_type": "code",
   "execution_count": 1,
   "metadata": {},
   "outputs": [
    {
     "data": {
      "text/plain": [
       "RandomState(MT19937) at 0x7FB7A99EC240"
      ]
     },
     "execution_count": 1,
     "metadata": {},
     "output_type": "execute_result"
    }
   ],
   "source": [
    "import numpy as np\n",
    "import random\n",
    "import torch\n",
    "import sklearn\n",
    "random_seed = 1968\n",
    "# Set random seed for NumPy\n",
    "np.random.seed(random_seed)\n",
    "\n",
    "# Set random seed for Python built-in random module\n",
    "random.seed(random_seed)\n",
    "\n",
    "# Set random seed for PyTorch\n",
    "torch.manual_seed(random_seed)\n",
    "\n",
    "# Set random seed for Scikit-learn\n",
    "sklearn.utils.check_random_state(random_seed)\n"
   ]
  },
  {
   "cell_type": "code",
   "execution_count": 3,
   "metadata": {},
   "outputs": [
    {
     "name": "stderr",
     "output_type": "stream",
     "text": [
      "/tmp/ipykernel_33036/3703100089.py:25: SettingWithCopyWarning: \n",
      "A value is trying to be set on a copy of a slice from a DataFrame.\n",
      "Try using .loc[row_indexer,col_indexer] = value instead\n",
      "\n",
      "See the caveats in the documentation: https://pandas.pydata.org/pandas-docs/stable/user_guide/indexing.html#returning-a-view-versus-a-copy\n",
      "  annotations['label'] = annotations['recat']\n",
      "/tmp/ipykernel_33036/3703100089.py:27: SettingWithCopyWarning: \n",
      "A value is trying to be set on a copy of a slice from a DataFrame.\n",
      "Try using .loc[row_indexer,col_indexer] = value instead\n",
      "\n",
      "See the caveats in the documentation: https://pandas.pydata.org/pandas-docs/stable/user_guide/indexing.html#returning-a-view-versus-a-copy\n",
      "  annotations['text'] = annotations['sentence']\n"
     ]
    },
    {
     "data": {
      "text/html": [
       "<div>\n",
       "<style scoped>\n",
       "    .dataframe tbody tr th:only-of-type {\n",
       "        vertical-align: middle;\n",
       "    }\n",
       "\n",
       "    .dataframe tbody tr th {\n",
       "        vertical-align: top;\n",
       "    }\n",
       "\n",
       "    .dataframe thead th {\n",
       "        text-align: right;\n",
       "    }\n",
       "</style>\n",
       "<table border=\"1\" class=\"dataframe\">\n",
       "  <thead>\n",
       "    <tr style=\"text-align: right;\">\n",
       "      <th></th>\n",
       "      <th>Personne</th>\n",
       "      <th>sentence</th>\n",
       "      <th>recat</th>\n",
       "      <th>label</th>\n",
       "      <th>text</th>\n",
       "    </tr>\n",
       "    <tr>\n",
       "      <th>sentence_id</th>\n",
       "      <th></th>\n",
       "      <th></th>\n",
       "      <th></th>\n",
       "      <th></th>\n",
       "      <th></th>\n",
       "    </tr>\n",
       "  </thead>\n",
       "  <tbody>\n",
       "    <tr>\n",
       "      <th>1190093</th>\n",
       "      <td>Personne responsable et autonome</td>\n",
       "      <td>En revanche, \\nleur rapidité et leur relative ...</td>\n",
       "      <td>Personne droits et devoirs</td>\n",
       "      <td>Personne droits et devoirs</td>\n",
       "      <td>En revanche, \\nleur rapidité et leur relative ...</td>\n",
       "    </tr>\n",
       "    <tr>\n",
       "      <th>870236</th>\n",
       "      <td>Personne relationnelle</td>\n",
       "      <td>Refus par un tiers 8 \\n \\nIl est de nombreuses...</td>\n",
       "      <td>Personne relationnelle</td>\n",
       "      <td>Personne relationnelle</td>\n",
       "      <td>Refus par un tiers 8 \\n \\nIl est de nombreuses...</td>\n",
       "    </tr>\n",
       "    <tr>\n",
       "      <th>1210148</th>\n",
       "      <td>Sentiment humain</td>\n",
       "      <td>Elle est une réalité \\nhumaine, qui tient à la...</td>\n",
       "      <td>Genre/espèce humaine</td>\n",
       "      <td>Genre/espèce humaine</td>\n",
       "      <td>Elle est une réalité \\nhumaine, qui tient à la...</td>\n",
       "    </tr>\n",
       "    <tr>\n",
       "      <th>860089</th>\n",
       "      <td>Personne responsable et autonome</td>\n",
       "      <td>Ainsi l’ensemble de ces inconvénients qui, pou...</td>\n",
       "      <td>Personne droits et devoirs</td>\n",
       "      <td>Personne droits et devoirs</td>\n",
       "      <td>Ainsi l’ensemble de ces inconvénients qui, pou...</td>\n",
       "    </tr>\n",
       "    <tr>\n",
       "      <th>1130224</th>\n",
       "      <td>Corps humain</td>\n",
       "      <td>21415  »30 Voir l’avis n°112 du CCNE « Une réf...</td>\n",
       "      <td>Corps humain</td>\n",
       "      <td>Corps humain</td>\n",
       "      <td>21415  »30 Voir l’avis n°112 du CCNE « Une réf...</td>\n",
       "    </tr>\n",
       "  </tbody>\n",
       "</table>\n",
       "</div>"
      ],
      "text/plain": [
       "                                     Personne  \\\n",
       "sentence_id                                     \n",
       "1190093      Personne responsable et autonome   \n",
       "870236                 Personne relationnelle   \n",
       "1210148                      Sentiment humain   \n",
       "860089       Personne responsable et autonome   \n",
       "1130224                          Corps humain   \n",
       "\n",
       "                                                      sentence  \\\n",
       "sentence_id                                                      \n",
       "1190093      En revanche, \\nleur rapidité et leur relative ...   \n",
       "870236       Refus par un tiers 8 \\n \\nIl est de nombreuses...   \n",
       "1210148      Elle est une réalité \\nhumaine, qui tient à la...   \n",
       "860089       Ainsi l’ensemble de ces inconvénients qui, pou...   \n",
       "1130224      21415  »30 Voir l’avis n°112 du CCNE « Une réf...   \n",
       "\n",
       "                                  recat                       label  \\\n",
       "sentence_id                                                           \n",
       "1190093      Personne droits et devoirs  Personne droits et devoirs   \n",
       "870236           Personne relationnelle      Personne relationnelle   \n",
       "1210148            Genre/espèce humaine        Genre/espèce humaine   \n",
       "860089       Personne droits et devoirs  Personne droits et devoirs   \n",
       "1130224                    Corps humain                Corps humain   \n",
       "\n",
       "                                                          text  \n",
       "sentence_id                                                     \n",
       "1190093      En revanche, \\nleur rapidité et leur relative ...  \n",
       "870236       Refus par un tiers 8 \\n \\nIl est de nombreuses...  \n",
       "1210148      Elle est une réalité \\nhumaine, qui tient à la...  \n",
       "860089       Ainsi l’ensemble de ces inconvénients qui, pou...  \n",
       "1130224      21415  »30 Voir l’avis n°112 du CCNE « Une réf...  "
      ]
     },
     "execution_count": 3,
     "metadata": {},
     "output_type": "execute_result"
    }
   ],
   "source": [
    "import pandas as pd\n",
    "\n",
    "current_annotations_file = \"../../data/intermediate/annotations/personne_withSentence_1400annotations_2024-06-03_ActiveTigger.csv\"\n",
    "\n",
    "annotations_files = pd.read_csv(current_annotations_file, dtype = {'sentence_id':'int', \n",
    "'Personne':'str','sentence':'str'}).set_index('sentence_id')\n",
    "\n",
    "recat = {\n",
    "    \"Corps humain\":\"Corps humain\",\n",
    "    \"Genre/espèce humaine\":\"Genre/espèce humaine\",\n",
    "    \"Individu ou sujet\" : \"Individu ou sujet\",\n",
    "    \"Personne à protéger\":\"Personne droits et devoirs\",\n",
    "    \"Personne responsable et autonome\":\"Personne droits et devoirs\",\n",
    "    \"Personne relationnelle\":\"Personne relationnelle\",\n",
    "    \"Sentiment humain\":\"Genre/espèce humaine\",\n",
    "    \"Poubelle\" : \"Poubelle\"\n",
    "}\n",
    "\n",
    "frecat = lambda x: recat[x]\n",
    "annotations_files['recat']=annotations_files[\"Personne\"].apply(frecat)\n",
    "\n",
    "\n",
    "annotations = annotations_files[~(annotations_files[\"recat\"]==\"Poubelle\")]\n",
    "\n",
    "annotations['label'] = annotations['recat']\n",
    "\n",
    "annotations['text'] = annotations['sentence']\n",
    "\n",
    "annotations.sample(5)"
   ]
  },
  {
   "cell_type": "markdown",
   "metadata": {},
   "source": [
    "# Bert classification multicat"
   ]
  },
  {
   "cell_type": "code",
   "execution_count": 4,
   "metadata": {},
   "outputs": [
    {
     "data": {
      "text/plain": [
       "'NVIDIA A2'"
      ]
     },
     "execution_count": 4,
     "metadata": {},
     "output_type": "execute_result"
    }
   ],
   "source": [
    "import os\n",
    "os.environ[\"PYTORCH_CUDA_ALLOC_CONF\"] = \"expandable_segments:True\"\n",
    "\n",
    "from torch import cuda\n",
    "\n",
    "cuda.get_device_name(0)"
   ]
  },
  {
   "cell_type": "code",
   "execution_count": 5,
   "metadata": {},
   "outputs": [],
   "source": [
    "from sklearn.model_selection import train_test_split\n",
    " \n",
    "train_data, test_data = train_test_split(annotations, train_size=0.80, random_state=random_seed, stratify=annotations[\"Personne\"])"
   ]
  },
  {
   "cell_type": "code",
   "execution_count": 6,
   "metadata": {},
   "outputs": [
    {
     "name": "stderr",
     "output_type": "stream",
     "text": [
      "Special tokens have been added in the vocabulary, make sure the associated word embeddings are fine-tuned or trained.\n"
     ]
    },
    {
     "name": "stdout",
     "output_type": "stream",
     "text": [
      "There are 1 GPU(s) available.\n",
      "We will use GPU 0: NVIDIA A2\n"
     ]
    }
   ],
   "source": [
    "from AugmentedSocialScientist.models import Camembert\n",
    "\n",
    "bert = Camembert()"
   ]
  },
  {
   "cell_type": "code",
   "execution_count": 7,
   "metadata": {},
   "outputs": [
    {
     "data": {
      "application/vnd.jupyter.widget-view+json": {
       "model_id": "9a45277d26eb4755bc39be779b6540af",
       "version_major": 2,
       "version_minor": 0
      },
      "text/plain": [
       "  0%|          | 0/1110 [00:00<?, ?it/s]"
      ]
     },
     "metadata": {},
     "output_type": "display_data"
    },
    {
     "data": {
      "application/vnd.jupyter.widget-view+json": {
       "model_id": "bbe9ee1ec59043fb9121d76f892e6784",
       "version_major": 2,
       "version_minor": 0
      },
      "text/plain": [
       "  0%|          | 0/1110 [00:00<?, ?it/s]"
      ]
     },
     "metadata": {},
     "output_type": "display_data"
    },
    {
     "name": "stdout",
     "output_type": "stream",
     "text": [
      "label ids: {'Corps humain': 0, 'Genre/espèce humaine': 1, 'Individu ou sujet': 2, 'Personne droits et devoirs': 3, 'Personne relationnelle': 4}\n"
     ]
    }
   ],
   "source": [
    "batch_size = 16\n",
    "train_loader = bert.encode(train_data.text.values,\n",
    "train_data.label.values, batch_size=batch_size)"
   ]
  },
  {
   "cell_type": "code",
   "execution_count": 8,
   "metadata": {},
   "outputs": [
    {
     "data": {
      "application/vnd.jupyter.widget-view+json": {
       "model_id": "0f293e7fc3bf4bbd8bea3c094ba0ae1a",
       "version_major": 2,
       "version_minor": 0
      },
      "text/plain": [
       "  0%|          | 0/278 [00:00<?, ?it/s]"
      ]
     },
     "metadata": {},
     "output_type": "display_data"
    },
    {
     "data": {
      "application/vnd.jupyter.widget-view+json": {
       "model_id": "152c0c158f9043898b8483811b8c9c67",
       "version_major": 2,
       "version_minor": 0
      },
      "text/plain": [
       "  0%|          | 0/278 [00:00<?, ?it/s]"
      ]
     },
     "metadata": {},
     "output_type": "display_data"
    },
    {
     "name": "stdout",
     "output_type": "stream",
     "text": [
      "label ids: {'Corps humain': 0, 'Genre/espèce humaine': 1, 'Individu ou sujet': 2, 'Personne droits et devoirs': 3, 'Personne relationnelle': 4}\n"
     ]
    }
   ],
   "source": [
    "test_loader = bert.encode(test_data.text.values,\n",
    "test_data.label.values, batch_size=batch_size)"
   ]
  },
  {
   "cell_type": "code",
   "execution_count": 9,
   "metadata": {},
   "outputs": [
    {
     "name": "stderr",
     "output_type": "stream",
     "text": [
      "Some weights of CamembertForSequenceClassification were not initialized from the model checkpoint at camembert-base and are newly initialized: ['classifier.dense.bias', 'classifier.dense.weight', 'classifier.out_proj.bias', 'classifier.out_proj.weight']\n",
      "You should probably TRAIN this model on a down-stream task to be able to use it for predictions and inference.\n"
     ]
    },
    {
     "name": "stderr",
     "output_type": "stream",
     "text": [
      "/opt/mamba/lib/python3.12/site-packages/transformers/optimization.py:588: FutureWarning: This implementation of AdamW is deprecated and will be removed in a future version. Use the PyTorch implementation torch.optim.AdamW instead, or set `no_deprecation_warning=True` to disable this warning\n",
      "  warnings.warn(\n"
     ]
    },
    {
     "name": "stdout",
     "output_type": "stream",
     "text": [
      "\n",
      "======== Epoch 1 / 5 ========\n",
      "Training...\n",
      "  Batch    40  of     70.    Elapsed: 0:00:49.\n",
      "\n",
      "  Average training loss: 1.53\n",
      "  Training took: 0:01:25\n",
      "\n",
      "Running Validation...\n",
      "\n",
      "  Average test loss: 1.34\n",
      "  Validation took: 0:00:07\n",
      "                            precision    recall  f1-score   support\n",
      "\n",
      "              Corps humain       0.60      0.81      0.69        48\n",
      "      Genre/espèce humaine       0.65      0.43      0.52        51\n",
      "         Individu ou sujet       0.00      0.00      0.00        50\n",
      "Personne droits et devoirs       0.44      0.94      0.60        84\n",
      "    Personne relationnelle       0.00      0.00      0.00        45\n",
      "\n",
      "                  accuracy                           0.50       278\n",
      "                 macro avg       0.34      0.44      0.36       278\n",
      "              weighted avg       0.36      0.50      0.40       278\n",
      "\n",
      "\n",
      "======== Epoch 2 / 5 ========\n",
      "Training...\n"
     ]
    },
    {
     "name": "stderr",
     "output_type": "stream",
     "text": [
      "/opt/mamba/lib/python3.12/site-packages/sklearn/metrics/_classification.py:1517: UndefinedMetricWarning: Precision is ill-defined and being set to 0.0 in labels with no predicted samples. Use `zero_division` parameter to control this behavior.\n",
      "  _warn_prf(average, modifier, f\"{metric.capitalize()} is\", len(result))\n",
      "/opt/mamba/lib/python3.12/site-packages/sklearn/metrics/_classification.py:1517: UndefinedMetricWarning: Precision is ill-defined and being set to 0.0 in labels with no predicted samples. Use `zero_division` parameter to control this behavior.\n",
      "  _warn_prf(average, modifier, f\"{metric.capitalize()} is\", len(result))\n",
      "/opt/mamba/lib/python3.12/site-packages/sklearn/metrics/_classification.py:1517: UndefinedMetricWarning: Precision is ill-defined and being set to 0.0 in labels with no predicted samples. Use `zero_division` parameter to control this behavior.\n",
      "  _warn_prf(average, modifier, f\"{metric.capitalize()} is\", len(result))\n",
      "/opt/mamba/lib/python3.12/site-packages/sklearn/metrics/_classification.py:1517: UndefinedMetricWarning: Precision is ill-defined and being set to 0.0 in labels with no predicted samples. Use `zero_division` parameter to control this behavior.\n",
      "  _warn_prf(average, modifier, f\"{metric.capitalize()} is\", len(result))\n"
     ]
    },
    {
     "name": "stdout",
     "output_type": "stream",
     "text": [
      "  Batch    40  of     70.    Elapsed: 0:00:49.\n",
      "\n",
      "  Average training loss: 1.22\n",
      "  Training took: 0:01:25\n",
      "\n",
      "Running Validation...\n",
      "\n",
      "  Average test loss: 1.08\n",
      "  Validation took: 0:00:07\n",
      "                            precision    recall  f1-score   support\n",
      "\n",
      "              Corps humain       0.80      0.81      0.80        48\n",
      "      Genre/espèce humaine       0.73      0.78      0.75        51\n",
      "         Individu ou sujet       0.71      0.10      0.18        50\n",
      "Personne droits et devoirs       0.52      0.90      0.66        84\n",
      "    Personne relationnelle       0.80      0.36      0.49        45\n",
      "\n",
      "                  accuracy                           0.63       278\n",
      "                 macro avg       0.71      0.59      0.58       278\n",
      "              weighted avg       0.69      0.63      0.59       278\n",
      "\n",
      "\n",
      "======== Epoch 3 / 5 ========\n",
      "Training...\n",
      "  Batch    40  of     70.    Elapsed: 0:00:49.\n",
      "\n",
      "  Average training loss: 0.99\n",
      "  Training took: 0:01:25\n",
      "\n",
      "Running Validation...\n",
      "\n",
      "  Average test loss: 0.97\n",
      "  Validation took: 0:00:07\n",
      "                            precision    recall  f1-score   support\n",
      "\n",
      "              Corps humain       0.81      0.79      0.80        48\n",
      "      Genre/espèce humaine       0.73      0.78      0.75        51\n",
      "         Individu ou sujet       0.58      0.28      0.38        50\n",
      "Personne droits et devoirs       0.54      0.70      0.61        84\n",
      "    Personne relationnelle       0.60      0.58      0.59        45\n",
      "\n",
      "                  accuracy                           0.64       278\n",
      "                 macro avg       0.65      0.63      0.63       278\n",
      "              weighted avg       0.64      0.64      0.63       278\n",
      "\n",
      "\n",
      "======== Epoch 4 / 5 ========\n",
      "Training...\n",
      "  Batch    40  of     70.    Elapsed: 0:00:49.\n",
      "\n",
      "  Average training loss: 0.85\n",
      "  Training took: 0:01:25\n",
      "\n",
      "Running Validation...\n",
      "\n",
      "  Average test loss: 0.92\n",
      "  Validation took: 0:00:07\n",
      "                            precision    recall  f1-score   support\n",
      "\n",
      "              Corps humain       0.81      0.79      0.80        48\n",
      "      Genre/espèce humaine       0.71      0.73      0.72        51\n",
      "         Individu ou sujet       0.65      0.44      0.52        50\n",
      "Personne droits et devoirs       0.61      0.74      0.67        84\n",
      "    Personne relationnelle       0.66      0.64      0.65        45\n",
      "\n",
      "                  accuracy                           0.68       278\n",
      "                 macro avg       0.69      0.67      0.67       278\n",
      "              weighted avg       0.68      0.68      0.67       278\n",
      "\n",
      "\n",
      "======== Epoch 5 / 5 ========\n",
      "Training...\n",
      "  Batch    40  of     70.    Elapsed: 0:00:49.\n",
      "\n",
      "  Average training loss: 0.78\n",
      "  Training took: 0:01:25\n",
      "\n",
      "Running Validation...\n",
      "\n",
      "  Average test loss: 0.91\n",
      "  Validation took: 0:00:07\n",
      "                            precision    recall  f1-score   support\n",
      "\n",
      "              Corps humain       0.78      0.81      0.80        48\n",
      "      Genre/espèce humaine       0.72      0.76      0.74        51\n",
      "         Individu ou sujet       0.66      0.42      0.51        50\n",
      "Personne droits et devoirs       0.62      0.73      0.67        84\n",
      "    Personne relationnelle       0.66      0.64      0.65        45\n",
      "\n",
      "                  accuracy                           0.68       278\n",
      "                 macro avg       0.69      0.67      0.67       278\n",
      "              weighted avg       0.68      0.68      0.67       278\n",
      "\n",
      "\n",
      "Training complete!\n"
     ]
    }
   ],
   "source": [
    "scores = bert.run_training(\n",
    "    train_loader,\n",
    "    test_loader,\n",
    "    n_epochs=5,\n",
    "    lr=2e-5,\n",
    "    random_state=random_seed,\n",
    "    save_model_as='multicat'\n",
    "    )"
   ]
  },
  {
   "cell_type": "code",
   "execution_count": 10,
   "metadata": {},
   "outputs": [],
   "source": [
    "categories = [\"Corps humain\",\"Genre/espèce humaine\",\"Individu ou sujet\",\n",
    "            \"Personne relationnelle\",\"Personne droits et devoirs\"]\n",
    "pd.DataFrame({\n",
    "    \"category\" : categories,\n",
    "    \"precision\" : scores[0],\n",
    "    \"recall\" : scores[1],\n",
    "    \"f1-score\" : scores[2],\n",
    "    \"support\" : scores[3]\n",
    "}).set_index(\"category\").to_csv(\"./models/multicat/scores.csv\")"
   ]
  },
  {
   "cell_type": "code",
   "execution_count": 11,
   "metadata": {},
   "outputs": [
    {
     "data": {
      "text/html": [
       "<div>\n",
       "<style scoped>\n",
       "    .dataframe tbody tr th:only-of-type {\n",
       "        vertical-align: middle;\n",
       "    }\n",
       "\n",
       "    .dataframe tbody tr th {\n",
       "        vertical-align: top;\n",
       "    }\n",
       "\n",
       "    .dataframe thead th {\n",
       "        text-align: right;\n",
       "    }\n",
       "</style>\n",
       "<table border=\"1\" class=\"dataframe\">\n",
       "  <thead>\n",
       "    <tr style=\"text-align: right;\">\n",
       "      <th></th>\n",
       "      <th>precision</th>\n",
       "      <th>recall</th>\n",
       "      <th>f1-score</th>\n",
       "      <th>support</th>\n",
       "    </tr>\n",
       "    <tr>\n",
       "      <th>category</th>\n",
       "      <th></th>\n",
       "      <th></th>\n",
       "      <th></th>\n",
       "      <th></th>\n",
       "    </tr>\n",
       "  </thead>\n",
       "  <tbody>\n",
       "    <tr>\n",
       "      <th>Corps humain</th>\n",
       "      <td>0.780000</td>\n",
       "      <td>0.812500</td>\n",
       "      <td>0.795918</td>\n",
       "      <td>48</td>\n",
       "    </tr>\n",
       "    <tr>\n",
       "      <th>Genre/espèce humaine</th>\n",
       "      <td>0.722222</td>\n",
       "      <td>0.764706</td>\n",
       "      <td>0.742857</td>\n",
       "      <td>51</td>\n",
       "    </tr>\n",
       "    <tr>\n",
       "      <th>Individu ou sujet</th>\n",
       "      <td>0.656250</td>\n",
       "      <td>0.420000</td>\n",
       "      <td>0.512195</td>\n",
       "      <td>50</td>\n",
       "    </tr>\n",
       "    <tr>\n",
       "      <th>Personne relationnelle</th>\n",
       "      <td>0.622449</td>\n",
       "      <td>0.726190</td>\n",
       "      <td>0.670330</td>\n",
       "      <td>84</td>\n",
       "    </tr>\n",
       "    <tr>\n",
       "      <th>Personne droits et devoirs</th>\n",
       "      <td>0.659091</td>\n",
       "      <td>0.644444</td>\n",
       "      <td>0.651685</td>\n",
       "      <td>45</td>\n",
       "    </tr>\n",
       "  </tbody>\n",
       "</table>\n",
       "</div>"
      ],
      "text/plain": [
       "                            precision    recall  f1-score  support\n",
       "category                                                          \n",
       "Corps humain                 0.780000  0.812500  0.795918       48\n",
       "Genre/espèce humaine         0.722222  0.764706  0.742857       51\n",
       "Individu ou sujet            0.656250  0.420000  0.512195       50\n",
       "Personne relationnelle       0.622449  0.726190  0.670330       84\n",
       "Personne droits et devoirs   0.659091  0.644444  0.651685       45"
      ]
     },
     "execution_count": 11,
     "metadata": {},
     "output_type": "execute_result"
    }
   ],
   "source": [
    "pd.DataFrame({\n",
    "    \"category\" : categories,\n",
    "    \"precision\" : scores[0],\n",
    "    \"recall\" : scores[1],\n",
    "    \"f1-score\" : scores[2],\n",
    "    \"support\" : scores[3]\n",
    "}).set_index(\"category\")"
   ]
  },
  {
   "cell_type": "code",
   "execution_count": 12,
   "metadata": {},
   "outputs": [
    {
     "name": "stdout",
     "output_type": "stream",
     "text": [
      "Folder '/models/multicat' successfully zipped to 'multicat.zip'\n"
     ]
    }
   ],
   "source": [
    "import os\n",
    "import zipfile\n",
    "\n",
    "def zip_folder(folder_path, zip_file_path):\n",
    "    with zipfile.ZipFile(zip_file_path, 'w', zipfile.ZIP_DEFLATED) as zipf:\n",
    "        for root, dirs, files in os.walk(folder_path):\n",
    "            for file in files:\n",
    "                # Create a relative path for the file inside the zip archive\n",
    "                file_path = os.path.join(root, file)\n",
    "                relative_path = os.path.relpath(file_path, folder_path)\n",
    "                zipf.write(file_path, relative_path)\n",
    "    print(f\"Folder '{folder_path}' successfully zipped to '{zip_file_path}'\")\n",
    "\n",
    "# Example usage\n",
    "folder_path = '/models/multicat'\n",
    "zip_file_path = 'multicat.zip'\n",
    "zip_folder(folder_path, zip_file_path)\n"
   ]
  },
  {
   "cell_type": "markdown",
   "metadata": {},
   "source": [
    "# Prediction"
   ]
  },
  {
   "cell_type": "code",
   "execution_count": null,
   "metadata": {},
   "outputs": [
    {
     "ename": "KeyError",
     "evalue": "'label'",
     "output_type": "error",
     "traceback": [
      "\u001b[0;31m---------------------------------------------------------------------------\u001b[0m\n",
      "\u001b[0;31mKeyError\u001b[0m                                  Traceback (most recent call last)\n",
      "File \u001b[0;32m/opt/mamba/lib/python3.11/site-packages/pandas/core/indexes/base.py:3805\u001b[0m, in \u001b[0;36mIndex.get_loc\u001b[0;34m(self, key)\u001b[0m\n",
      "\u001b[1;32m   3804\u001b[0m \u001b[39mtry\u001b[39;00m:\n",
      "\u001b[0;32m-> 3805\u001b[0m     \u001b[39mreturn\u001b[39;00m \u001b[39mself\u001b[39;49m\u001b[39m.\u001b[39;49m_engine\u001b[39m.\u001b[39;49mget_loc(casted_key)\n",
      "\u001b[1;32m   3806\u001b[0m \u001b[39mexcept\u001b[39;00m \u001b[39mKeyError\u001b[39;00m \u001b[39mas\u001b[39;00m err:\n",
      "\n",
      "File \u001b[0;32mindex.pyx:167\u001b[0m, in \u001b[0;36mpandas._libs.index.IndexEngine.get_loc\u001b[0;34m()\u001b[0m\n",
      "\n",
      "File \u001b[0;32mindex.pyx:196\u001b[0m, in \u001b[0;36mpandas._libs.index.IndexEngine.get_loc\u001b[0;34m()\u001b[0m\n",
      "\n",
      "File \u001b[0;32mpandas/_libs/hashtable_class_helper.pxi:7081\u001b[0m, in \u001b[0;36mpandas._libs.hashtable.PyObjectHashTable.get_item\u001b[0;34m()\u001b[0m\n",
      "\n",
      "File \u001b[0;32mpandas/_libs/hashtable_class_helper.pxi:7089\u001b[0m, in \u001b[0;36mpandas._libs.hashtable.PyObjectHashTable.get_item\u001b[0;34m()\u001b[0m\n",
      "\n",
      "\u001b[0;31mKeyError\u001b[0m: 'label'\n",
      "\n",
      "The above exception was the direct cause of the following exception:\n",
      "\n",
      "\u001b[0;31mKeyError\u001b[0m                                  Traceback (most recent call last)\n",
      "\u001b[1;32m/home/onyxia/CCNE/src/bert.ipynb Cell 20\u001b[0m line \u001b[0;36m2\n",
      "\u001b[1;32m      <a href='vscode-notebook-cell://user-lmaurice-730813-0.user.lab.sspcloud.fr/home/onyxia/CCNE/src/bert.ipynb#X34sdnNjb2RlLXJlbW90ZQ%3D%3D?line=0'>1</a>\u001b[0m \u001b[39mimport\u001b[39;00m \u001b[39mnumpy\u001b[39;00m \u001b[39mas\u001b[39;00m \u001b[39mnp\u001b[39;00m\n",
      "\u001b[0;32m----> <a href='vscode-notebook-cell://user-lmaurice-730813-0.user.lab.sspcloud.fr/home/onyxia/CCNE/src/bert.ipynb#X34sdnNjb2RlLXJlbW90ZQ%3D%3D?line=1'>2</a>\u001b[0m pred_data \u001b[39m=\u001b[39m annotations_file[annotations_file[\u001b[39m\"\u001b[39;49m\u001b[39mlabel\u001b[39;49m\u001b[39m\"\u001b[39;49m]\u001b[39m.\u001b[39misna()][[\u001b[39m\"\u001b[39m\u001b[39mtext\u001b[39m\u001b[39m\"\u001b[39m]]\u001b[39m.\u001b[39mdropna()\n",
      "\u001b[1;32m      <a href='vscode-notebook-cell://user-lmaurice-730813-0.user.lab.sspcloud.fr/home/onyxia/CCNE/src/bert.ipynb#X34sdnNjb2RlLXJlbW90ZQ%3D%3D?line=2'>3</a>\u001b[0m pred_loader \u001b[39m=\u001b[39m bert\u001b[39m.\u001b[39mencode(pred_data\u001b[39m.\u001b[39mtext\u001b[39m.\u001b[39mvalues, batch_size\u001b[39m=\u001b[39mbatch_size)\n",
      "\u001b[1;32m      <a href='vscode-notebook-cell://user-lmaurice-730813-0.user.lab.sspcloud.fr/home/onyxia/CCNE/src/bert.ipynb#X34sdnNjb2RlLXJlbW90ZQ%3D%3D?line=3'>4</a>\u001b[0m pred_proba \u001b[39m=\u001b[39m bert\u001b[39m.\u001b[39mpredict_with_model(pred_loader, model_path\u001b[39m=\u001b[39m\u001b[39m'\u001b[39m\u001b[39m./models/clickbait\u001b[39m\u001b[39m'\u001b[39m)\n",
      "\n",
      "File \u001b[0;32m/opt/mamba/lib/python3.11/site-packages/pandas/core/frame.py:4090\u001b[0m, in \u001b[0;36mDataFrame.__getitem__\u001b[0;34m(self, key)\u001b[0m\n",
      "\u001b[1;32m   4088\u001b[0m \u001b[39mif\u001b[39;00m \u001b[39mself\u001b[39m\u001b[39m.\u001b[39mcolumns\u001b[39m.\u001b[39mnlevels \u001b[39m>\u001b[39m \u001b[39m1\u001b[39m:\n",
      "\u001b[1;32m   4089\u001b[0m     \u001b[39mreturn\u001b[39;00m \u001b[39mself\u001b[39m\u001b[39m.\u001b[39m_getitem_multilevel(key)\n",
      "\u001b[0;32m-> 4090\u001b[0m indexer \u001b[39m=\u001b[39m \u001b[39mself\u001b[39;49m\u001b[39m.\u001b[39;49mcolumns\u001b[39m.\u001b[39;49mget_loc(key)\n",
      "\u001b[1;32m   4091\u001b[0m \u001b[39mif\u001b[39;00m is_integer(indexer):\n",
      "\u001b[1;32m   4092\u001b[0m     indexer \u001b[39m=\u001b[39m [indexer]\n",
      "\n",
      "File \u001b[0;32m/opt/mamba/lib/python3.11/site-packages/pandas/core/indexes/base.py:3812\u001b[0m, in \u001b[0;36mIndex.get_loc\u001b[0;34m(self, key)\u001b[0m\n",
      "\u001b[1;32m   3807\u001b[0m     \u001b[39mif\u001b[39;00m \u001b[39misinstance\u001b[39m(casted_key, \u001b[39mslice\u001b[39m) \u001b[39mor\u001b[39;00m (\n",
      "\u001b[1;32m   3808\u001b[0m         \u001b[39misinstance\u001b[39m(casted_key, abc\u001b[39m.\u001b[39mIterable)\n",
      "\u001b[1;32m   3809\u001b[0m         \u001b[39mand\u001b[39;00m \u001b[39many\u001b[39m(\u001b[39misinstance\u001b[39m(x, \u001b[39mslice\u001b[39m) \u001b[39mfor\u001b[39;00m x \u001b[39min\u001b[39;00m casted_key)\n",
      "\u001b[1;32m   3810\u001b[0m     ):\n",
      "\u001b[1;32m   3811\u001b[0m         \u001b[39mraise\u001b[39;00m InvalidIndexError(key)\n",
      "\u001b[0;32m-> 3812\u001b[0m     \u001b[39mraise\u001b[39;00m \u001b[39mKeyError\u001b[39;00m(key) \u001b[39mfrom\u001b[39;00m \u001b[39merr\u001b[39;00m\n",
      "\u001b[1;32m   3813\u001b[0m \u001b[39mexcept\u001b[39;00m \u001b[39mTypeError\u001b[39;00m:\n",
      "\u001b[1;32m   3814\u001b[0m     \u001b[39m# If we have a listlike key, _check_indexing_error will raise\u001b[39;00m\n",
      "\u001b[1;32m   3815\u001b[0m     \u001b[39m#  InvalidIndexError. Otherwise we fall through and re-raise\u001b[39;00m\n",
      "\u001b[1;32m   3816\u001b[0m     \u001b[39m#  the TypeError.\u001b[39;00m\n",
      "\u001b[1;32m   3817\u001b[0m     \u001b[39mself\u001b[39m\u001b[39m.\u001b[39m_check_indexing_error(key)\n",
      "\n",
      "\u001b[0;31mKeyError\u001b[0m: 'label'"
     ]
    }
   ],
   "source": [
    "import numpy as np\n",
    "pred_data = annotations_file[annotations_file[\"Personne\"].isna()][[\"text\"]].dropna()\n",
    "pred_loader = bert.encode(pred_data.text.values, batch_size=batch_size)\n",
    "pred_proba = bert.predict_with_model(pred_loader, model_path='./models/clickbait')\n",
    "pred_data['pred_label'] = np.argmax(pred_proba, axis=1)\n",
    "pred_data['pred_proba'] = np.max(pred_proba, axis=1)"
   ]
  },
  {
   "cell_type": "code",
   "execution_count": null,
   "metadata": {},
   "outputs": [
    {
     "data": {
      "text/plain": [
       "count    598.000000\n",
       "mean       0.292393\n",
       "std        0.072298\n",
       "min        0.189324\n",
       "25%        0.240241\n",
       "50%        0.262016\n",
       "75%        0.335396\n",
       "max        0.440672\n",
       "Name: pred_proba, dtype: float64"
      ]
     },
     "metadata": {},
     "output_type": "display_data"
    }
   ],
   "source": [
    "pred_data[\"pred_proba\"].describe()"
   ]
  },
  {
   "cell_type": "code",
   "execution_count": null,
   "metadata": {},
   "outputs": [
    {
     "data": {
      "text/html": [
       "<div>\n",
       "<style scoped>\n",
       "    .dataframe tbody tr th:only-of-type {\n",
       "        vertical-align: middle;\n",
       "    }\n",
       "\n",
       "    .dataframe tbody tr th {\n",
       "        vertical-align: top;\n",
       "    }\n",
       "\n",
       "    .dataframe thead th {\n",
       "        text-align: right;\n",
       "    }\n",
       "</style>\n",
       "<table border=\"1\" class=\"dataframe\">\n",
       "  <thead>\n",
       "    <tr style=\"text-align: right;\">\n",
       "      <th></th>\n",
       "      <th>text</th>\n",
       "      <th>pred_label</th>\n",
       "      <th>pred_proba</th>\n",
       "    </tr>\n",
       "    <tr>\n",
       "      <th>sentence_id</th>\n",
       "      <th></th>\n",
       "      <th></th>\n",
       "      <th></th>\n",
       "    </tr>\n",
       "  </thead>\n",
       "  <tbody>\n",
       "    <tr>\n",
       "      <th>1120067</th>\n",
       "      <td>Et à l’importance nouvelle que prenait le projet parental répondait l’émergence d’une forme  \\nnouvelle de responsabilité médicale et sociale quant au devenir de cet embryon avant son  \\ntransfert dans le corps de la mère. C’est dans ce contexte radicalement nouveau de début de la vie humaine qu’est apparue la  \\nquestion nouvelle du devenir de ces embryons in vitro lorsqu’ils n’étaient pas transférés dans  \\nle corps de leur mère. Il  y  a  aujourd’hui  au  moins  trois  circonstances  qui  vont  conduire  à  une  décision \\nmédicale d’absence de transfert  d’un embryon créé  in vitro  par AMP dans le cadre d’un  \\nprojet parental :\\n1. lorsqu’une anomalie majeure ou une interruption du développement d’un embryon est  \\nmanifeste in vitro, avant son transfert dans le corps de sa mère  ;\\n2. lorsqu’au cours d’un diagnostic préimplantatoire (DPI), un embryon se révèle être porteur  \\nde la séquence génétique en cause dans une maladie familiale d’une particulière gravité et  \\n4\\nincurable  au  moment  du  diagnostic,  séquence  génétique  dont  la  recherche  a  motivé  la  \\nréalisation du DPI 1.</td>\n",
       "      <td>0</td>\n",
       "      <td>0.435750</td>\n",
       "    </tr>\n",
       "    <tr>\n",
       "      <th>900167</th>\n",
       "      <td>9\\ndemande d’un enfant devenu majeur le rapprochement des parties concernées et à \\nrésoudre des dilemmes dans des situations difficiles. Avant d’éviter toute ambiguïté, le \\nnouvel article L 1477 du Code de l’action sociale et des familles précise que l’accès d’une \\npersonne à ses origines est sans effet sur l’état civil et la filiation, « il ne fait naître ni \\ndroit ni obligation au profit ou à la charge de qui que ce soit ». La Cour  europé enne des droits de l’hom me a rejeté le 13 février 2003  à Strasbourg,  la requête \\nd’une  personne  de 37 ans, abandonné e avec demande de secret et adoptée par la suite, qui \\nalléguait que le secret de sa naissance et l’impossibilité qui en résultait pour elle de conna ître \\nses origines constituaient une violation de ses droits garantis par l’article 8 de la Conve ntion \\net une discrimination contraire à l’article 14 de la Conve ntion.</td>\n",
       "      <td>4</td>\n",
       "      <td>0.258446</td>\n",
       "    </tr>\n",
       "    <tr>\n",
       "      <th>1290186</th>\n",
       "      <td>2.1. Mutations du concept de santé : progrès et nouvelles \\nfragilités \\n \\n(i) Les maladies chroniques, un nouveau paradigme pour notre système de \\nsanté \\n \\nLes maladies dites « chroniques », sont fréquentes - elles affectent en France \\nenviron 15 millions de personnes, soit 20 % de la population, dont 9 millions sont \\ndéclarées en affections de longue durée (ALD). Le nombre de maladies \\nchroniques et de patients atteints est en augmentation constante, conséquence de \\nl’allongement de la durée de vie, de l’efficacité des traitements (VIH, cancers , \\nmaladies cardiovasculaires), mais aussi de multiples facteurs environnementaux \\n« pathogènes », regroupés sous la notion nouvelle « d’exposome  » qui souligne le \\nlien entre santé et environnement.</td>\n",
       "      <td>2</td>\n",
       "      <td>0.251902</td>\n",
       "    </tr>\n",
       "    <tr>\n",
       "      <th>250110</th>\n",
       "      <td>Le droit de savoir\\nIl faut tenir chaque sujet au courant des éventuels résultats et l'informer clairement de leur\\nsignification. Mais la connaissance peut limiter l'autonomie de l'individu. Ce peut être la situation dans les maladies monogéniques où la connaissance peut modifier\\nle comportement d'un sujet, par exemple dans les maladies liées au sexe, connaissance\\nchez une femme d'être conductrice de la maladie (myopathie, hémophilie...), dans les\\nmaladies dominantes, connaissance d'être porteur du gène muté, donc d'être atteint dans\\nl'avenir (chorée de Huntington).</td>\n",
       "      <td>0</td>\n",
       "      <td>0.322948</td>\n",
       "    </tr>\n",
       "    <tr>\n",
       "      <th>1330246</th>\n",
       "      <td>Il apparait  important,  quelle  que soit la relative  facilitée  de leur mise  en œuvre,  \\nde développer  des approches  expérimentales  visant  à les rendre  plus sûres,  voire  \\nréversibles,  et de les encadrer  lors de leur application  au monde  du vivant. - Les applications  à tout le vivant  non humain  des modifications  ciblées  du génome  sont \\nsource  de bénéfices  potentiels  indéniables. Cependant  il convient  de considérer  le bienêtre animal  et d’éventuelles  conséquences  non maîtrisables,  voire  dramatiques,  comme  \\nle bouleversement  d’écosystèmes  et d’ensembles  évolutifs.</td>\n",
       "      <td>0</td>\n",
       "      <td>0.310932</td>\n",
       "    </tr>\n",
       "    <tr>\n",
       "      <th>...</th>\n",
       "      <td>...</td>\n",
       "      <td>...</td>\n",
       "      <td>...</td>\n",
       "    </tr>\n",
       "    <tr>\n",
       "      <th>1360729</th>\n",
       "      <td>A quoi consent une personne malade lorsqu’elle accepte que les données la concernant \\nsoient utilisées  ? : Comme souligné  par le  Groupe de travail « Article 29  »121 : « le \\nconsentement ne peut être valable que si la personne concernée est véritablement \\nen mesure d’exercer un choix et s’il n’y a pas de risque de tromperie, \\nd’intimidation, de coercition ou de conséquences négatives importantes (par ex. coûts supplémentaires importants) si elle ne donne pas son consentement.</td>\n",
       "      <td>4</td>\n",
       "      <td>0.269643</td>\n",
       "    </tr>\n",
       "    <tr>\n",
       "      <th>920101</th>\n",
       "      <td>Les  conditions  du  dépistage  devraient  passer  par  un \\nrenforcement  des  institutions  capables  de  le  mettre  en  œuvre  (médecine \\nscolaire, prisons, frontières etc.), et une formati on spécifique des infirmiers et \\nmédecins appelés à le pratiquer. Accueillir des personnes vulnérables ne saurait se résumer à une procédure de \\ndépistage assortie de contrôles d’identité dissuasi fs. La priorité devrait donc \\nêtre dans ce domaine à la création de dispensaires de dépistage anonyme et \\ngratuit sur le modèle des centres de dépistage anon yme et gratuit du VIH \\nimpliquant  le  consentement  de  la  personne.</td>\n",
       "      <td>3</td>\n",
       "      <td>0.247434</td>\n",
       "    </tr>\n",
       "    <tr>\n",
       "      <th>820288</th>\n",
       "      <td>Il ne faut pas non plus exclure l’éventualité d’un échec différé dans le temps \\naprès un apparent succès immédiat de la greffe. c. Etat des lieux concernant la demande de reconstruction \\nIl est très difficile d’avoir une idée précise du nombre de personnes défigurées qui, \\naujourd’hui, en France, pourraient demander bénéficier d’une ATC. Les indications données \\npar les chirurgiens reconstructeurs auditionnés laissent penser que peu de malades seraient en \\nl’état actuel de la recherche désireux d’y recourir.</td>\n",
       "      <td>2</td>\n",
       "      <td>0.220242</td>\n",
       "    </tr>\n",
       "    <tr>\n",
       "      <th>1370027</th>\n",
       "      <td>C’est le sens de la proposition du CCNE de mettre en œuvre des États généraux \\npour une Éthique de la santé publique, en coordination avec les i nstances de santé publique nationales ou régionales et avec les espaces de réflexion éthique régionaux. 137 \\n \\n \\n6 \\n PREAMBULE  \\n \\nLa pandémie de la Covid -19 a fait surgir au grand jour  la dimension collective de la \\nsanté humaine, ce que l’on appelle la  santé publique,  ainsi que les dilemmes \\néthiques  qu’elle peut soulever. Dessiner ce cadre éthique est d’autant plus important \\nqu’il ne porte pas seulement sur une crise sanitaire ponctuelle, dans l’urgence, mais \\nsur une crise durable, dans le moyen terme, ainsi qu’à des e njeux globaux, dans le \\nlong terme.</td>\n",
       "      <td>1</td>\n",
       "      <td>0.307737</td>\n",
       "    </tr>\n",
       "    <tr>\n",
       "      <th>1260444</th>\n",
       "      <td>Cette \\nsouffra nce doit être prise en compte. Les techniques d’AMP sont des traitements contraignants et coûteux, et la rareté des dons de gamètes \\ncompromet actuellement une prise en charge satisfaisante des infertilités pathologiques  ; la demande \\nd’accès à l’IAD de per sonnes non stériles et la r evendication d’une égalité des droits appliquée à des \\nconditions différentes, stérilité d’origine pathologique ou demandes  «  sociétales  » d’AMP, mettraient \\nen péril deux grands principes du système de santé en France, fondé sur la solidarité  : la gratuité du \\ndon d’organes et des produits du corps humain, dont les gamètes,  et la prise en charge des traitements \\nd’infertilité d'origine pathologique par la solidarité nationale. Elles faciliteraient la constitution de \\ncircuits parallè les et renforceraient la pression qui s’exerce actuellement pour le développement et la \\n                                                 \\n40 Cette absence de distinction entre les deux catégories qui sont, pourtant, dans une situation très différente, est l’un des \\nbiais fréquents des études actuellement publiées.</td>\n",
       "      <td>0</td>\n",
       "      <td>0.364088</td>\n",
       "    </tr>\n",
       "  </tbody>\n",
       "</table>\n",
       "<p>598 rows × 3 columns</p>\n",
       "</div>"
      ],
      "text/plain": [
       "                                                                                                                                                                                                                                                                                                                                                                                                                                                                                                                                                                                                                                                                                                                                                                                                                                                                                                                                                                                                                                                                                                                                                                             text  \\\n",
       "sentence_id                                                                                                                                                                                                                                                                                                                                                                                                                                                                                                                                                                                                                                                                                                                                                                                                                                                                                                                                                                                                                                                                                                                                                                         \n",
       "1120067                 Et à l’importance nouvelle que prenait le projet parental répondait l’émergence d’une forme  \\nnouvelle de responsabilité médicale et sociale quant au devenir de cet embryon avant son  \\ntransfert dans le corps de la mère. C’est dans ce contexte radicalement nouveau de début de la vie humaine qu’est apparue la  \\nquestion nouvelle du devenir de ces embryons in vitro lorsqu’ils n’étaient pas transférés dans  \\nle corps de leur mère. Il  y  a  aujourd’hui  au  moins  trois  circonstances  qui  vont  conduire  à  une  décision \\nmédicale d’absence de transfert  d’un embryon créé  in vitro  par AMP dans le cadre d’un  \\nprojet parental :\\n1. lorsqu’une anomalie majeure ou une interruption du développement d’un embryon est  \\nmanifeste in vitro, avant son transfert dans le corps de sa mère  ;\\n2. lorsqu’au cours d’un diagnostic préimplantatoire (DPI), un embryon se révèle être porteur  \\nde la séquence génétique en cause dans une maladie familiale d’une particulière gravité et  \\n4\\nincurable  au  moment  du  diagnostic,  séquence  génétique  dont  la  recherche  a  motivé  la  \\nréalisation du DPI 1.   \n",
       "900167                                                                                                                                                                                                                                           9\\ndemande d’un enfant devenu majeur le rapprochement des parties concernées et à \\nrésoudre des dilemmes dans des situations difficiles. Avant d’éviter toute ambiguïté, le \\nnouvel article L 1477 du Code de l’action sociale et des familles précise que l’accès d’une \\npersonne à ses origines est sans effet sur l’état civil et la filiation, « il ne fait naître ni \\ndroit ni obligation au profit ou à la charge de qui que ce soit ». La Cour  europé enne des droits de l’hom me a rejeté le 13 février 2003  à Strasbourg,  la requête \\nd’une  personne  de 37 ans, abandonné e avec demande de secret et adoptée par la suite, qui \\nalléguait que le secret de sa naissance et l’impossibilité qui en résultait pour elle de conna ître \\nses origines constituaient une violation de ses droits garantis par l’article 8 de la Conve ntion \\net une discrimination contraire à l’article 14 de la Conve ntion.   \n",
       "1290186                                                                                                                                                                                                                                                                                                                                                                              2.1. Mutations du concept de santé : progrès et nouvelles \\nfragilités \\n \\n(i) Les maladies chroniques, un nouveau paradigme pour notre système de \\nsanté \\n \\nLes maladies dites « chroniques », sont fréquentes - elles affectent en France \\nenviron 15 millions de personnes, soit 20 % de la population, dont 9 millions sont \\ndéclarées en affections de longue durée (ALD). Le nombre de maladies \\nchroniques et de patients atteints est en augmentation constante, conséquence de \\nl’allongement de la durée de vie, de l’efficacité des traitements (VIH, cancers , \\nmaladies cardiovasculaires), mais aussi de multiples facteurs environnementaux \\n« pathogènes », regroupés sous la notion nouvelle « d’exposome  » qui souligne le \\nlien entre santé et environnement.   \n",
       "250110                                                                                                                                                                                                                                                                                                                                                                                                                                                                                                                                                                          Le droit de savoir\\nIl faut tenir chaque sujet au courant des éventuels résultats et l'informer clairement de leur\\nsignification. Mais la connaissance peut limiter l'autonomie de l'individu. Ce peut être la situation dans les maladies monogéniques où la connaissance peut modifier\\nle comportement d'un sujet, par exemple dans les maladies liées au sexe, connaissance\\nchez une femme d'être conductrice de la maladie (myopathie, hémophilie...), dans les\\nmaladies dominantes, connaissance d'être porteur du gène muté, donc d'être atteint dans\\nl'avenir (chorée de Huntington).   \n",
       "1330246                                                                                                                                                                                                                                                                                                                                                                                                                                                                                                                                           Il apparait  important,  quelle  que soit la relative  facilitée  de leur mise  en œuvre,  \\nde développer  des approches  expérimentales  visant  à les rendre  plus sûres,  voire  \\nréversibles,  et de les encadrer  lors de leur application  au monde  du vivant. - Les applications  à tout le vivant  non humain  des modifications  ciblées  du génome  sont \\nsource  de bénéfices  potentiels  indéniables. Cependant  il convient  de considérer  le bienêtre animal  et d’éventuelles  conséquences  non maîtrisables,  voire  dramatiques,  comme  \\nle bouleversement  d’écosystèmes  et d’ensembles  évolutifs.   \n",
       "...                                                                                                                                                                                                                                                                                                                                                                                                                                                                                                                                                                                                                                                                                                                                                                                                                                                                                                                                                                                                                                                                                                                                                                           ...   \n",
       "1360729                                                                                                                                                                                                                                                                                                                                                                                                                                                                                                                                                                                                                                                                   A quoi consent une personne malade lorsqu’elle accepte que les données la concernant \\nsoient utilisées  ? : Comme souligné  par le  Groupe de travail « Article 29  »121 : « le \\nconsentement ne peut être valable que si la personne concernée est véritablement \\nen mesure d’exercer un choix et s’il n’y a pas de risque de tromperie, \\nd’intimidation, de coercition ou de conséquences négatives importantes (par ex. coûts supplémentaires importants) si elle ne donne pas son consentement.   \n",
       "920101                                                                                                                                                                                                                                                                                                                                                                                                                                                                                                                          Les  conditions  du  dépistage  devraient  passer  par  un \\nrenforcement  des  institutions  capables  de  le  mettre  en  œuvre  (médecine \\nscolaire, prisons, frontières etc.), et une formati on spécifique des infirmiers et \\nmédecins appelés à le pratiquer. Accueillir des personnes vulnérables ne saurait se résumer à une procédure de \\ndépistage assortie de contrôles d’identité dissuasi fs. La priorité devrait donc \\nêtre dans ce domaine à la création de dispensaires de dépistage anonyme et \\ngratuit sur le modèle des centres de dépistage anon yme et gratuit du VIH \\nimpliquant  le  consentement  de  la  personne.   \n",
       "820288                                                                                                                                                                                                                                                                                                                                                                                                                                                                                                                                                                                                                                     Il ne faut pas non plus exclure l’éventualité d’un échec différé dans le temps \\naprès un apparent succès immédiat de la greffe. c. Etat des lieux concernant la demande de reconstruction \\nIl est très difficile d’avoir une idée précise du nombre de personnes défigurées qui, \\naujourd’hui, en France, pourraient demander bénéficier d’une ATC. Les indications données \\npar les chirurgiens reconstructeurs auditionnés laissent penser que peu de malades seraient en \\nl’état actuel de la recherche désireux d’y recourir.   \n",
       "1370027                                                                                                                                                                                                                                                                                                                                                                                                                   C’est le sens de la proposition du CCNE de mettre en œuvre des États généraux \\npour une Éthique de la santé publique, en coordination avec les i nstances de santé publique nationales ou régionales et avec les espaces de réflexion éthique régionaux. 137 \\n \\n \\n6 \\n PREAMBULE  \\n \\nLa pandémie de la Covid -19 a fait surgir au grand jour  la dimension collective de la \\nsanté humaine, ce que l’on appelle la  santé publique,  ainsi que les dilemmes \\néthiques  qu’elle peut soulever. Dessiner ce cadre éthique est d’autant plus important \\nqu’il ne porte pas seulement sur une crise sanitaire ponctuelle, dans l’urgence, mais \\nsur une crise durable, dans le moyen terme, ainsi qu’à des e njeux globaux, dans le \\nlong terme.   \n",
       "1260444      Cette \\nsouffra nce doit être prise en compte. Les techniques d’AMP sont des traitements contraignants et coûteux, et la rareté des dons de gamètes \\ncompromet actuellement une prise en charge satisfaisante des infertilités pathologiques  ; la demande \\nd’accès à l’IAD de per sonnes non stériles et la r evendication d’une égalité des droits appliquée à des \\nconditions différentes, stérilité d’origine pathologique ou demandes  «  sociétales  » d’AMP, mettraient \\nen péril deux grands principes du système de santé en France, fondé sur la solidarité  : la gratuité du \\ndon d’organes et des produits du corps humain, dont les gamètes,  et la prise en charge des traitements \\nd’infertilité d'origine pathologique par la solidarité nationale. Elles faciliteraient la constitution de \\ncircuits parallè les et renforceraient la pression qui s’exerce actuellement pour le développement et la \\n                                                 \\n40 Cette absence de distinction entre les deux catégories qui sont, pourtant, dans une situation très différente, est l’un des \\nbiais fréquents des études actuellement publiées.   \n",
       "\n",
       "             pred_label  pred_proba  \n",
       "sentence_id                          \n",
       "1120067               0    0.435750  \n",
       "900167                4    0.258446  \n",
       "1290186               2    0.251902  \n",
       "250110                0    0.322948  \n",
       "1330246               0    0.310932  \n",
       "...                 ...         ...  \n",
       "1360729               4    0.269643  \n",
       "920101                3    0.247434  \n",
       "820288                2    0.220242  \n",
       "1370027               1    0.307737  \n",
       "1260444               0    0.364088  \n",
       "\n",
       "[598 rows x 3 columns]"
      ]
     },
     "metadata": {},
     "output_type": "display_data"
    }
   ],
   "source": [
    "pd.set_option('display.max_colwidth', None)  # Use None to show all the text, or set a large number\n",
    "\n",
    "pred_data"
   ]
  }
 ],
 "metadata": {
  "kernelspec": {
   "display_name": "ccne",
   "language": "python",
   "name": "python3"
  },
  "language_info": {
   "codemirror_mode": {
    "name": "ipython",
    "version": 3
   },
   "file_extension": ".py",
   "mimetype": "text/x-python",
   "name": "python",
   "nbconvert_exporter": "python",
   "pygments_lexer": "ipython3",
   "version": "3.12.2"
  }
 },
 "nbformat": 4,
 "nbformat_minor": 2
}
