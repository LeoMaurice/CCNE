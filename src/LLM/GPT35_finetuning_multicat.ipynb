{
 "cells": [
  {
   "cell_type": "markdown",
   "metadata": {},
   "source": [
    "A partir du fichier téléchargé depuis ActiveTiggers, il faut passer par description_annotations pour créer le fichier avec la phrase, l'id et l'annotation."
   ]
  },
  {
   "cell_type": "code",
   "execution_count": 1,
   "metadata": {},
   "outputs": [
    {
     "data": {
      "text/plain": [
       "RandomState(MT19937) at 0x1F648ACCB40"
      ]
     },
     "execution_count": 1,
     "metadata": {},
     "output_type": "execute_result"
    }
   ],
   "source": [
    "import numpy as np\n",
    "import random\n",
    "import torch\n",
    "import sklearn\n",
    "random_seed = 1968\n",
    "# Set random seed for NumPy\n",
    "np.random.seed(random_seed)\n",
    "\n",
    "# Set random seed for Python built-in random module\n",
    "random.seed(random_seed)\n",
    "\n",
    "# Set random seed for PyTorch\n",
    "torch.manual_seed(random_seed)\n",
    "\n",
    "# Set random seed for Scikit-learn\n",
    "sklearn.utils.check_random_state(random_seed)\n"
   ]
  },
  {
   "cell_type": "markdown",
   "metadata": {},
   "source": [
    "# Preping annotations"
   ]
  },
  {
   "cell_type": "code",
   "execution_count": 2,
   "metadata": {},
   "outputs": [
    {
     "data": {
      "text/html": [
       "<div>\n",
       "<style scoped>\n",
       "    .dataframe tbody tr th:only-of-type {\n",
       "        vertical-align: middle;\n",
       "    }\n",
       "\n",
       "    .dataframe tbody tr th {\n",
       "        vertical-align: top;\n",
       "    }\n",
       "\n",
       "    .dataframe thead th {\n",
       "        text-align: right;\n",
       "    }\n",
       "</style>\n",
       "<table border=\"1\" class=\"dataframe\">\n",
       "  <thead>\n",
       "    <tr style=\"text-align: right;\">\n",
       "      <th></th>\n",
       "      <th>Personne</th>\n",
       "      <th>sentence</th>\n",
       "    </tr>\n",
       "    <tr>\n",
       "      <th>sentence_id</th>\n",
       "      <th></th>\n",
       "      <th></th>\n",
       "    </tr>\n",
       "  </thead>\n",
       "  <tbody>\n",
       "    <tr>\n",
       "      <th>1220587</th>\n",
       "      <td>Personne responsable et autonome</td>\n",
       "      <td>Il importe donc de tenir compte de toutes les ...</td>\n",
       "    </tr>\n",
       "    <tr>\n",
       "      <th>1291195</th>\n",
       "      <td>Personne responsable et autonome</td>\n",
       "      <td>Le principe fondamental d’une garantie humaine...</td>\n",
       "    </tr>\n",
       "    <tr>\n",
       "      <th>1360306</th>\n",
       "      <td>Personne responsable et autonome</td>\n",
       "      <td>Ces personnes donnent un consentement qui relè...</td>\n",
       "    </tr>\n",
       "    <tr>\n",
       "      <th>580205</th>\n",
       "      <td>Personne responsable et autonome</td>\n",
       "      <td>Sur le plan éthique, cette évolution peut être...</td>\n",
       "    </tr>\n",
       "    <tr>\n",
       "      <th>700014</th>\n",
       "      <td>Personne responsable et autonome</td>\n",
       "      <td>C'est dans ce cadre que peut se\\nposer la ques...</td>\n",
       "    </tr>\n",
       "  </tbody>\n",
       "</table>\n",
       "</div>"
      ],
      "text/plain": [
       "                                     Personne  \\\n",
       "sentence_id                                     \n",
       "1220587      Personne responsable et autonome   \n",
       "1291195      Personne responsable et autonome   \n",
       "1360306      Personne responsable et autonome   \n",
       "580205       Personne responsable et autonome   \n",
       "700014       Personne responsable et autonome   \n",
       "\n",
       "                                                      sentence  \n",
       "sentence_id                                                     \n",
       "1220587      Il importe donc de tenir compte de toutes les ...  \n",
       "1291195      Le principe fondamental d’une garantie humaine...  \n",
       "1360306      Ces personnes donnent un consentement qui relè...  \n",
       "580205       Sur le plan éthique, cette évolution peut être...  \n",
       "700014       C'est dans ce cadre que peut se\\nposer la ques...  "
      ]
     },
     "execution_count": 2,
     "metadata": {},
     "output_type": "execute_result"
    }
   ],
   "source": [
    "import pandas as pd\n",
    "\n",
    "current_annotations_file = \"../../data/intermediate/annotations/personne_withSentence_1400annotations_2024-07-15_ActiveTigger.csv\"\n",
    "\n",
    "annotations_file = pd.read_csv(current_annotations_file, dtype = {'sentence_id':'int', \n",
    "'Personne':'str','sentence':'str'}).set_index('sentence_id')\n",
    "\n",
    "annotations_file.head(5)"
   ]
  },
  {
   "cell_type": "code",
   "execution_count": 3,
   "metadata": {},
   "outputs": [
    {
     "name": "stdout",
     "output_type": "stream",
     "text": [
      "Tu es un expert en éthique qui doit classifier des phrases présentes dans les textes d'un comité de bioéthique. Le but est de comprendre le traitement de la personne/de l'individu/de l'humain dans ces questionnements éthiques. \n",
      "Tu dois classifier une phrase en français parmi l'une des catégories suivantes : Corps humain, Genre/espèce humaine, Individu ou sujet, Personne à protéger, Personne relationnelle, Personne responsable et autonome, Poubelle, Sentiment humain. \n",
      "Ne fais pas une phrase complète, ni ne donne de justification, juste donne l'intitulé de la catégorie.\n",
      "Voici une courte description de chaque catégorie :\n",
      "Corps humain = tout ce qui réfère directement au corps humain, comme le matériel biologique, des explications biologiques ou les débats autour du statut de l'embryon.\n",
      "Genre/espèce humaine = tout ce qui relève de ce que l'humanité partage en commun, le fait d'être un être humain et de ce que l'humanité partage avec le reste du vivant, en particulier mais pas que les questions d'écologie.\n",
      "Individu ou sujet = tout ce qui relève de la statistique, ou de l'économie, compter les gens, faire des essais en double aveugle, ou en parler comme d'une population à gérer, ou les calculs bénéfices risques. Par exemple, la gestion des prisons fait partie de cette catégorie, ou encore la gestion du système de santé. Cette catégorie inclut aussi les cas où la raison public est supérieure à l'individu ou certaines questions de gestion d'épidémie.\n",
      "Personne à protéger = tout ce qui relève de l'idée de protection de la personne, en particulier dans un sens médicale. Le médecin est responsable du patient, et pas le patient de lui-même. Cela inclut par exemple mais pas que : le respect de la personne, ou le fait de la protéger contre son manque d'autonomie, ou encore le fait de faire respecter le droit de la personne.\n",
      "Personne responsable et autonome = tout ce qui relève de conserver l'autonomie de la personne ou de traiter la personne comme un agent responsable de ses actes, en particulier une responsabilité juridique (comme une personne qui doit donner son consentement). S'applique aussi quand la personne est capable de se déterminer grâce à l'entourage, grâce à ses relations par exemple avec le personnel médical.\n",
      "Personne relationnelle = quand la personne est définie par son entourage, ou quand son entourage est important. Par exemple, si on parle d'une personne de confiance ou collégialité. Cette catégorie est aussi une catégorie intermédiaire entre personne à protéger et personne responsable et autonome.\n",
      "Sentiment humain = catégorie plus rare mais importante qui inclut les cas où ce sont les sentiments que nous éprouvons en tant qu'humain qui sont importants comme la dignité, l'empathie.\n",
      "Poubelle = catégorie à utiliser si et seulement si le texte ne réfère pas à la personne (erreur de frappe comme personne l ou personne lle).\n",
      "Si une incertitude persiste, concentre toi moins sur le contexte de la phrase que sur la façon dont la personne est envisagée dans la phrase.\n",
      "\n",
      "\n",
      "A quelle catégorie appartient la phrase que je te donne parmi les catégories suivantes : Corps humain, Genre/espèce humaine, Individu ou sujet, Personne à protéger, Personne relationnelle, Personne responsable et autonome, Poubelle, Sentiment humain. \n",
      "Ne fais pas une phrase complète, ni ne donne de justification, juste donne l'intitulé de la catégorie.\n",
      "La phrase à classifier est la suivante :\n",
      "\n",
      "\n"
     ]
    }
   ],
   "source": [
    "system_prompt = \"\"\"Tu es un expert en éthique qui doit classifier des phrases présentes dans les textes d'un comité de bioéthique. Le but est de comprendre le traitement de la personne/de l'individu/de l'humain dans ces questionnements éthiques. \n",
    "Tu dois classifier une phrase en français parmi l'une des catégories suivantes : Corps humain, Genre/espèce humaine, Individu ou sujet, Personne à protéger, Personne relationnelle, Personne responsable et autonome, Poubelle, Sentiment humain. \n",
    "Ne fais pas une phrase complète, ni ne donne de justification, juste donne l'intitulé de la catégorie.\n",
    "Voici une courte description de chaque catégorie :\n",
    "Corps humain = tout ce qui réfère directement au corps humain, comme le matériel biologique, des explications biologiques ou les débats autour du statut de l'embryon.\n",
    "Genre/espèce humaine = tout ce qui relève de ce que l'humanité partage en commun, le fait d'être un être humain et de ce que l'humanité partage avec le reste du vivant, en particulier mais pas que les questions d'écologie.\n",
    "Individu ou sujet = tout ce qui relève de la statistique, ou de l'économie, compter les gens, faire des essais en double aveugle, ou en parler comme d'une population à gérer, ou les calculs bénéfices risques. Par exemple, la gestion des prisons fait partie de cette catégorie, ou encore la gestion du système de santé. Cette catégorie inclut aussi les cas où la raison public est supérieure à l'individu ou certaines questions de gestion d'épidémie.\n",
    "Personne à protéger = tout ce qui relève de l'idée de protection de la personne, en particulier dans un sens médicale. Le médecin est responsable du patient, et pas le patient de lui-même. Cela inclut par exemple mais pas que : le respect de la personne, ou le fait de la protéger contre son manque d'autonomie, ou encore le fait de faire respecter le droit de la personne.\n",
    "Personne responsable et autonome = tout ce qui relève de conserver l'autonomie de la personne ou de traiter la personne comme un agent responsable de ses actes, en particulier une responsabilité juridique (comme une personne qui doit donner son consentement). S'applique aussi quand la personne est capable de se déterminer grâce à l'entourage, grâce à ses relations par exemple avec le personnel médical.\n",
    "Personne relationnelle = quand la personne est définie par son entourage, ou quand son entourage est important. Par exemple, si on parle d'une personne de confiance ou collégialité. Cette catégorie est aussi une catégorie intermédiaire entre personne à protéger et personne responsable et autonome.\n",
    "Sentiment humain = catégorie plus rare mais importante qui inclut les cas où ce sont les sentiments que nous éprouvons en tant qu'humain qui sont importants comme la dignité, l'empathie.\n",
    "Poubelle = catégorie à utiliser si et seulement si le texte ne réfère pas à la personne (erreur de frappe comme personne l ou personne lle).\n",
    "Si une incertitude persiste, concentre toi moins sur le contexte de la phrase que sur la façon dont la personne est envisagée dans la phrase.\n",
    "\"\"\"\n",
    "user_prompt = \"\"\"\n",
    "A quelle catégorie appartient la phrase que je te donne parmi les catégories suivantes : Corps humain, Genre/espèce humaine, Individu ou sujet, Personne à protéger, Personne relationnelle, Personne responsable et autonome, Poubelle, Sentiment humain. \n",
    "Ne fais pas une phrase complète, ni ne donne de justification, juste donne l'intitulé de la catégorie.\n",
    "La phrase à classifier est la suivante :\n",
    "\n",
    "\"\"\"\n",
    "print(system_prompt)\n",
    "print(user_prompt)"
   ]
  },
  {
   "cell_type": "code",
   "execution_count": 4,
   "metadata": {},
   "outputs": [
    {
     "data": {
      "text/html": [
       "<div>\n",
       "<style scoped>\n",
       "    .dataframe tbody tr th:only-of-type {\n",
       "        vertical-align: middle;\n",
       "    }\n",
       "\n",
       "    .dataframe tbody tr th {\n",
       "        vertical-align: top;\n",
       "    }\n",
       "\n",
       "    .dataframe thead th {\n",
       "        text-align: right;\n",
       "    }\n",
       "</style>\n",
       "<table border=\"1\" class=\"dataframe\">\n",
       "  <thead>\n",
       "    <tr style=\"text-align: right;\">\n",
       "      <th></th>\n",
       "      <th>Personne</th>\n",
       "      <th>sentence</th>\n",
       "      <th>full_question</th>\n",
       "    </tr>\n",
       "    <tr>\n",
       "      <th>sentence_id</th>\n",
       "      <th></th>\n",
       "      <th></th>\n",
       "      <th></th>\n",
       "    </tr>\n",
       "  </thead>\n",
       "  <tbody>\n",
       "    <tr>\n",
       "      <th>1290246</th>\n",
       "      <td>Genre/espèce humaine</td>\n",
       "      <td>De véritables sauts qualitatifs sont en \\ncour...</td>\n",
       "      <td>Pour la phrase d'identifiant id:1290246;\\n\\nA ...</td>\n",
       "    </tr>\n",
       "    <tr>\n",
       "      <th>1430748</th>\n",
       "      <td>Personne relationnelle</td>\n",
       "      <td>La personne de confiance pourrait \\nd’ailleurs...</td>\n",
       "      <td>Pour la phrase d'identifiant id:1430748;\\n\\nA ...</td>\n",
       "    </tr>\n",
       "    <tr>\n",
       "      <th>1420173</th>\n",
       "      <td>Personne à protéger</td>\n",
       "      <td>- La difficul té à subir des examens pour les ...</td>\n",
       "      <td>Pour la phrase d'identifiant id:1420173;\\n\\nA ...</td>\n",
       "    </tr>\n",
       "    <tr>\n",
       "      <th>220007</th>\n",
       "      <td>Corps humain</td>\n",
       "      <td>Seule, la thérapie génique somatique (1) peut\\...</td>\n",
       "      <td>Pour la phrase d'identifiant id:220007;\\n\\nA q...</td>\n",
       "    </tr>\n",
       "    <tr>\n",
       "      <th>110038</th>\n",
       "      <td>Personne responsable et autonome</td>\n",
       "      <td>Sujets humains étudiés\\nPlutôt que de proposer...</td>\n",
       "      <td>Pour la phrase d'identifiant id:110038;\\n\\nA q...</td>\n",
       "    </tr>\n",
       "  </tbody>\n",
       "</table>\n",
       "</div>"
      ],
      "text/plain": [
       "                                     Personne  \\\n",
       "sentence_id                                     \n",
       "1290246                  Genre/espèce humaine   \n",
       "1430748                Personne relationnelle   \n",
       "1420173                   Personne à protéger   \n",
       "220007                           Corps humain   \n",
       "110038       Personne responsable et autonome   \n",
       "\n",
       "                                                      sentence  \\\n",
       "sentence_id                                                      \n",
       "1290246      De véritables sauts qualitatifs sont en \\ncour...   \n",
       "1430748      La personne de confiance pourrait \\nd’ailleurs...   \n",
       "1420173      - La difficul té à subir des examens pour les ...   \n",
       "220007       Seule, la thérapie génique somatique (1) peut\\...   \n",
       "110038       Sujets humains étudiés\\nPlutôt que de proposer...   \n",
       "\n",
       "                                                 full_question  \n",
       "sentence_id                                                     \n",
       "1290246      Pour la phrase d'identifiant id:1290246;\\n\\nA ...  \n",
       "1430748      Pour la phrase d'identifiant id:1430748;\\n\\nA ...  \n",
       "1420173      Pour la phrase d'identifiant id:1420173;\\n\\nA ...  \n",
       "220007       Pour la phrase d'identifiant id:220007;\\n\\nA q...  \n",
       "110038       Pour la phrase d'identifiant id:110038;\\n\\nA q...  "
      ]
     },
     "execution_count": 4,
     "metadata": {},
     "output_type": "execute_result"
    }
   ],
   "source": [
    "# Step 1: Concatenate user_prompt with sentence\n",
    "annotations_file['full_question'] = \"Pour la phrase d'identifiant id:\" + annotations_file.index.astype(str) + ';\\n' + user_prompt + '\\n' + annotations_file['sentence']\n",
    "\n",
    "annotations_file.sample(5)\n"
   ]
  },
  {
   "cell_type": "markdown",
   "metadata": {},
   "source": [
    "# Export jsonl"
   ]
  },
  {
   "cell_type": "code",
   "execution_count": 5,
   "metadata": {},
   "outputs": [],
   "source": [
    "from sklearn.model_selection import train_test_split\n",
    "\n",
    "resave = True\n",
    "# Step 2: Separate train and test split, stratifying by annotation categories\n",
    "train, test = train_test_split(annotations_file[[\"full_question\",\"Personne\"]], \n",
    "                               stratify=annotations_file['Personne'], random_state=random_seed)\n",
    "\n",
    "def dataframe_to_json(system_prompt, dataframe):\n",
    "    json_data = []\n",
    "    for _, row in dataframe.iterrows():\n",
    "        messages = []\n",
    "        messages.append({\"role\": \"system\", \"content\": system_prompt})\n",
    "        messages.append({\"role\": \"user\", \"content\": row['full_question']})\n",
    "        messages.append({\"role\": \"assistant\", \"content\": row['Personne']})\n",
    "        json_data.append({\"messages\": messages})\n",
    "    return json_data\n",
    "\n",
    "train_json = dataframe_to_json(system_prompt=system_prompt,dataframe=train)\n",
    "test_json = dataframe_to_json(system_prompt=system_prompt,dataframe=test)\n",
    "\n",
    "import json\n",
    "\n",
    "if resave:\n",
    "    # Save train_json\n",
    "    with open('../../data/intermediate/big/gpt/train.jsonl', 'w') as f:\n",
    "        for item in train_json:\n",
    "            json.dump(item, f)\n",
    "            f.write('\\n')\n",
    "\n",
    "    # Save test_json\n",
    "    with open('../../data/intermediate/big/gpt/test.jsonl', 'w') as f:\n",
    "        for item in test_json:\n",
    "            json.dump(item, f)\n",
    "            f.write('\\n')\n"
   ]
  },
  {
   "cell_type": "markdown",
   "metadata": {},
   "source": [
    "# redo test and confusion matrix    "
   ]
  },
  {
   "cell_type": "code",
   "execution_count": 6,
   "metadata": {},
   "outputs": [
    {
     "data": {
      "text/html": [
       "<div>\n",
       "<style scoped>\n",
       "    .dataframe tbody tr th:only-of-type {\n",
       "        vertical-align: middle;\n",
       "    }\n",
       "\n",
       "    .dataframe tbody tr th {\n",
       "        vertical-align: top;\n",
       "    }\n",
       "\n",
       "    .dataframe thead th {\n",
       "        text-align: right;\n",
       "    }\n",
       "</style>\n",
       "<table border=\"1\" class=\"dataframe\">\n",
       "  <thead>\n",
       "    <tr style=\"text-align: right;\">\n",
       "      <th></th>\n",
       "      <th>full_question</th>\n",
       "      <th>Personne</th>\n",
       "    </tr>\n",
       "    <tr>\n",
       "      <th>sentence_id</th>\n",
       "      <th></th>\n",
       "      <th></th>\n",
       "    </tr>\n",
       "  </thead>\n",
       "  <tbody>\n",
       "    <tr>\n",
       "      <th>1330004</th>\n",
       "      <td>Pour la phrase d'identifiant id:1330004;\\n\\nA ...</td>\n",
       "      <td>Corps humain</td>\n",
       "    </tr>\n",
       "  </tbody>\n",
       "</table>\n",
       "</div>"
      ],
      "text/plain": [
       "                                                 full_question      Personne\n",
       "sentence_id                                                                 \n",
       "1330004      Pour la phrase d'identifiant id:1330004;\\n\\nA ...  Corps humain"
      ]
     },
     "execution_count": 6,
     "metadata": {},
     "output_type": "execute_result"
    }
   ],
   "source": [
    "test.sample()"
   ]
  },
  {
   "cell_type": "code",
   "execution_count": 7,
   "metadata": {},
   "outputs": [],
   "source": [
    "from openai import OpenAI\n",
    "import pandas as pd\n",
    "from sklearn.metrics import confusion_matrix, ConfusionMatrixDisplay\n",
    "import matplotlib.pyplot as plt\n",
    "\n",
    "rerun = False\n",
    "\n",
    "# Set up your OpenAI API key\n",
    "client = OpenAI(\n",
    "    api_key = \"\"\n",
    ")\n",
    "\n",
    "# Load your test set\n",
    "texts = test['full_question'].tolist()\n",
    "true_labels = test['Personne'].tolist()\n",
    "\n",
    "# Get unique labels from true labels\n",
    "unique_labels = list(pd.Series(true_labels).unique())\n",
    "unique_labels.append(\"Miscellaneous\")\n",
    "\n",
    "# Function to get predictions from the fine-tuned model\n",
    "def get_predictions(texts):\n",
    "    predictions = []\n",
    "    full_responses = []\n",
    "    for text in texts:\n",
    "        response =  client.chat.completions.create(\n",
    "            model=\"ft:gpt-3.5-turbo-0125:cmh:ccne-pers-seed1968:9lEciaZR\",\n",
    "            messages = [\n",
    "                {'role': \"system\", 'content':system_prompt},\n",
    "                {'role': \"user\", 'content':text}\n",
    "            ]\n",
    "        )\n",
    "        full_responses.append(response)\n",
    "        prediction = response.choices[0].message.content\n",
    "        predictions.append(prediction)\n",
    "    return predictions, full_responses\n",
    "\n",
    "# Get predictions\n",
    "if rerun:\n",
    "    predicted_labels, full_responses = get_predictions(texts)\n",
    "else:\n",
    "    test = pd.read_pickle('../../data/intermediate/big/gpt/2023_07_15_seed1968_CCNE_pers_gpt_test_with_predictions.pkl')\n",
    "    predicted_labels = test[\"Predicted_Label\"]\n",
    "    full_responses = test[\"Full_response\"]"
   ]
  },
  {
   "cell_type": "code",
   "execution_count": 8,
   "metadata": {},
   "outputs": [
    {
     "data": {
      "image/png": "[encoded data removed]",
      "text/plain": [
       "<Figure size 640x480 with 2 Axes>"
      ]
     },
     "metadata": {},
     "output_type": "display_data"
    }
   ],
   "source": [
    "# Handle miscellaneous predictions\n",
    "corrected_predictions = [\n",
    "    prediction if prediction in unique_labels else \"Miscellaneous\"\n",
    "    for prediction in predicted_labels\n",
    "]\n",
    "\n",
    "# Create confusion matrix\n",
    "cm = confusion_matrix(true_labels, corrected_predictions, labels=unique_labels)\n",
    "disp = ConfusionMatrixDisplay(confusion_matrix=cm, display_labels=unique_labels)\n",
    "\n",
    "# Plot confusion matrix\n",
    "disp.plot(cmap=plt.cm.Blues)\n",
    "plt.xticks(rotation=90)\n",
    "plt.show()"
   ]
  },
  {
   "cell_type": "code",
   "execution_count": 9,
   "metadata": {},
   "outputs": [],
   "source": [
    "# Add predictions to the DataFrame\n",
    "test['Predicted_Label'] = predicted_labels\n",
    "test['Corrected_Prediction'] = corrected_predictions\n",
    "test['Full_response'] = full_responses\n",
    "\n",
    "# Save the DataFrame as a .pkl file\n",
    "if rerun:\n",
    "    test.to_pickle('../../data/intermediate/big/gpt/2023_07_15_seed1968_CCNE_pers_gpt_test_with_predictions.pkl')"
   ]
  },
  {
   "cell_type": "code",
   "execution_count": 10,
   "metadata": {},
   "outputs": [
    {
     "data": {
      "text/html": [
       "<div>\n",
       "<style scoped>\n",
       "    .dataframe tbody tr th:only-of-type {\n",
       "        vertical-align: middle;\n",
       "    }\n",
       "\n",
       "    .dataframe tbody tr th {\n",
       "        vertical-align: top;\n",
       "    }\n",
       "\n",
       "    .dataframe thead th {\n",
       "        text-align: right;\n",
       "    }\n",
       "</style>\n",
       "<table border=\"1\" class=\"dataframe\">\n",
       "  <thead>\n",
       "    <tr style=\"text-align: right;\">\n",
       "      <th></th>\n",
       "      <th>Corrected_Prediction</th>\n",
       "      <th>sentence</th>\n",
       "    </tr>\n",
       "    <tr>\n",
       "      <th>sentence_id</th>\n",
       "      <th></th>\n",
       "      <th></th>\n",
       "    </tr>\n",
       "  </thead>\n",
       "  <tbody>\n",
       "    <tr>\n",
       "      <th>1330004</th>\n",
       "      <td>Genre/espèce humaine</td>\n",
       "      <td>Ces capacités  \\ninédites  des biotechnologies  peuvent  être perçues  comme  une voie prometteuse  pour  \\nmieux  comprendre  le rôle des gènes, la signification  des variations  observées  entre  \\nindividus,  notamment  en regard  de leur état de santé  et, plus généralement,  de nouvelles  \\npossibilités  pour  réparer  le génome  (dans  le cas de l’homme)  ou pour  une domestication  \\nmieux  adaptée  aux besoins  de l’humanité  (dans  le cas des plantes  et des animaux).</td>\n",
       "    </tr>\n",
       "    <tr>\n",
       "      <th>20557</th>\n",
       "      <td>Genre/espèce humaine</td>\n",
       "      <td>Ces études englobent non seulement des interventions planifiées sur des sujets humains,\\nmais des recherches dans lesquelles des facteurs environnementaux sont manipulés d'une\\nmanière pouvant constituer un risque pour des individus exposés fortuitement.</td>\n",
       "    </tr>\n",
       "    <tr>\n",
       "      <th>1240498</th>\n",
       "      <td>Personne responsable et autonome</td>\n",
       "      <td>Quand un séquençage \\nglobal d’ADN est décidé , un protocole rigoureux \\ndoit guider la conduite  à tenir pour les déco uvertes non sollicitées.83  \\nLa Commission présidentielle pour l’étude des  questions de bioéthique aux États -Unis  et la S ociété européenne de génétique humaine rappellent la nécessité d’entreprendre une démarche de \\ndécision partagée avec les patients  au sujet du périmètre de  la comm unication d es résultat s des \\nexamen s génétiques  et des modalités  à mettre en œuvre en cas de découvertes incidentes.</td>\n",
       "    </tr>\n",
       "    <tr>\n",
       "      <th>1110023</th>\n",
       "      <td>Genre/espèce humaine</td>\n",
       "      <td>4 l’usage actuel de cadavres dans diverses salles d’exposition 4 ; d’autre part, celle du devenir des \\ncollections de vestiges humains au sein des musées, dans un contexte international où ces corps \\nsont parfois réclamés pour inhumation par leurs peuples d’origine .</td>\n",
       "    </tr>\n",
       "    <tr>\n",
       "      <th>1140224</th>\n",
       "      <td>Sentiment humain</td>\n",
       "      <td>Notre société est sensible aux valeurs qui  \\ntouchent à l’intimité  : pudeur, indisponibilité et intégrité du corps humain.</td>\n",
       "    </tr>\n",
       "    <tr>\n",
       "      <th>930304</th>\n",
       "      <td>Personne relationnelle</td>\n",
       "      <td>Il \\ny a lieu de considérer que plus le rapport d’intégr ation à l’individu entier est fort, plus il y \\na des raisons de penser qu’une éventuelle commercia lisation posera des problèmes \\néthiques.</td>\n",
       "    </tr>\n",
       "  </tbody>\n",
       "</table>\n",
       "</div>"
      ],
      "text/plain": [
       "                         Corrected_Prediction  \\\n",
       "sentence_id                                     \n",
       "1330004                  Genre/espèce humaine   \n",
       "20557                    Genre/espèce humaine   \n",
       "1240498      Personne responsable et autonome   \n",
       "1110023                  Genre/espèce humaine   \n",
       "1140224                      Sentiment humain   \n",
       "930304                 Personne relationnelle   \n",
       "\n",
       "                                                                                                                                                                                                                                                                                                                                                                                                                                                                                                                                                            sentence  \n",
       "sentence_id                                                                                                                                                                                                                                                                                                                                                                                                                                                                                                                                                           \n",
       "1330004                                                            Ces capacités  \\ninédites  des biotechnologies  peuvent  être perçues  comme  une voie prometteuse  pour  \\nmieux  comprendre  le rôle des gènes, la signification  des variations  observées  entre  \\nindividus,  notamment  en regard  de leur état de santé  et, plus généralement,  de nouvelles  \\npossibilités  pour  réparer  le génome  (dans  le cas de l’homme)  ou pour  une domestication  \\nmieux  adaptée  aux besoins  de l’humanité  (dans  le cas des plantes  et des animaux).  \n",
       "20557                                                                                                                                                                                                                                                                                                 Ces études englobent non seulement des interventions planifiées sur des sujets humains,\\nmais des recherches dans lesquelles des facteurs environnementaux sont manipulés d'une\\nmanière pouvant constituer un risque pour des individus exposés fortuitement.  \n",
       "1240498      Quand un séquençage \\nglobal d’ADN est décidé , un protocole rigoureux \\ndoit guider la conduite  à tenir pour les déco uvertes non sollicitées.83  \\nLa Commission présidentielle pour l’étude des  questions de bioéthique aux États -Unis  et la S ociété européenne de génétique humaine rappellent la nécessité d’entreprendre une démarche de \\ndécision partagée avec les patients  au sujet du périmètre de  la comm unication d es résultat s des \\nexamen s génétiques  et des modalités  à mettre en œuvre en cas de découvertes incidentes.  \n",
       "1110023                                                                                                                                                                                                                                                                                4 l’usage actuel de cadavres dans diverses salles d’exposition 4 ; d’autre part, celle du devenir des \\ncollections de vestiges humains au sein des musées, dans un contexte international où ces corps \\nsont parfois réclamés pour inhumation par leurs peuples d’origine .  \n",
       "1140224                                                                                                                                                                                                                                                                                                                                                                                                                                 Notre société est sensible aux valeurs qui  \\ntouchent à l’intimité  : pudeur, indisponibilité et intégrité du corps humain.  \n",
       "930304                                                                                                                                                                                                                                                                                                                                                        Il \\ny a lieu de considérer que plus le rapport d’intégr ation à l’individu entier est fort, plus il y \\na des raisons de penser qu’une éventuelle commercia lisation posera des problèmes \\néthiques.  "
      ]
     },
     "execution_count": 10,
     "metadata": {},
     "output_type": "execute_result"
    }
   ],
   "source": [
    "pd.set_option('display.max_colwidth', None)\n",
    "\n",
    "cat_a_corriger = \"Corps humain\"\n",
    "\n",
    "test[(test['Corrected_Prediction']!=cat_a_corriger) & (test['Personne']==cat_a_corriger)].join(annotations_file[[\"sentence\"]])[\n",
    "    [\"Corrected_Prediction\",\"sentence\"]\n",
    "    ]"
   ]
  },
  {
   "cell_type": "code",
   "execution_count": 11,
   "metadata": {},
   "outputs": [
    {
     "name": "stdout",
     "output_type": "stream",
     "text": [
      "Overall Metrics:\n",
      "Accuracy: 0.7485714285714286\n",
      "F1 Score: 0.7413124026148817\n",
      "Precision: 0.7429895850863593\n",
      "Recall: 0.7485714285714286\n",
      "\n",
      "                           Category  Precision    Recall  F1-Score\n",
      "0                 Individu ou sujet   0.727273  0.634921  0.677966\n",
      "1  Personne responsable et autonome   0.661290  0.803922  0.725664\n",
      "2            Personne relationnelle   0.790323  0.875000  0.830508\n",
      "3                  Sentiment humain   0.583333  0.636364  0.608696\n",
      "4               Personne à protéger   0.750000  0.555556  0.638298\n",
      "5              Genre/espèce humaine   0.759259  0.788462  0.773585\n",
      "6                      Corps humain   0.830769  0.900000  0.864000\n",
      "7                          Poubelle   0.000000  0.000000  0.000000\n"
     ]
    },
    {
     "name": "stderr",
     "output_type": "stream",
     "text": [
      "c:\\Users\\leopo\\anaconda3\\envs\\ccne\\lib\\site-packages\\sklearn\\metrics\\_classification.py:1469: UndefinedMetricWarning: Precision is ill-defined and being set to 0.0 in labels with no predicted samples. Use `zero_division` parameter to control this behavior.\n",
      "  _warn_prf(average, modifier, msg_start, len(result))\n",
      "c:\\Users\\leopo\\anaconda3\\envs\\ccne\\lib\\site-packages\\sklearn\\metrics\\_classification.py:1469: UndefinedMetricWarning: Precision is ill-defined and being set to 0.0 in labels with no predicted samples. Use `zero_division` parameter to control this behavior.\n",
      "  _warn_prf(average, modifier, msg_start, len(result))\n"
     ]
    }
   ],
   "source": [
    "import pandas as pd\n",
    "from sklearn.metrics import accuracy_score, f1_score, precision_score, recall_score\n",
    "\n",
    "# Assuming 'test' is your DataFrame containing the true and predicted labels\n",
    "\n",
    "# Calculate overall metrics\n",
    "accuracy = accuracy_score(test['Personne'], test['Corrected_Prediction'])\n",
    "f1 = f1_score(test['Personne'], test['Corrected_Prediction'], average='weighted')\n",
    "precision = precision_score(test['Personne'], test['Corrected_Prediction'], average='weighted')\n",
    "recall = recall_score(test['Personne'], test['Corrected_Prediction'], average='weighted')\n",
    "\n",
    "# Print overall metrics\n",
    "print(\"Overall Metrics:\")\n",
    "print(f\"Accuracy: {accuracy}\")\n",
    "print(f\"F1 Score: {f1}\")\n",
    "print(f\"Precision: {precision}\")\n",
    "print(f\"Recall: {recall}\\n\")\n",
    "\n",
    "# Calculate metrics for each category\n",
    "unique_labels = test['Personne'].unique()\n",
    "f1_per_category = f1_score(test['Personne'], test['Corrected_Prediction'], average=None, labels=unique_labels)\n",
    "precision_per_category = precision_score(test['Personne'], test['Corrected_Prediction'], average=None, labels=unique_labels)\n",
    "recall_per_category = recall_score(test['Personne'], test['Corrected_Prediction'], average=None, labels=unique_labels)\n",
    "\n",
    "# Create a DataFrame with the metrics\n",
    "metrics_df = pd.DataFrame({\n",
    "    'Category': unique_labels,\n",
    "    'Precision': precision_per_category,\n",
    "    'Recall': recall_per_category,\n",
    "    'F1-Score': f1_per_category})\n",
    "\n",
    "# Display the DataFrame\n",
    "print(metrics_df)\n"
   ]
  },
  {
   "cell_type": "markdown",
   "metadata": {},
   "source": [
    "# Prediction"
   ]
  },
  {
   "cell_type": "code",
   "execution_count": null,
   "metadata": {},
   "outputs": [],
   "source": [
    "base_shuffled = pd.read_pickle(\"../../data/intermediate/big/base_shuffled.pkl\")\n",
    "base_shuffled.sentence_id = base_shuffled.sentence_id.apply(int)\n",
    "\n",
    "base_shuffled.set_index('sentence_id', inplace= True)\n",
    "\n",
    "base_shuffled.head(5)"
   ]
  },
  {
   "cell_type": "code",
   "execution_count": 14,
   "metadata": {},
   "outputs": [
    {
     "data": {
      "text/plain": [
       "sentence_id\n",
       "70183                                                                                                                                                                                                                                                                                                                                                                                                                Pour la phrase d'identifiant id:70183;\\n\\nA quelle catégorie appartient la phrase que je te donne parmi les catégories suivantes : Corps humain, Genre/espèce humaine, Individu ou sujet, Personne à protéger, Personne relationnelle, Personne responsable et autonome, Poubelle, Sentiment humain. \\nNe fais pas une phrase complète, ni ne donne de justification, juste donne l'intitulé de la catégorie.\\nLa phrase à classifier est la suivante :\\n\\n\\nAinsi donc, on verrait apparaître une catégorie nouvelle: plus tout à fait humaine et pas\\nencore animale qui, par le fait de sa régression physique et mentale, serait livrée à\\ndiscrétion à l'expérimentation.\n",
       "540492                                                                                                                                                                                                                                                                                                                                                                                                                                                         Pour la phrase d'identifiant id:540492;\\n\\nA quelle catégorie appartient la phrase que je te donne parmi les catégories suivantes : Corps humain, Genre/espèce humaine, Individu ou sujet, Personne à protéger, Personne relationnelle, Personne responsable et autonome, Poubelle, Sentiment humain. \\nNe fais pas une phrase complète, ni ne donne de justification, juste donne l'intitulé de la catégorie.\\nLa phrase à classifier est la suivante :\\n\\n\\nClonage reproductif : des bouleversements inacceptables de la condition\\nhumaine\\nCette remarque faite, deux sortes de considérations éthiques retiennent l'attention.\n",
       "1120613                                                                                                                                                                                                                                                             Pour la phrase d'identifiant id:1120613;\\n\\nA quelle catégorie appartient la phrase que je te donne parmi les catégories suivantes : Corps humain, Genre/espèce humaine, Individu ou sujet, Personne à protéger, Personne relationnelle, Personne responsable et autonome, Poubelle, Sentiment humain. \\nNe fais pas une phrase complète, ni ne donne de justification, juste donne l'intitulé de la catégorie.\\nLa phrase à classifier est la suivante :\\n\\n\\nDans l’Avis N°53 du 11 mars 1997 sur la constitution \\nde collections de cellules embryonnaires  humaines et leur utilisation à des fins thérapeutiques ou  scientifiques, il \\nest indiqué que « l’utilisation des cellules souches embryonnaires humaines devra être limitée à des activités de  \\nrecherche fondamentale, ou à des recherches thérapeutiques.\n",
       "80557                                                Pour la phrase d'identifiant id:80557;\\n\\nA quelle catégorie appartient la phrase que je te donne parmi les catégories suivantes : Corps humain, Genre/espèce humaine, Individu ou sujet, Personne à protéger, Personne relationnelle, Personne responsable et autonome, Poubelle, Sentiment humain. \\nNe fais pas une phrase complète, ni ne donne de justification, juste donne l'intitulé de la catégorie.\\nLa phrase à classifier est la suivante :\\n\\n\\nEn effet, les divergences d'opinions n'affectent pas seulement les modalités d'une régulation\\nque la plupart jugent dans son principe nécessaire; elles affectent aussi le contenu des\\nrègles ou directives, chacun situant différemment le seuil de l'acceptable et de\\nl'inacceptable, chacun développant des argumentations contestées par d'autres; elles\\nconcernent, enfin et surtout, les principes fondamentaux et notamment la question de\\nsavoir si, dans quels buts ou selon quelles conditions et limites, des embryons humains\\npeuvent être objets de recherche.\n",
       "1220350    Pour la phrase d'identifiant id:1220350;\\n\\nA quelle catégorie appartient la phrase que je te donne parmi les catégories suivantes : Corps humain, Genre/espèce humaine, Individu ou sujet, Personne à protéger, Personne relationnelle, Personne responsable et autonome, Poubelle, Sentiment humain. \\nNe fais pas une phrase complète, ni ne donne de justification, juste donne l'intitulé de la catégorie.\\nLa phrase à classifier est la suivante :\\n\\n\\nLes partisans du recours aux techniques de neuro -\\namélioration relativisent cette perte d’autonomie par le bénéfice des psychostimulants qui, en \\naméliorant l’év eil et la concentration, pourraient éviter des accidents de travail parfois mortels \\n(Greely 57 2008) , mais ils n’envisagent ni le nombre d’accidents liés à la surestimation des capacités et \\nau manque de sommeil, ni les raisons qui ont poussé ces personnes à prendre des médicaments, ni de \\nce fait, les bénéfices qui pourraient être tirés d’une amélioration des conditions de travail et d’un \\nassouplissement des objectifs fixés.\n",
       "Name: full_question, dtype: object"
      ]
     },
     "execution_count": 14,
     "metadata": {},
     "output_type": "execute_result"
    }
   ],
   "source": [
    "# Step 1: Concatenate user_prompt with sentence\n",
    "base_shuffled['full_question'] = \"Pour la phrase d'identifiant id:\" + base_shuffled.index.astype(str) + ';\\n' + user_prompt + '\\n' + base_shuffled['sentence']\n",
    "\n",
    "base_shuffled['full_question'].sample(5)\n"
   ]
  },
  {
   "cell_type": "code",
   "execution_count": null,
   "metadata": {},
   "outputs": [],
   "source": [
    "repredict = True\n",
    "# Set up your OpenAI API key\n",
    "client = OpenAI(\n",
    "    api_key = \"\"\n",
    ")\n",
    "\n",
    "# Load your test set\n",
    "texts = base_shuffled['full_question'].tolist()\n",
    "\n",
    "# Get unique labels from true labels\n",
    "unique_labels = list(pd.Series(true_labels).unique())\n",
    "unique_labels.append(\"Miscellaneous\")\n",
    "\n",
    "# Function to get predictions from the fine-tuned model\n",
    "def get_predictions(texts):\n",
    "    predictions = []\n",
    "    full_responses = []\n",
    "    for text in texts:\n",
    "        response =  client.chat.completions.create(\n",
    "            model=\"ft:gpt-3.5-turbo-0125:cmh:ccne-pers-seed1968:9lEciaZR\",\n",
    "            messages = [\n",
    "                {'role': \"system\", 'content':system_prompt},\n",
    "                {'role': \"user\", 'content':text}\n",
    "            ]\n",
    "        )\n",
    "        full_responses.append(response)\n",
    "        prediction = response.choices[0].message.content\n",
    "        predictions.append(prediction)\n",
    "    return predictions, full_responses\n",
    "\n",
    "# Get predictions\n",
    "if repredict:\n",
    "    predicted_labels, full_responses = get_predictions(texts)"
   ]
  },
  {
   "cell_type": "code",
   "execution_count": null,
   "metadata": {},
   "outputs": [],
   "source": [
    "if repredict:\n",
    "    corrected_predictions = [\n",
    "        prediction if prediction in unique_labels else \"Miscellaneous\"\n",
    "        for prediction in predicted_labels\n",
    "    ]\n",
    "\n",
    "    base_shuffled['Predicted_Label'] = predicted_labels\n",
    "    base_shuffled['Corrected_Prediction'] = corrected_predictions\n",
    "    base_shuffled['Full_response'] = full_responses"
   ]
  },
  {
   "cell_type": "code",
   "execution_count": 20,
   "metadata": {},
   "outputs": [],
   "source": [
    "if repredict:\n",
    "    annotations_file[\"Annotated_Label\"] = annotations_file[\"Personne\"]\n",
    "    base_predicted = base_shuffled.join(annotations_file[\"Annotated_Label\"], on = 'sentence_id', validate=\"one_to_one\")\n",
    "    base_predicted['Label'] = np.where(base_predicted['Annotated_Label'].isna(), base_predicted['Corrected_Prediction'], base_predicted['Annotated_Label'])\n",
    "    base_predicted.to_pickle(\"../../data/intermediate/predictions/predictions_gpt35ft_1400annotations_7classes_2024-07-15.pkl\")\n",
    "    base_predicted.to_csv(\"../../data/intermediate/predictions/predictions_gpt35ft_1400annotations_7classes_2024-07-15.csv\")"
   ]
  }
 ],
 "metadata": {
  "kernelspec": {
   "display_name": "ccne",
   "language": "python",
   "name": "python3"
  },
  "language_info": {
   "codemirror_mode": {
    "name": "ipython",
    "version": 3
   },
   "file_extension": ".py",
   "mimetype": "text/x-python",
   "name": "python",
   "nbconvert_exporter": "python",
   "pygments_lexer": "ipython3",
   "version": "3.9.18"
  }
 },
 "nbformat": 4,
 "nbformat_minor": 2
}
