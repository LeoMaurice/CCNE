{
 "cells": [
  {
   "cell_type": "code",
   "execution_count": 1,
   "metadata": {},
   "outputs": [
    {
     "name": "stdout",
     "output_type": "stream",
     "text": [
      "Requirement already satisfied: AugmentedSocialScientist in /opt/mamba/lib/python3.12/site-packages (2.2.1)\n",
      "Requirement already satisfied: pandas in /opt/mamba/lib/python3.12/site-packages (2.2.2)\n",
      "Requirement already satisfied: numpy in /opt/mamba/lib/python3.12/site-packages (1.26.4)\n",
      "Requirement already satisfied: wordcloud in /opt/mamba/lib/python3.12/site-packages (1.9.3)\n",
      "Requirement already satisfied: matplotlib in /opt/mamba/lib/python3.12/site-packages (3.9.0)\n",
      "Requirement already satisfied: spacy in /opt/mamba/lib/python3.12/site-packages (3.7.4)\n",
      "Requirement already satisfied: nltk in /opt/mamba/lib/python3.12/site-packages (3.8.1)\n",
      "Requirement already satisfied: scikit-learn in /opt/mamba/lib/python3.12/site-packages (from AugmentedSocialScientist) (1.5.0)\n",
      "Requirement already satisfied: tqdm in /opt/mamba/lib/python3.12/site-packages (from AugmentedSocialScientist) (4.66.2)\n",
      "Requirement already satisfied: scipy in /opt/mamba/lib/python3.12/site-packages (from AugmentedSocialScientist) (1.13.1)\n",
      "Requirement already satisfied: torch in /opt/mamba/lib/python3.12/site-packages (from AugmentedSocialScientist) (2.3.0)\n",
      "Requirement already satisfied: transformers in /opt/mamba/lib/python3.12/site-packages (from AugmentedSocialScientist) (4.41.2)\n",
      "Requirement already satisfied: sentencepiece in /opt/mamba/lib/python3.12/site-packages (from AugmentedSocialScientist) (0.2.0)\n"
     ]
    },
    {
     "name": "stdout",
     "output_type": "stream",
     "text": [
      "Requirement already satisfied: python-dateutil>=2.8.2 in /opt/mamba/lib/python3.12/site-packages (from pandas) (2.9.0)\n",
      "Requirement already satisfied: pytz>=2020.1 in /opt/mamba/lib/python3.12/site-packages (from pandas) (2024.1)\n",
      "Requirement already satisfied: tzdata>=2022.7 in /opt/mamba/lib/python3.12/site-packages (from pandas) (2024.1)\n",
      "Requirement already satisfied: pillow in /opt/mamba/lib/python3.12/site-packages (from wordcloud) (10.3.0)\n",
      "Requirement already satisfied: contourpy>=1.0.1 in /opt/mamba/lib/python3.12/site-packages (from matplotlib) (1.2.1)\n",
      "Requirement already satisfied: cycler>=0.10 in /opt/mamba/lib/python3.12/site-packages (from matplotlib) (0.12.1)\n",
      "Requirement already satisfied: fonttools>=4.22.0 in /opt/mamba/lib/python3.12/site-packages (from matplotlib) (4.53.0)\n",
      "Requirement already satisfied: kiwisolver>=1.3.1 in /opt/mamba/lib/python3.12/site-packages (from matplotlib) (1.4.5)\n",
      "Requirement already satisfied: packaging>=20.0 in /opt/mamba/lib/python3.12/site-packages (from matplotlib) (24.0)\n",
      "Requirement already satisfied: pyparsing>=2.3.1 in /opt/mamba/lib/python3.12/site-packages (from matplotlib) (3.1.2)\n",
      "Requirement already satisfied: spacy-legacy<3.1.0,>=3.0.11 in /opt/mamba/lib/python3.12/site-packages (from spacy) (3.0.12)\n",
      "Requirement already satisfied: spacy-loggers<2.0.0,>=1.0.0 in /opt/mamba/lib/python3.12/site-packages (from spacy) (1.0.5)\n",
      "Requirement already satisfied: murmurhash<1.1.0,>=0.28.0 in /opt/mamba/lib/python3.12/site-packages (from spacy) (1.0.10)\n",
      "Requirement already satisfied: cymem<2.1.0,>=2.0.2 in /opt/mamba/lib/python3.12/site-packages (from spacy) (2.0.8)\n",
      "Requirement already satisfied: preshed<3.1.0,>=3.0.2 in /opt/mamba/lib/python3.12/site-packages (from spacy) (3.0.9)\n",
      "Requirement already satisfied: thinc<8.3.0,>=8.2.2 in /opt/mamba/lib/python3.12/site-packages (from spacy) (8.2.3)\n",
      "Requirement already satisfied: wasabi<1.2.0,>=0.9.1 in /opt/mamba/lib/python3.12/site-packages (from spacy) (1.1.3)\n",
      "Requirement already satisfied: srsly<3.0.0,>=2.4.3 in /opt/mamba/lib/python3.12/site-packages (from spacy) (2.4.8)\n",
      "Requirement already satisfied: catalogue<2.1.0,>=2.0.6 in /opt/mamba/lib/python3.12/site-packages (from spacy) (2.0.10)\n",
      "Requirement already satisfied: weasel<0.4.0,>=0.1.0 in /opt/mamba/lib/python3.12/site-packages (from spacy) (0.3.4)\n",
      "Requirement already satisfied: typer<0.10.0,>=0.3.0 in /opt/mamba/lib/python3.12/site-packages (from spacy) (0.9.4)\n",
      "Requirement already satisfied: smart-open<7.0.0,>=5.2.1 in /opt/mamba/lib/python3.12/site-packages (from spacy) (6.4.0)\n",
      "Requirement already satisfied: requests<3.0.0,>=2.13.0 in /opt/mamba/lib/python3.12/site-packages (from spacy) (2.31.0)\n",
      "Requirement already satisfied: pydantic!=1.8,!=1.8.1,<3.0.0,>=1.7.4 in /opt/mamba/lib/python3.12/site-packages (from spacy) (2.7.3)\n",
      "Requirement already satisfied: jinja2 in /opt/mamba/lib/python3.12/site-packages (from spacy) (3.1.3)\n",
      "Requirement already satisfied: setuptools in /opt/mamba/lib/python3.12/site-packages (from spacy) (69.5.1)\n",
      "Requirement already satisfied: langcodes<4.0.0,>=3.2.0 in /opt/mamba/lib/python3.12/site-packages (from spacy) (3.4.0)\n",
      "Requirement already satisfied: click in /opt/mamba/lib/python3.12/site-packages (from nltk) (8.1.7)\n",
      "Requirement already satisfied: joblib in /opt/mamba/lib/python3.12/site-packages (from nltk) (1.4.2)\n",
      "Requirement already satisfied: regex>=2021.8.3 in /opt/mamba/lib/python3.12/site-packages (from nltk) (2024.5.15)\n",
      "Requirement already satisfied: language-data>=1.2 in /opt/mamba/lib/python3.12/site-packages (from langcodes<4.0.0,>=3.2.0->spacy) (1.2.0)\n",
      "Requirement already satisfied: annotated-types>=0.4.0 in /opt/mamba/lib/python3.12/site-packages (from pydantic!=1.8,!=1.8.1,<3.0.0,>=1.7.4->spacy) (0.7.0)\n",
      "Requirement already satisfied: pydantic-core==2.18.4 in /opt/mamba/lib/python3.12/site-packages (from pydantic!=1.8,!=1.8.1,<3.0.0,>=1.7.4->spacy) (2.18.4)\n",
      "Requirement already satisfied: typing-extensions>=4.6.1 in /opt/mamba/lib/python3.12/site-packages (from pydantic!=1.8,!=1.8.1,<3.0.0,>=1.7.4->spacy) (4.11.0)\n",
      "Requirement already satisfied: six>=1.5 in /opt/mamba/lib/python3.12/site-packages (from python-dateutil>=2.8.2->pandas) (1.16.0)\n",
      "Requirement already satisfied: charset-normalizer<4,>=2 in /opt/mamba/lib/python3.12/site-packages (from requests<3.0.0,>=2.13.0->spacy) (3.3.2)\n",
      "Requirement already satisfied: idna<4,>=2.5 in /opt/mamba/lib/python3.12/site-packages (from requests<3.0.0,>=2.13.0->spacy) (3.6)\n",
      "Requirement already satisfied: urllib3<3,>=1.21.1 in /opt/mamba/lib/python3.12/site-packages (from requests<3.0.0,>=2.13.0->spacy) (1.26.18)\n",
      "Requirement already satisfied: certifi>=2017.4.17 in /opt/mamba/lib/python3.12/site-packages (from requests<3.0.0,>=2.13.0->spacy) (2024.2.2)\n",
      "Requirement already satisfied: blis<0.8.0,>=0.7.8 in /opt/mamba/lib/python3.12/site-packages (from thinc<8.3.0,>=8.2.2->spacy) (0.7.11)\n",
      "Requirement already satisfied: confection<1.0.0,>=0.0.1 in /opt/mamba/lib/python3.12/site-packages (from thinc<8.3.0,>=8.2.2->spacy) (0.1.5)\n",
      "Requirement already satisfied: cloudpathlib<0.17.0,>=0.7.0 in /opt/mamba/lib/python3.12/site-packages (from weasel<0.4.0,>=0.1.0->spacy) (0.16.0)\n",
      "Requirement already satisfied: MarkupSafe>=2.0 in /opt/mamba/lib/python3.12/site-packages (from jinja2->spacy) (2.1.5)\n",
      "Requirement already satisfied: threadpoolctl>=3.1.0 in /opt/mamba/lib/python3.12/site-packages (from scikit-learn->AugmentedSocialScientist) (3.5.0)\n",
      "Requirement already satisfied: filelock in /opt/mamba/lib/python3.12/site-packages (from torch->AugmentedSocialScientist) (3.13.4)\n",
      "Requirement already satisfied: sympy in /opt/mamba/lib/python3.12/site-packages (from torch->AugmentedSocialScientist) (1.12)\n",
      "Requirement already satisfied: networkx in /opt/mamba/lib/python3.12/site-packages (from torch->AugmentedSocialScientist) (3.3)\n",
      "Requirement already satisfied: fsspec in /opt/mamba/lib/python3.12/site-packages (from torch->AugmentedSocialScientist) (2024.3.1)\n",
      "Requirement already satisfied: nvidia-cuda-nvrtc-cu12==12.1.105 in /opt/mamba/lib/python3.12/site-packages (from torch->AugmentedSocialScientist) (12.1.105)\n",
      "Requirement already satisfied: nvidia-cuda-runtime-cu12==12.1.105 in /opt/mamba/lib/python3.12/site-packages (from torch->AugmentedSocialScientist) (12.1.105)\n",
      "Requirement already satisfied: nvidia-cuda-cupti-cu12==12.1.105 in /opt/mamba/lib/python3.12/site-packages (from torch->AugmentedSocialScientist) (12.1.105)\n",
      "Requirement already satisfied: nvidia-cudnn-cu12==8.9.2.26 in /opt/mamba/lib/python3.12/site-packages (from torch->AugmentedSocialScientist) (8.9.2.26)\n",
      "Requirement already satisfied: nvidia-cublas-cu12==12.1.3.1 in /opt/mamba/lib/python3.12/site-packages (from torch->AugmentedSocialScientist) (12.1.3.1)\n",
      "Requirement already satisfied: nvidia-cufft-cu12==11.0.2.54 in /opt/mamba/lib/python3.12/site-packages (from torch->AugmentedSocialScientist) (11.0.2.54)\n",
      "Requirement already satisfied: nvidia-curand-cu12==10.3.2.106 in /opt/mamba/lib/python3.12/site-packages (from torch->AugmentedSocialScientist) (10.3.2.106)\n",
      "Requirement already satisfied: nvidia-cusolver-cu12==11.4.5.107 in /opt/mamba/lib/python3.12/site-packages (from torch->AugmentedSocialScientist) (11.4.5.107)\n",
      "Requirement already satisfied: nvidia-cusparse-cu12==12.1.0.106 in /opt/mamba/lib/python3.12/site-packages (from torch->AugmentedSocialScientist) (12.1.0.106)\n",
      "Requirement already satisfied: nvidia-nccl-cu12==2.20.5 in /opt/mamba/lib/python3.12/site-packages (from torch->AugmentedSocialScientist) (2.20.5)\n",
      "Requirement already satisfied: nvidia-nvtx-cu12==12.1.105 in /opt/mamba/lib/python3.12/site-packages (from torch->AugmentedSocialScientist) (12.1.105)\n",
      "Requirement already satisfied: nvidia-nvjitlink-cu12 in /opt/mamba/lib/python3.12/site-packages (from nvidia-cusolver-cu12==11.4.5.107->torch->AugmentedSocialScientist) (12.4.127)\n",
      "Requirement already satisfied: huggingface-hub<1.0,>=0.23.0 in /opt/mamba/lib/python3.12/site-packages (from transformers->AugmentedSocialScientist) (0.23.2)\n",
      "Requirement already satisfied: pyyaml>=5.1 in /opt/mamba/lib/python3.12/site-packages (from transformers->AugmentedSocialScientist) (6.0.1)\n",
      "Requirement already satisfied: tokenizers<0.20,>=0.19 in /opt/mamba/lib/python3.12/site-packages (from transformers->AugmentedSocialScientist) (0.19.1)\n",
      "Requirement already satisfied: safetensors>=0.4.1 in /opt/mamba/lib/python3.12/site-packages (from transformers->AugmentedSocialScientist) (0.4.3)\n",
      "Requirement already satisfied: marisa-trie>=0.7.7 in /opt/mamba/lib/python3.12/site-packages (from language-data>=1.2->langcodes<4.0.0,>=3.2.0->spacy) (1.1.1)\n",
      "Requirement already satisfied: mpmath>=0.19 in /opt/mamba/lib/python3.12/site-packages (from sympy->torch->AugmentedSocialScientist) (1.3.0)\n",
      "Collecting fr-core-news-sm==3.7.0\n",
      "  Downloading https://github.com/explosion/spacy-models/releases/download/fr_core_news_sm-3.7.0/fr_core_news_sm-3.7.0-py3-none-any.whl (16.3 MB)\n",
      "\u001b[2K     \u001b[90m━━━━━━━━━━━━━━━━━━━━━━━━━━━━━━━━━━━━━━━━\u001b[0m \u001b[32m16.3/16.3 MB\u001b[0m \u001b[31m9.4 MB/s\u001b[0m eta \u001b[36m0:00:00\u001b[0m:00:01\u001b[0m0:01\u001b[0mm\n",
      "\u001b[?25hRequirement already satisfied: spacy<3.8.0,>=3.7.0 in /opt/mamba/lib/python3.12/site-packages (from fr-core-news-sm==3.7.0) (3.7.4)\n",
      "Requirement already satisfied: spacy-legacy<3.1.0,>=3.0.11 in /opt/mamba/lib/python3.12/site-packages (from spacy<3.8.0,>=3.7.0->fr-core-news-sm==3.7.0) (3.0.12)\n",
      "Requirement already satisfied: spacy-loggers<2.0.0,>=1.0.0 in /opt/mamba/lib/python3.12/site-packages (from spacy<3.8.0,>=3.7.0->fr-core-news-sm==3.7.0) (1.0.5)\n",
      "Requirement already satisfied: murmurhash<1.1.0,>=0.28.0 in /opt/mamba/lib/python3.12/site-packages (from spacy<3.8.0,>=3.7.0->fr-core-news-sm==3.7.0) (1.0.10)\n",
      "Requirement already satisfied: cymem<2.1.0,>=2.0.2 in /opt/mamba/lib/python3.12/site-packages (from spacy<3.8.0,>=3.7.0->fr-core-news-sm==3.7.0) (2.0.8)\n",
      "Requirement already satisfied: preshed<3.1.0,>=3.0.2 in /opt/mamba/lib/python3.12/site-packages (from spacy<3.8.0,>=3.7.0->fr-core-news-sm==3.7.0) (3.0.9)\n",
      "Requirement already satisfied: thinc<8.3.0,>=8.2.2 in /opt/mamba/lib/python3.12/site-packages (from spacy<3.8.0,>=3.7.0->fr-core-news-sm==3.7.0) (8.2.3)\n",
      "Requirement already satisfied: wasabi<1.2.0,>=0.9.1 in /opt/mamba/lib/python3.12/site-packages (from spacy<3.8.0,>=3.7.0->fr-core-news-sm==3.7.0) (1.1.3)\n",
      "Requirement already satisfied: srsly<3.0.0,>=2.4.3 in /opt/mamba/lib/python3.12/site-packages (from spacy<3.8.0,>=3.7.0->fr-core-news-sm==3.7.0) (2.4.8)\n",
      "Requirement already satisfied: catalogue<2.1.0,>=2.0.6 in /opt/mamba/lib/python3.12/site-packages (from spacy<3.8.0,>=3.7.0->fr-core-news-sm==3.7.0) (2.0.10)\n",
      "Requirement already satisfied: weasel<0.4.0,>=0.1.0 in /opt/mamba/lib/python3.12/site-packages (from spacy<3.8.0,>=3.7.0->fr-core-news-sm==3.7.0) (0.3.4)\n",
      "Requirement already satisfied: typer<0.10.0,>=0.3.0 in /opt/mamba/lib/python3.12/site-packages (from spacy<3.8.0,>=3.7.0->fr-core-news-sm==3.7.0) (0.9.4)\n",
      "Requirement already satisfied: smart-open<7.0.0,>=5.2.1 in /opt/mamba/lib/python3.12/site-packages (from spacy<3.8.0,>=3.7.0->fr-core-news-sm==3.7.0) (6.4.0)\n",
      "Requirement already satisfied: tqdm<5.0.0,>=4.38.0 in /opt/mamba/lib/python3.12/site-packages (from spacy<3.8.0,>=3.7.0->fr-core-news-sm==3.7.0) (4.66.2)\n",
      "Requirement already satisfied: requests<3.0.0,>=2.13.0 in /opt/mamba/lib/python3.12/site-packages (from spacy<3.8.0,>=3.7.0->fr-core-news-sm==3.7.0) (2.31.0)\n",
      "Requirement already satisfied: pydantic!=1.8,!=1.8.1,<3.0.0,>=1.7.4 in /opt/mamba/lib/python3.12/site-packages (from spacy<3.8.0,>=3.7.0->fr-core-news-sm==3.7.0) (2.7.3)\n",
      "Requirement already satisfied: jinja2 in /opt/mamba/lib/python3.12/site-packages (from spacy<3.8.0,>=3.7.0->fr-core-news-sm==3.7.0) (3.1.3)\n",
      "Requirement already satisfied: setuptools in /opt/mamba/lib/python3.12/site-packages (from spacy<3.8.0,>=3.7.0->fr-core-news-sm==3.7.0) (69.5.1)\n",
      "Requirement already satisfied: packaging>=20.0 in /opt/mamba/lib/python3.12/site-packages (from spacy<3.8.0,>=3.7.0->fr-core-news-sm==3.7.0) (24.0)\n",
      "Requirement already satisfied: langcodes<4.0.0,>=3.2.0 in /opt/mamba/lib/python3.12/site-packages (from spacy<3.8.0,>=3.7.0->fr-core-news-sm==3.7.0) (3.4.0)\n",
      "Requirement already satisfied: numpy>=1.19.0 in /opt/mamba/lib/python3.12/site-packages (from spacy<3.8.0,>=3.7.0->fr-core-news-sm==3.7.0) (1.26.4)\n",
      "Requirement already satisfied: language-data>=1.2 in /opt/mamba/lib/python3.12/site-packages (from langcodes<4.0.0,>=3.2.0->spacy<3.8.0,>=3.7.0->fr-core-news-sm==3.7.0) (1.2.0)\n",
      "Requirement already satisfied: annotated-types>=0.4.0 in /opt/mamba/lib/python3.12/site-packages (from pydantic!=1.8,!=1.8.1,<3.0.0,>=1.7.4->spacy<3.8.0,>=3.7.0->fr-core-news-sm==3.7.0) (0.7.0)\n",
      "Requirement already satisfied: pydantic-core==2.18.4 in /opt/mamba/lib/python3.12/site-packages (from pydantic!=1.8,!=1.8.1,<3.0.0,>=1.7.4->spacy<3.8.0,>=3.7.0->fr-core-news-sm==3.7.0) (2.18.4)\n",
      "Requirement already satisfied: typing-extensions>=4.6.1 in /opt/mamba/lib/python3.12/site-packages (from pydantic!=1.8,!=1.8.1,<3.0.0,>=1.7.4->spacy<3.8.0,>=3.7.0->fr-core-news-sm==3.7.0) (4.11.0)\n",
      "Requirement already satisfied: charset-normalizer<4,>=2 in /opt/mamba/lib/python3.12/site-packages (from requests<3.0.0,>=2.13.0->spacy<3.8.0,>=3.7.0->fr-core-news-sm==3.7.0) (3.3.2)\n",
      "Requirement already satisfied: idna<4,>=2.5 in /opt/mamba/lib/python3.12/site-packages (from requests<3.0.0,>=2.13.0->spacy<3.8.0,>=3.7.0->fr-core-news-sm==3.7.0) (3.6)\n",
      "Requirement already satisfied: urllib3<3,>=1.21.1 in /opt/mamba/lib/python3.12/site-packages (from requests<3.0.0,>=2.13.0->spacy<3.8.0,>=3.7.0->fr-core-news-sm==3.7.0) (1.26.18)\n",
      "Requirement already satisfied: certifi>=2017.4.17 in /opt/mamba/lib/python3.12/site-packages (from requests<3.0.0,>=2.13.0->spacy<3.8.0,>=3.7.0->fr-core-news-sm==3.7.0) (2024.2.2)\n",
      "Requirement already satisfied: blis<0.8.0,>=0.7.8 in /opt/mamba/lib/python3.12/site-packages (from thinc<8.3.0,>=8.2.2->spacy<3.8.0,>=3.7.0->fr-core-news-sm==3.7.0) (0.7.11)\n",
      "Requirement already satisfied: confection<1.0.0,>=0.0.1 in /opt/mamba/lib/python3.12/site-packages (from thinc<8.3.0,>=8.2.2->spacy<3.8.0,>=3.7.0->fr-core-news-sm==3.7.0) (0.1.5)\n",
      "Requirement already satisfied: click<9.0.0,>=7.1.1 in /opt/mamba/lib/python3.12/site-packages (from typer<0.10.0,>=0.3.0->spacy<3.8.0,>=3.7.0->fr-core-news-sm==3.7.0) (8.1.7)\n",
      "Requirement already satisfied: cloudpathlib<0.17.0,>=0.7.0 in /opt/mamba/lib/python3.12/site-packages (from weasel<0.4.0,>=0.1.0->spacy<3.8.0,>=3.7.0->fr-core-news-sm==3.7.0) (0.16.0)\n",
      "Requirement already satisfied: MarkupSafe>=2.0 in /opt/mamba/lib/python3.12/site-packages (from jinja2->spacy<3.8.0,>=3.7.0->fr-core-news-sm==3.7.0) (2.1.5)\n",
      "Requirement already satisfied: marisa-trie>=0.7.7 in /opt/mamba/lib/python3.12/site-packages (from language-data>=1.2->langcodes<4.0.0,>=3.2.0->spacy<3.8.0,>=3.7.0->fr-core-news-sm==3.7.0) (1.1.1)\n",
      "\u001b[38;5;2m✔ Download and installation successful\u001b[0m\n",
      "You can now load the package via spacy.load('fr_core_news_sm')\n"
     ]
    }
   ],
   "source": [
    "!pip install AugmentedSocialScientist pandas numpy wordcloud matplotlib spacy nltk\n",
    "!python -m spacy download fr_core_news_sm"
   ]
  },
  {
   "cell_type": "markdown",
   "metadata": {},
   "source": [
    "REMARQUE : BESOIN D'AVOIR FAIT TOURNE DESCRIPTION ANNOTATIONS POUR CREER LE FICHIER AVEC LES PHRASES !"
   ]
  },
  {
   "cell_type": "code",
   "execution_count": 2,
   "metadata": {},
   "outputs": [
    {
     "data": {
      "text/plain": [
       "RandomState(MT19937) at 0x7F3151AA9940"
      ]
     },
     "execution_count": 2,
     "metadata": {},
     "output_type": "execute_result"
    }
   ],
   "source": [
    "import numpy as np\n",
    "import random\n",
    "import torch\n",
    "import sklearn\n",
    "random_seed = 1968\n",
    "# Set random seed for NumPy\n",
    "np.random.seed(random_seed)\n",
    "\n",
    "# Set random seed for Python built-in random module\n",
    "random.seed(random_seed)\n",
    "\n",
    "# Set random seed for PyTorch\n",
    "torch.manual_seed(random_seed)\n",
    "\n",
    "# Set random seed for Scikit-learn\n",
    "sklearn.utils.check_random_state(random_seed)\n"
   ]
  },
  {
   "cell_type": "code",
   "execution_count": 3,
   "metadata": {},
   "outputs": [
    {
     "data": {
      "text/html": [
       "<div>\n",
       "<style scoped>\n",
       "    .dataframe tbody tr th:only-of-type {\n",
       "        vertical-align: middle;\n",
       "    }\n",
       "\n",
       "    .dataframe tbody tr th {\n",
       "        vertical-align: top;\n",
       "    }\n",
       "\n",
       "    .dataframe thead th {\n",
       "        text-align: right;\n",
       "    }\n",
       "</style>\n",
       "<table border=\"1\" class=\"dataframe\">\n",
       "  <thead>\n",
       "    <tr style=\"text-align: right;\">\n",
       "      <th></th>\n",
       "      <th>Personne</th>\n",
       "      <th>sentence</th>\n",
       "      <th>recat</th>\n",
       "    </tr>\n",
       "    <tr>\n",
       "      <th>sentence_id</th>\n",
       "      <th></th>\n",
       "      <th></th>\n",
       "      <th></th>\n",
       "    </tr>\n",
       "  </thead>\n",
       "  <tbody>\n",
       "    <tr>\n",
       "      <th>1190093</th>\n",
       "      <td>Personne responsable et autonome</td>\n",
       "      <td>En revanche, \\nleur rapidité et leur relative ...</td>\n",
       "      <td>Personne droits et devoirs</td>\n",
       "    </tr>\n",
       "    <tr>\n",
       "      <th>870236</th>\n",
       "      <td>Personne relationnelle</td>\n",
       "      <td>Refus par un tiers 8 \\n \\nIl est de nombreuses...</td>\n",
       "      <td>Personne relationnelle</td>\n",
       "    </tr>\n",
       "    <tr>\n",
       "      <th>1210148</th>\n",
       "      <td>Sentiment humain</td>\n",
       "      <td>Elle est une réalité \\nhumaine, qui tient à la...</td>\n",
       "      <td>Genre/espèce humaine</td>\n",
       "    </tr>\n",
       "    <tr>\n",
       "      <th>860089</th>\n",
       "      <td>Personne responsable et autonome</td>\n",
       "      <td>Ainsi l’ensemble de ces inconvénients qui, pou...</td>\n",
       "      <td>Personne droits et devoirs</td>\n",
       "    </tr>\n",
       "    <tr>\n",
       "      <th>1130224</th>\n",
       "      <td>Corps humain</td>\n",
       "      <td>21415  »30 Voir l’avis n°112 du CCNE « Une réf...</td>\n",
       "      <td>Corps humain</td>\n",
       "    </tr>\n",
       "  </tbody>\n",
       "</table>\n",
       "</div>"
      ],
      "text/plain": [
       "                                     Personne  \\\n",
       "sentence_id                                     \n",
       "1190093      Personne responsable et autonome   \n",
       "870236                 Personne relationnelle   \n",
       "1210148                      Sentiment humain   \n",
       "860089       Personne responsable et autonome   \n",
       "1130224                          Corps humain   \n",
       "\n",
       "                                                      sentence  \\\n",
       "sentence_id                                                      \n",
       "1190093      En revanche, \\nleur rapidité et leur relative ...   \n",
       "870236       Refus par un tiers 8 \\n \\nIl est de nombreuses...   \n",
       "1210148      Elle est une réalité \\nhumaine, qui tient à la...   \n",
       "860089       Ainsi l’ensemble de ces inconvénients qui, pou...   \n",
       "1130224      21415  »30 Voir l’avis n°112 du CCNE « Une réf...   \n",
       "\n",
       "                                  recat  \n",
       "sentence_id                              \n",
       "1190093      Personne droits et devoirs  \n",
       "870236           Personne relationnelle  \n",
       "1210148            Genre/espèce humaine  \n",
       "860089       Personne droits et devoirs  \n",
       "1130224                    Corps humain  "
      ]
     },
     "execution_count": 3,
     "metadata": {},
     "output_type": "execute_result"
    }
   ],
   "source": [
    "import pandas as pd\n",
    "\n",
    "current_annotations_file = \"../../data/intermediate/annotations/personne_withSentence_1400annotations_2024-06-03_ActiveTigger.csv\"\n",
    "\n",
    "annotations_files = pd.read_csv(current_annotations_file, dtype = {'sentence_id':'int', \n",
    "'Personne':'str','sentence':'str'}).set_index('sentence_id')\n",
    "\n",
    "recat = {\n",
    "    \"Corps humain\":\"Corps humain\",\n",
    "    \"Genre/espèce humaine\":\"Genre/espèce humaine\",\n",
    "    \"Individu ou sujet\" : \"Individu ou sujet\",\n",
    "    \"Personne à protéger\":\"Personne droits et devoirs\",\n",
    "    \"Personne responsable et autonome\":\"Personne droits et devoirs\",\n",
    "    \"Personne relationnelle\":\"Personne relationnelle\",\n",
    "    \"Sentiment humain\":\"Genre/espèce humaine\",\n",
    "    \"Poubelle\" : \"Poubelle\"\n",
    "}\n",
    "\n",
    "frecat = lambda x: recat[x]\n",
    "annotations_files['recat']=annotations_files[\"Personne\"].apply(frecat)\n",
    "\n",
    "\n",
    "annotations = annotations_files[~(annotations_files[\"recat\"]==\"Poubelle\")]\n",
    "\n",
    "annotations.sample(5)"
   ]
  },
  {
   "cell_type": "code",
   "execution_count": 4,
   "metadata": {},
   "outputs": [
    {
     "data": {
      "text/plain": [
       "1388"
      ]
     },
     "execution_count": 4,
     "metadata": {},
     "output_type": "execute_result"
    }
   ],
   "source": [
    "len(annotations)"
   ]
  },
  {
   "cell_type": "markdown",
   "metadata": {},
   "source": [
    "# Bert classification binaire"
   ]
  },
  {
   "cell_type": "code",
   "execution_count": 5,
   "metadata": {},
   "outputs": [
    {
     "data": {
      "text/plain": [
       "'NVIDIA A2'"
      ]
     },
     "execution_count": 5,
     "metadata": {},
     "output_type": "execute_result"
    }
   ],
   "source": [
    "import os\n",
    "os.environ[\"PYTORCH_CUDA_ALLOC_CONF\"] = \"expandable_segments:True\"\n",
    "\n",
    "from torch import cuda\n",
    "\n",
    "cuda.get_device_name(0)"
   ]
  },
  {
   "cell_type": "code",
   "execution_count": 6,
   "metadata": {},
   "outputs": [],
   "source": [
    "from sklearn.model_selection import train_test_split\n",
    " \n",
    "train_data, test_data = train_test_split(annotations, train_size=0.80, random_state=random_seed, stratify=annotations[\"Personne\"])"
   ]
  },
  {
   "cell_type": "code",
   "execution_count": 7,
   "metadata": {},
   "outputs": [
    {
     "name": "stderr",
     "output_type": "stream",
     "text": [
      "Special tokens have been added in the vocabulary, make sure the associated word embeddings are fine-tuned or trained.\n"
     ]
    },
    {
     "name": "stdout",
     "output_type": "stream",
     "text": [
      "There are 1 GPU(s) available.\n",
      "We will use GPU 0: NVIDIA A2\n"
     ]
    }
   ],
   "source": [
    "from AugmentedSocialScientist.models import Camembert\n",
    "\n",
    "bert = Camembert()"
   ]
  },
  {
   "cell_type": "code",
   "execution_count": 8,
   "metadata": {},
   "outputs": [
    {
     "name": "stdout",
     "output_type": "stream",
     "text": [
      "Corps humain\n"
     ]
    },
    {
     "data": {
      "application/vnd.jupyter.widget-view+json": {
       "model_id": "8a64d9ad35894bb1a50e6b10ad9ec89c",
       "version_major": 2,
       "version_minor": 0
      },
      "text/plain": [
       "  0%|          | 0/1110 [00:00<?, ?it/s]"
      ]
     },
     "metadata": {},
     "output_type": "display_data"
    },
    {
     "data": {
      "application/vnd.jupyter.widget-view+json": {
       "model_id": "c474f77743e8466c935ab912566bdcf8",
       "version_major": 2,
       "version_minor": 0
      },
      "text/plain": [
       "  0%|          | 0/1110 [00:00<?, ?it/s]"
      ]
     },
     "metadata": {},
     "output_type": "display_data"
    },
    {
     "name": "stdout",
     "output_type": "stream",
     "text": [
      "label ids: {False: 0, True: 1}\n"
     ]
    },
    {
     "data": {
      "application/vnd.jupyter.widget-view+json": {
       "model_id": "f82e15a9af4d4ac0968980a554c36351",
       "version_major": 2,
       "version_minor": 0
      },
      "text/plain": [
       "  0%|          | 0/278 [00:00<?, ?it/s]"
      ]
     },
     "metadata": {},
     "output_type": "display_data"
    },
    {
     "data": {
      "application/vnd.jupyter.widget-view+json": {
       "model_id": "85389970719e4d39a1c491052af4fc99",
       "version_major": 2,
       "version_minor": 0
      },
      "text/plain": [
       "  0%|          | 0/278 [00:00<?, ?it/s]"
      ]
     },
     "metadata": {},
     "output_type": "display_data"
    },
    {
     "name": "stdout",
     "output_type": "stream",
     "text": [
      "label ids: {False: 0, True: 1}\n"
     ]
    },
    {
     "name": "stderr",
     "output_type": "stream",
     "text": [
      "Some weights of CamembertForSequenceClassification were not initialized from the model checkpoint at camembert-base and are newly initialized: ['classifier.dense.bias', 'classifier.dense.weight', 'classifier.out_proj.bias', 'classifier.out_proj.weight']\n",
      "You should probably TRAIN this model on a down-stream task to be able to use it for predictions and inference.\n",
      "/opt/mamba/lib/python3.12/site-packages/transformers/optimization.py:588: FutureWarning: This implementation of AdamW is deprecated and will be removed in a future version. Use the PyTorch implementation torch.optim.AdamW instead, or set `no_deprecation_warning=True` to disable this warning\n",
      "  warnings.warn(\n"
     ]
    },
    {
     "name": "stdout",
     "output_type": "stream",
     "text": [
      "\n",
      "======== Epoch 1 / 5 ========\n",
      "Training...\n",
      "  Batch    40  of     70.    Elapsed: 0:00:49.\n",
      "\n",
      "  Average training loss: 0.41\n",
      "  Training took: 0:01:25\n",
      "\n",
      "Running Validation...\n",
      "\n",
      "  Average test loss: 0.25\n",
      "  Validation took: 0:00:07\n",
      "              precision    recall  f1-score   support\n",
      "\n",
      "       False       0.94      0.97      0.95       230\n",
      "        True       0.81      0.71      0.76        48\n",
      "\n",
      "    accuracy                           0.92       278\n",
      "   macro avg       0.88      0.84      0.85       278\n",
      "weighted avg       0.92      0.92      0.92       278\n",
      "\n",
      "\n",
      "======== Epoch 2 / 5 ========\n",
      "Training...\n",
      "  Batch    40  of     70.    Elapsed: 0:00:49.\n",
      "\n",
      "  Average training loss: 0.18\n",
      "  Training took: 0:01:25\n",
      "\n",
      "Running Validation...\n",
      "\n",
      "  Average test loss: 0.21\n",
      "  Validation took: 0:00:07\n",
      "              precision    recall  f1-score   support\n",
      "\n",
      "       False       0.95      0.97      0.96       230\n",
      "        True       0.82      0.77      0.80        48\n",
      "\n",
      "    accuracy                           0.93       278\n",
      "   macro avg       0.89      0.87      0.88       278\n",
      "weighted avg       0.93      0.93      0.93       278\n",
      "\n",
      "\n",
      "======== Epoch 3 / 5 ========\n",
      "Training...\n",
      "  Batch    40  of     70.    Elapsed: 0:00:49.\n",
      "\n",
      "  Average training loss: 0.11\n",
      "  Training took: 0:01:25\n",
      "\n",
      "Running Validation...\n",
      "\n",
      "  Average test loss: 0.23\n",
      "  Validation took: 0:00:07\n",
      "              precision    recall  f1-score   support\n",
      "\n",
      "       False       0.95      0.97      0.96       230\n",
      "        True       0.82      0.75      0.78        48\n",
      "\n",
      "    accuracy                           0.93       278\n",
      "   macro avg       0.88      0.86      0.87       278\n",
      "weighted avg       0.93      0.93      0.93       278\n",
      "\n",
      "\n",
      "======== Epoch 4 / 5 ========\n",
      "Training...\n",
      "  Batch    40  of     70.    Elapsed: 0:00:49.\n",
      "\n",
      "  Average training loss: 0.09\n",
      "  Training took: 0:01:25\n",
      "\n",
      "Running Validation...\n",
      "\n",
      "  Average test loss: 0.23\n",
      "  Validation took: 0:00:07\n",
      "              precision    recall  f1-score   support\n",
      "\n",
      "       False       0.95      0.97      0.96       230\n",
      "        True       0.84      0.77      0.80        48\n",
      "\n",
      "    accuracy                           0.94       278\n",
      "   macro avg       0.90      0.87      0.88       278\n",
      "weighted avg       0.93      0.94      0.93       278\n",
      "\n",
      "\n",
      "======== Epoch 5 / 5 ========\n",
      "Training...\n",
      "  Batch    40  of     70.    Elapsed: 0:00:49.\n",
      "\n",
      "  Average training loss: 0.07\n",
      "  Training took: 0:01:25\n",
      "\n",
      "Running Validation...\n",
      "\n",
      "  Average test loss: 0.21\n",
      "  Validation took: 0:00:07\n",
      "              precision    recall  f1-score   support\n",
      "\n",
      "       False       0.97      0.96      0.97       230\n",
      "        True       0.82      0.85      0.84        48\n",
      "\n",
      "    accuracy                           0.94       278\n",
      "   macro avg       0.89      0.91      0.90       278\n",
      "weighted avg       0.94      0.94      0.94       278\n",
      "\n",
      "\n",
      "Training complete!\n",
      "Genre/espèce humaine\n"
     ]
    },
    {
     "data": {
      "application/vnd.jupyter.widget-view+json": {
       "model_id": "b0810e5f5ba84491b61c96662c666f1a",
       "version_major": 2,
       "version_minor": 0
      },
      "text/plain": [
       "  0%|          | 0/1110 [00:00<?, ?it/s]"
      ]
     },
     "metadata": {},
     "output_type": "display_data"
    },
    {
     "data": {
      "application/vnd.jupyter.widget-view+json": {
       "model_id": "3de04ada45784bf8818fb9a0ca74037a",
       "version_major": 2,
       "version_minor": 0
      },
      "text/plain": [
       "  0%|          | 0/1110 [00:00<?, ?it/s]"
      ]
     },
     "metadata": {},
     "output_type": "display_data"
    },
    {
     "name": "stdout",
     "output_type": "stream",
     "text": [
      "label ids: {False: 0, True: 1}\n"
     ]
    },
    {
     "data": {
      "application/vnd.jupyter.widget-view+json": {
       "model_id": "8f4e93d30a85407394d245958fdfff9d",
       "version_major": 2,
       "version_minor": 0
      },
      "text/plain": [
       "  0%|          | 0/278 [00:00<?, ?it/s]"
      ]
     },
     "metadata": {},
     "output_type": "display_data"
    },
    {
     "data": {
      "application/vnd.jupyter.widget-view+json": {
       "model_id": "e1fc518359a047449ff30bcdc4255167",
       "version_major": 2,
       "version_minor": 0
      },
      "text/plain": [
       "  0%|          | 0/278 [00:00<?, ?it/s]"
      ]
     },
     "metadata": {},
     "output_type": "display_data"
    },
    {
     "name": "stdout",
     "output_type": "stream",
     "text": [
      "label ids: {False: 0, True: 1}\n"
     ]
    },
    {
     "name": "stderr",
     "output_type": "stream",
     "text": [
      "Some weights of CamembertForSequenceClassification were not initialized from the model checkpoint at camembert-base and are newly initialized: ['classifier.dense.bias', 'classifier.dense.weight', 'classifier.out_proj.bias', 'classifier.out_proj.weight']\n",
      "You should probably TRAIN this model on a down-stream task to be able to use it for predictions and inference.\n",
      "/opt/mamba/lib/python3.12/site-packages/transformers/optimization.py:588: FutureWarning: This implementation of AdamW is deprecated and will be removed in a future version. Use the PyTorch implementation torch.optim.AdamW instead, or set `no_deprecation_warning=True` to disable this warning\n",
      "  warnings.warn(\n"
     ]
    },
    {
     "name": "stdout",
     "output_type": "stream",
     "text": [
      "\n",
      "======== Epoch 1 / 5 ========\n",
      "Training...\n",
      "  Batch    40  of     70.    Elapsed: 0:00:49.\n",
      "\n",
      "  Average training loss: 0.49\n",
      "  Training took: 0:01:25\n",
      "\n",
      "Running Validation...\n",
      "\n",
      "  Average test loss: 0.38\n",
      "  Validation took: 0:00:07\n",
      "              precision    recall  f1-score   support\n",
      "\n",
      "       False       0.82      1.00      0.90       227\n",
      "        True       0.00      0.00      0.00        51\n",
      "\n",
      "    accuracy                           0.82       278\n",
      "   macro avg       0.41      0.50      0.45       278\n",
      "weighted avg       0.67      0.82      0.73       278\n",
      "\n",
      "\n",
      "======== Epoch 2 / 5 ========\n",
      "Training...\n"
     ]
    },
    {
     "name": "stderr",
     "output_type": "stream",
     "text": [
      "/opt/mamba/lib/python3.12/site-packages/sklearn/metrics/_classification.py:1517: UndefinedMetricWarning: Precision is ill-defined and being set to 0.0 in labels with no predicted samples. Use `zero_division` parameter to control this behavior.\n",
      "  _warn_prf(average, modifier, f\"{metric.capitalize()} is\", len(result))\n",
      "/opt/mamba/lib/python3.12/site-packages/sklearn/metrics/_classification.py:1517: UndefinedMetricWarning: Precision is ill-defined and being set to 0.0 in labels with no predicted samples. Use `zero_division` parameter to control this behavior.\n",
      "  _warn_prf(average, modifier, f\"{metric.capitalize()} is\", len(result))\n",
      "/opt/mamba/lib/python3.12/site-packages/sklearn/metrics/_classification.py:1517: UndefinedMetricWarning: Precision is ill-defined and being set to 0.0 in labels with no predicted samples. Use `zero_division` parameter to control this behavior.\n",
      "  _warn_prf(average, modifier, f\"{metric.capitalize()} is\", len(result))\n",
      "/opt/mamba/lib/python3.12/site-packages/sklearn/metrics/_classification.py:1517: UndefinedMetricWarning: Precision is ill-defined and being set to 0.0 in labels with no predicted samples. Use `zero_division` parameter to control this behavior.\n",
      "  _warn_prf(average, modifier, f\"{metric.capitalize()} is\", len(result))\n"
     ]
    },
    {
     "name": "stdout",
     "output_type": "stream",
     "text": [
      "  Batch    40  of     70.    Elapsed: 0:00:49.\n",
      "\n",
      "  Average training loss: 0.29\n",
      "  Training took: 0:01:25\n",
      "\n",
      "Running Validation...\n",
      "\n",
      "  Average test loss: 0.31\n",
      "  Validation took: 0:00:07\n",
      "              precision    recall  f1-score   support\n",
      "\n",
      "       False       0.93      0.91      0.92       227\n",
      "        True       0.63      0.71      0.67        51\n",
      "\n",
      "    accuracy                           0.87       278\n",
      "   macro avg       0.78      0.81      0.79       278\n",
      "weighted avg       0.88      0.87      0.87       278\n",
      "\n",
      "\n",
      "======== Epoch 3 / 5 ========\n",
      "Training...\n",
      "  Batch    40  of     70.    Elapsed: 0:00:49.\n",
      "\n",
      "  Average training loss: 0.19\n",
      "  Training took: 0:01:25\n",
      "\n",
      "Running Validation...\n",
      "\n",
      "  Average test loss: 0.33\n",
      "  Validation took: 0:00:07\n",
      "              precision    recall  f1-score   support\n",
      "\n",
      "       False       0.94      0.91      0.93       227\n",
      "        True       0.65      0.76      0.70        51\n",
      "\n",
      "    accuracy                           0.88       278\n",
      "   macro avg       0.80      0.84      0.81       278\n",
      "weighted avg       0.89      0.88      0.88       278\n",
      "\n",
      "\n",
      "======== Epoch 4 / 5 ========\n",
      "Training...\n",
      "  Batch    40  of     70.    Elapsed: 0:00:49.\n",
      "\n",
      "  Average training loss: 0.16\n",
      "  Training took: 0:01:25\n",
      "\n",
      "Running Validation...\n",
      "\n",
      "  Average test loss: 0.31\n",
      "  Validation took: 0:00:07\n",
      "              precision    recall  f1-score   support\n",
      "\n",
      "       False       0.93      0.95      0.94       227\n",
      "        True       0.75      0.71      0.73        51\n",
      "\n",
      "    accuracy                           0.90       278\n",
      "   macro avg       0.84      0.83      0.83       278\n",
      "weighted avg       0.90      0.90      0.90       278\n",
      "\n",
      "\n",
      "======== Epoch 5 / 5 ========\n",
      "Training...\n",
      "  Batch    40  of     70.    Elapsed: 0:00:49.\n",
      "\n",
      "  Average training loss: 0.14\n",
      "  Training took: 0:01:25\n",
      "\n",
      "Running Validation...\n",
      "\n",
      "  Average test loss: 0.34\n",
      "  Validation took: 0:00:07\n",
      "              precision    recall  f1-score   support\n",
      "\n",
      "       False       0.94      0.93      0.93       227\n",
      "        True       0.69      0.75      0.72        51\n",
      "\n",
      "    accuracy                           0.89       278\n",
      "   macro avg       0.82      0.84      0.83       278\n",
      "weighted avg       0.90      0.89      0.89       278\n",
      "\n",
      "\n",
      "Training complete!\n",
      "Individu ou sujet\n"
     ]
    },
    {
     "data": {
      "application/vnd.jupyter.widget-view+json": {
       "model_id": "682b4c4301694aeab3025a1d3079a11c",
       "version_major": 2,
       "version_minor": 0
      },
      "text/plain": [
       "  0%|          | 0/1110 [00:00<?, ?it/s]"
      ]
     },
     "metadata": {},
     "output_type": "display_data"
    },
    {
     "data": {
      "application/vnd.jupyter.widget-view+json": {
       "model_id": "2f3d5a47622e4f2883e5ceaf308e4061",
       "version_major": 2,
       "version_minor": 0
      },
      "text/plain": [
       "  0%|          | 0/1110 [00:00<?, ?it/s]"
      ]
     },
     "metadata": {},
     "output_type": "display_data"
    },
    {
     "name": "stdout",
     "output_type": "stream",
     "text": [
      "label ids: {False: 0, True: 1}\n"
     ]
    },
    {
     "data": {
      "application/vnd.jupyter.widget-view+json": {
       "model_id": "be4f840434e64501b39e0b1215d52728",
       "version_major": 2,
       "version_minor": 0
      },
      "text/plain": [
       "  0%|          | 0/278 [00:00<?, ?it/s]"
      ]
     },
     "metadata": {},
     "output_type": "display_data"
    },
    {
     "data": {
      "application/vnd.jupyter.widget-view+json": {
       "model_id": "8659ae1b65054f1383db3c8378f519f0",
       "version_major": 2,
       "version_minor": 0
      },
      "text/plain": [
       "  0%|          | 0/278 [00:00<?, ?it/s]"
      ]
     },
     "metadata": {},
     "output_type": "display_data"
    },
    {
     "name": "stdout",
     "output_type": "stream",
     "text": [
      "label ids: {False: 0, True: 1}\n"
     ]
    },
    {
     "name": "stderr",
     "output_type": "stream",
     "text": [
      "Some weights of CamembertForSequenceClassification were not initialized from the model checkpoint at camembert-base and are newly initialized: ['classifier.dense.bias', 'classifier.dense.weight', 'classifier.out_proj.bias', 'classifier.out_proj.weight']\n",
      "You should probably TRAIN this model on a down-stream task to be able to use it for predictions and inference.\n",
      "/opt/mamba/lib/python3.12/site-packages/transformers/optimization.py:588: FutureWarning: This implementation of AdamW is deprecated and will be removed in a future version. Use the PyTorch implementation torch.optim.AdamW instead, or set `no_deprecation_warning=True` to disable this warning\n",
      "  warnings.warn(\n"
     ]
    },
    {
     "name": "stdout",
     "output_type": "stream",
     "text": [
      "\n",
      "======== Epoch 1 / 5 ========\n",
      "Training...\n",
      "  Batch    40  of     70.    Elapsed: 0:00:49.\n",
      "\n",
      "  Average training loss: 0.50\n",
      "  Training took: 0:01:25\n",
      "\n",
      "Running Validation...\n",
      "\n",
      "  Average test loss: 0.44\n",
      "  Validation took: 0:00:07\n",
      "              precision    recall  f1-score   support\n",
      "\n",
      "       False       0.82      1.00      0.90       228\n",
      "        True       0.00      0.00      0.00        50\n",
      "\n",
      "    accuracy                           0.82       278\n",
      "   macro avg       0.41      0.50      0.45       278\n",
      "weighted avg       0.67      0.82      0.74       278\n",
      "\n",
      "\n",
      "======== Epoch 2 / 5 ========\n",
      "Training...\n"
     ]
    },
    {
     "name": "stderr",
     "output_type": "stream",
     "text": [
      "/opt/mamba/lib/python3.12/site-packages/sklearn/metrics/_classification.py:1517: UndefinedMetricWarning: Precision is ill-defined and being set to 0.0 in labels with no predicted samples. Use `zero_division` parameter to control this behavior.\n",
      "  _warn_prf(average, modifier, f\"{metric.capitalize()} is\", len(result))\n",
      "/opt/mamba/lib/python3.12/site-packages/sklearn/metrics/_classification.py:1517: UndefinedMetricWarning: Precision is ill-defined and being set to 0.0 in labels with no predicted samples. Use `zero_division` parameter to control this behavior.\n",
      "  _warn_prf(average, modifier, f\"{metric.capitalize()} is\", len(result))\n",
      "/opt/mamba/lib/python3.12/site-packages/sklearn/metrics/_classification.py:1517: UndefinedMetricWarning: Precision is ill-defined and being set to 0.0 in labels with no predicted samples. Use `zero_division` parameter to control this behavior.\n",
      "  _warn_prf(average, modifier, f\"{metric.capitalize()} is\", len(result))\n",
      "/opt/mamba/lib/python3.12/site-packages/sklearn/metrics/_classification.py:1517: UndefinedMetricWarning: Precision is ill-defined and being set to 0.0 in labels with no predicted samples. Use `zero_division` parameter to control this behavior.\n",
      "  _warn_prf(average, modifier, f\"{metric.capitalize()} is\", len(result))\n"
     ]
    },
    {
     "name": "stdout",
     "output_type": "stream",
     "text": [
      "  Batch    40  of     70.    Elapsed: 0:00:49.\n",
      "\n",
      "  Average training loss: 0.38\n",
      "  Training took: 0:01:25\n",
      "\n",
      "Running Validation...\n",
      "\n",
      "  Average test loss: 0.38\n",
      "  Validation took: 0:00:07\n",
      "              precision    recall  f1-score   support\n",
      "\n",
      "       False       0.86      1.00      0.92       228\n",
      "        True       0.92      0.24      0.38        50\n",
      "\n",
      "    accuracy                           0.86       278\n",
      "   macro avg       0.89      0.62      0.65       278\n",
      "weighted avg       0.87      0.86      0.82       278\n",
      "\n",
      "\n",
      "======== Epoch 3 / 5 ========\n",
      "Training...\n",
      "  Batch    40  of     70.    Elapsed: 0:00:49.\n",
      "\n",
      "  Average training loss: 0.31\n",
      "  Training took: 0:01:25\n",
      "\n",
      "Running Validation...\n",
      "\n",
      "  Average test loss: 0.35\n",
      "  Validation took: 0:00:07\n",
      "              precision    recall  f1-score   support\n",
      "\n",
      "       False       0.88      0.98      0.93       228\n",
      "        True       0.81      0.42      0.55        50\n",
      "\n",
      "    accuracy                           0.88       278\n",
      "   macro avg       0.85      0.70      0.74       278\n",
      "weighted avg       0.87      0.88      0.86       278\n",
      "\n",
      "\n",
      "======== Epoch 4 / 5 ========\n",
      "Training...\n",
      "  Batch    40  of     70.    Elapsed: 0:00:49.\n",
      "\n",
      "  Average training loss: 0.25\n",
      "  Training took: 0:01:25\n",
      "\n",
      "Running Validation...\n",
      "\n",
      "  Average test loss: 0.35\n",
      "  Validation took: 0:00:07\n",
      "              precision    recall  f1-score   support\n",
      "\n",
      "       False       0.91      0.92      0.91       228\n",
      "        True       0.61      0.60      0.61        50\n",
      "\n",
      "    accuracy                           0.86       278\n",
      "   macro avg       0.76      0.76      0.76       278\n",
      "weighted avg       0.86      0.86      0.86       278\n",
      "\n",
      "\n",
      "======== Epoch 5 / 5 ========\n",
      "Training...\n",
      "  Batch    40  of     70.    Elapsed: 0:00:49.\n",
      "\n",
      "  Average training loss: 0.20\n",
      "  Training took: 0:01:25\n",
      "\n",
      "Running Validation...\n",
      "\n",
      "  Average test loss: 0.35\n",
      "  Validation took: 0:00:07\n",
      "              precision    recall  f1-score   support\n",
      "\n",
      "       False       0.90      0.94      0.92       228\n",
      "        True       0.66      0.50      0.57        50\n",
      "\n",
      "    accuracy                           0.86       278\n",
      "   macro avg       0.78      0.72      0.74       278\n",
      "weighted avg       0.85      0.86      0.86       278\n",
      "\n",
      "\n",
      "Training complete!\n",
      "Personne relationnelle\n"
     ]
    },
    {
     "data": {
      "application/vnd.jupyter.widget-view+json": {
       "model_id": "cff4a7576e1d4a0fb037b1cb38437737",
       "version_major": 2,
       "version_minor": 0
      },
      "text/plain": [
       "  0%|          | 0/1110 [00:00<?, ?it/s]"
      ]
     },
     "metadata": {},
     "output_type": "display_data"
    },
    {
     "data": {
      "application/vnd.jupyter.widget-view+json": {
       "model_id": "0dd28590da424a21bdfe088fe6fae84d",
       "version_major": 2,
       "version_minor": 0
      },
      "text/plain": [
       "  0%|          | 0/1110 [00:00<?, ?it/s]"
      ]
     },
     "metadata": {},
     "output_type": "display_data"
    },
    {
     "name": "stdout",
     "output_type": "stream",
     "text": [
      "label ids: {False: 0, True: 1}\n"
     ]
    },
    {
     "data": {
      "application/vnd.jupyter.widget-view+json": {
       "model_id": "52859a7226ed43a59ce784b7d6179bf8",
       "version_major": 2,
       "version_minor": 0
      },
      "text/plain": [
       "  0%|          | 0/278 [00:00<?, ?it/s]"
      ]
     },
     "metadata": {},
     "output_type": "display_data"
    },
    {
     "data": {
      "application/vnd.jupyter.widget-view+json": {
       "model_id": "727933eca6824e54a2a40392e70b1970",
       "version_major": 2,
       "version_minor": 0
      },
      "text/plain": [
       "  0%|          | 0/278 [00:00<?, ?it/s]"
      ]
     },
     "metadata": {},
     "output_type": "display_data"
    },
    {
     "name": "stdout",
     "output_type": "stream",
     "text": [
      "label ids: {False: 0, True: 1}\n"
     ]
    },
    {
     "name": "stderr",
     "output_type": "stream",
     "text": [
      "Some weights of CamembertForSequenceClassification were not initialized from the model checkpoint at camembert-base and are newly initialized: ['classifier.dense.bias', 'classifier.dense.weight', 'classifier.out_proj.bias', 'classifier.out_proj.weight']\n",
      "You should probably TRAIN this model on a down-stream task to be able to use it for predictions and inference.\n",
      "/opt/mamba/lib/python3.12/site-packages/transformers/optimization.py:588: FutureWarning: This implementation of AdamW is deprecated and will be removed in a future version. Use the PyTorch implementation torch.optim.AdamW instead, or set `no_deprecation_warning=True` to disable this warning\n",
      "  warnings.warn(\n"
     ]
    },
    {
     "name": "stdout",
     "output_type": "stream",
     "text": [
      "\n",
      "======== Epoch 1 / 5 ========\n",
      "Training...\n",
      "  Batch    40  of     70.    Elapsed: 0:00:49.\n",
      "\n",
      "  Average training loss: 0.46\n",
      "  Training took: 0:01:25\n",
      "\n",
      "Running Validation...\n",
      "\n",
      "  Average test loss: 0.38\n",
      "  Validation took: 0:00:07\n",
      "              precision    recall  f1-score   support\n",
      "\n",
      "       False       0.84      1.00      0.91       233\n",
      "        True       0.00      0.00      0.00        45\n",
      "\n",
      "    accuracy                           0.84       278\n",
      "   macro avg       0.42      0.50      0.46       278\n",
      "weighted avg       0.70      0.84      0.76       278\n",
      "\n",
      "\n",
      "======== Epoch 2 / 5 ========\n",
      "Training...\n"
     ]
    },
    {
     "name": "stderr",
     "output_type": "stream",
     "text": [
      "/opt/mamba/lib/python3.12/site-packages/sklearn/metrics/_classification.py:1517: UndefinedMetricWarning: Precision is ill-defined and being set to 0.0 in labels with no predicted samples. Use `zero_division` parameter to control this behavior.\n",
      "  _warn_prf(average, modifier, f\"{metric.capitalize()} is\", len(result))\n",
      "/opt/mamba/lib/python3.12/site-packages/sklearn/metrics/_classification.py:1517: UndefinedMetricWarning: Precision is ill-defined and being set to 0.0 in labels with no predicted samples. Use `zero_division` parameter to control this behavior.\n",
      "  _warn_prf(average, modifier, f\"{metric.capitalize()} is\", len(result))\n",
      "/opt/mamba/lib/python3.12/site-packages/sklearn/metrics/_classification.py:1517: UndefinedMetricWarning: Precision is ill-defined and being set to 0.0 in labels with no predicted samples. Use `zero_division` parameter to control this behavior.\n",
      "  _warn_prf(average, modifier, f\"{metric.capitalize()} is\", len(result))\n",
      "/opt/mamba/lib/python3.12/site-packages/sklearn/metrics/_classification.py:1517: UndefinedMetricWarning: Precision is ill-defined and being set to 0.0 in labels with no predicted samples. Use `zero_division` parameter to control this behavior.\n",
      "  _warn_prf(average, modifier, f\"{metric.capitalize()} is\", len(result))\n"
     ]
    },
    {
     "name": "stdout",
     "output_type": "stream",
     "text": [
      "  Batch    40  of     70.    Elapsed: 0:00:49.\n",
      "\n",
      "  Average training loss: 0.30\n",
      "  Training took: 0:01:25\n",
      "\n",
      "Running Validation...\n",
      "\n",
      "  Average test loss: 0.32\n",
      "  Validation took: 0:00:07\n",
      "              precision    recall  f1-score   support\n",
      "\n",
      "       False       0.93      0.92      0.92       233\n",
      "        True       0.60      0.64      0.62        45\n",
      "\n",
      "    accuracy                           0.87       278\n",
      "   macro avg       0.77      0.78      0.77       278\n",
      "weighted avg       0.88      0.87      0.88       278\n",
      "\n",
      "\n",
      "======== Epoch 3 / 5 ========\n",
      "Training...\n",
      "  Batch    40  of     70.    Elapsed: 0:00:49.\n",
      "\n",
      "  Average training loss: 0.19\n",
      "  Training took: 0:01:25\n",
      "\n",
      "Running Validation...\n",
      "\n",
      "  Average test loss: 0.33\n",
      "  Validation took: 0:00:07\n",
      "              precision    recall  f1-score   support\n",
      "\n",
      "       False       0.93      0.94      0.93       233\n",
      "        True       0.67      0.62      0.64        45\n",
      "\n",
      "    accuracy                           0.89       278\n",
      "   macro avg       0.80      0.78      0.79       278\n",
      "weighted avg       0.89      0.89      0.89       278\n",
      "\n",
      "\n",
      "======== Epoch 4 / 5 ========\n",
      "Training...\n",
      "  Batch    40  of     70.    Elapsed: 0:00:49.\n",
      "\n",
      "  Average training loss: 0.13\n",
      "  Training took: 0:01:25\n",
      "\n",
      "Running Validation...\n",
      "\n",
      "  Average test loss: 0.32\n",
      "  Validation took: 0:00:07\n",
      "              precision    recall  f1-score   support\n",
      "\n",
      "       False       0.93      0.97      0.95       233\n",
      "        True       0.80      0.62      0.70        45\n",
      "\n",
      "    accuracy                           0.91       278\n",
      "   macro avg       0.87      0.80      0.82       278\n",
      "weighted avg       0.91      0.91      0.91       278\n",
      "\n",
      "\n",
      "======== Epoch 5 / 5 ========\n",
      "Training...\n",
      "  Batch    40  of     70.    Elapsed: 0:00:49.\n",
      "\n",
      "  Average training loss: 0.10\n",
      "  Training took: 0:01:25\n",
      "\n",
      "Running Validation...\n",
      "\n",
      "  Average test loss: 0.33\n",
      "  Validation took: 0:00:07\n",
      "              precision    recall  f1-score   support\n",
      "\n",
      "       False       0.93      0.96      0.94       233\n",
      "        True       0.74      0.62      0.67        45\n",
      "\n",
      "    accuracy                           0.90       278\n",
      "   macro avg       0.83      0.79      0.81       278\n",
      "weighted avg       0.90      0.90      0.90       278\n",
      "\n",
      "\n",
      "Training complete!\n",
      "Personne droits et devoirs\n"
     ]
    },
    {
     "data": {
      "application/vnd.jupyter.widget-view+json": {
       "model_id": "9d91b88ce86346dfb758e697301960e8",
       "version_major": 2,
       "version_minor": 0
      },
      "text/plain": [
       "  0%|          | 0/1110 [00:00<?, ?it/s]"
      ]
     },
     "metadata": {},
     "output_type": "display_data"
    },
    {
     "data": {
      "application/vnd.jupyter.widget-view+json": {
       "model_id": "a110395d68164e0095e9fa8ca4344e4c",
       "version_major": 2,
       "version_minor": 0
      },
      "text/plain": [
       "  0%|          | 0/1110 [00:00<?, ?it/s]"
      ]
     },
     "metadata": {},
     "output_type": "display_data"
    },
    {
     "name": "stdout",
     "output_type": "stream",
     "text": [
      "label ids: {False: 0, True: 1}\n"
     ]
    },
    {
     "data": {
      "application/vnd.jupyter.widget-view+json": {
       "model_id": "e85f7d5d9ffb4f63a0f44354f955af2f",
       "version_major": 2,
       "version_minor": 0
      },
      "text/plain": [
       "  0%|          | 0/278 [00:00<?, ?it/s]"
      ]
     },
     "metadata": {},
     "output_type": "display_data"
    },
    {
     "data": {
      "application/vnd.jupyter.widget-view+json": {
       "model_id": "dcd8507659c74aefb8e44b1abb82477e",
       "version_major": 2,
       "version_minor": 0
      },
      "text/plain": [
       "  0%|          | 0/278 [00:00<?, ?it/s]"
      ]
     },
     "metadata": {},
     "output_type": "display_data"
    },
    {
     "name": "stdout",
     "output_type": "stream",
     "text": [
      "label ids: {False: 0, True: 1}\n"
     ]
    },
    {
     "name": "stderr",
     "output_type": "stream",
     "text": [
      "Some weights of CamembertForSequenceClassification were not initialized from the model checkpoint at camembert-base and are newly initialized: ['classifier.dense.bias', 'classifier.dense.weight', 'classifier.out_proj.bias', 'classifier.out_proj.weight']\n",
      "You should probably TRAIN this model on a down-stream task to be able to use it for predictions and inference.\n",
      "/opt/mamba/lib/python3.12/site-packages/transformers/optimization.py:588: FutureWarning: This implementation of AdamW is deprecated and will be removed in a future version. Use the PyTorch implementation torch.optim.AdamW instead, or set `no_deprecation_warning=True` to disable this warning\n",
      "  warnings.warn(\n"
     ]
    },
    {
     "name": "stdout",
     "output_type": "stream",
     "text": [
      "\n",
      "======== Epoch 1 / 5 ========\n",
      "Training...\n",
      "  Batch    40  of     70.    Elapsed: 0:00:49.\n",
      "\n",
      "  Average training loss: 0.61\n",
      "  Training took: 0:01:25\n",
      "\n",
      "Running Validation...\n",
      "\n",
      "  Average test loss: 0.53\n",
      "  Validation took: 0:00:07\n",
      "              precision    recall  f1-score   support\n",
      "\n",
      "       False       0.72      0.99      0.83       194\n",
      "        True       0.82      0.11      0.19        84\n",
      "\n",
      "    accuracy                           0.72       278\n",
      "   macro avg       0.77      0.55      0.51       278\n",
      "weighted avg       0.75      0.72      0.64       278\n",
      "\n",
      "\n",
      "======== Epoch 2 / 5 ========\n",
      "Training...\n",
      "  Batch    40  of     70.    Elapsed: 0:00:49.\n",
      "\n",
      "  Average training loss: 0.47\n",
      "  Training took: 0:01:25\n",
      "\n",
      "Running Validation...\n",
      "\n",
      "  Average test loss: 0.45\n",
      "  Validation took: 0:00:07\n",
      "              precision    recall  f1-score   support\n",
      "\n",
      "       False       0.86      0.83      0.85       194\n",
      "        True       0.64      0.69      0.66        84\n",
      "\n",
      "    accuracy                           0.79       278\n",
      "   macro avg       0.75      0.76      0.75       278\n",
      "weighted avg       0.79      0.79      0.79       278\n",
      "\n",
      "\n",
      "======== Epoch 3 / 5 ========\n",
      "Training...\n",
      "  Batch    40  of     70.    Elapsed: 0:00:49.\n",
      "\n",
      "  Average training loss: 0.36\n",
      "  Training took: 0:01:25\n",
      "\n",
      "Running Validation...\n",
      "\n",
      "  Average test loss: 0.47\n",
      "  Validation took: 0:00:07\n",
      "              precision    recall  f1-score   support\n",
      "\n",
      "       False       0.88      0.76      0.81       194\n",
      "        True       0.58      0.76      0.66        84\n",
      "\n",
      "    accuracy                           0.76       278\n",
      "   macro avg       0.73      0.76      0.74       278\n",
      "weighted avg       0.79      0.76      0.77       278\n",
      "\n",
      "\n",
      "======== Epoch 4 / 5 ========\n",
      "Training...\n",
      "  Batch    40  of     70.    Elapsed: 0:00:49.\n",
      "\n",
      "  Average training loss: 0.27\n",
      "  Training took: 0:01:25\n",
      "\n",
      "Running Validation...\n",
      "\n",
      "  Average test loss: 0.50\n",
      "  Validation took: 0:00:07\n",
      "              precision    recall  f1-score   support\n",
      "\n",
      "       False       0.86      0.82      0.84       194\n",
      "        True       0.63      0.69      0.66        84\n",
      "\n",
      "    accuracy                           0.78       278\n",
      "   macro avg       0.75      0.76      0.75       278\n",
      "weighted avg       0.79      0.78      0.79       278\n",
      "\n",
      "\n",
      "======== Epoch 5 / 5 ========\n",
      "Training...\n",
      "  Batch    40  of     70.    Elapsed: 0:00:49.\n",
      "\n",
      "  Average training loss: 0.22\n",
      "  Training took: 0:01:25\n",
      "\n",
      "Running Validation...\n",
      "\n",
      "  Average test loss: 0.52\n",
      "  Validation took: 0:00:07\n",
      "              precision    recall  f1-score   support\n",
      "\n",
      "       False       0.86      0.82      0.84       194\n",
      "        True       0.63      0.68      0.65        84\n",
      "\n",
      "    accuracy                           0.78       278\n",
      "   macro avg       0.74      0.75      0.75       278\n",
      "weighted avg       0.79      0.78      0.78       278\n",
      "\n",
      "\n",
      "Training complete!\n"
     ]
    }
   ],
   "source": [
    "train_data['text'] = train_data['sentence']\n",
    "test_data['text'] = test_data['sentence']\n",
    "\n",
    "scores_by_cat = dict()\n",
    "categories_for_models = [\"Corps humain\",\"Genre/espèce humaine\",\"Individu ou sujet\",\n",
    "            \"Personne relationnelle\",\"Personne droits et devoirs\"]\n",
    "for cat in categories_for_models:\n",
    "    train_data['label'] = (train_data['recat']==cat)\n",
    "    test_data['label'] = (test_data['recat']==cat)\n",
    "    print(cat)\n",
    "    batch_size = 16\n",
    "    train_loader = bert.encode(train_data.text.values,\n",
    "    train_data.label.values, batch_size=batch_size)\n",
    "\n",
    "    test_loader = bert.encode(test_data.text.values,\n",
    "    test_data.label.values, batch_size=batch_size)\n",
    "\n",
    "    scores = bert.run_training(\n",
    "        train_loader,\n",
    "        test_loader,\n",
    "        n_epochs=5,\n",
    "        lr=2e-5,\n",
    "        random_state=random_seed,\n",
    "        save_model_as=cat\n",
    "        )\n",
    "\n",
    "    scores_by_cat[cat] = scores\n"
   ]
  },
  {
   "cell_type": "code",
   "execution_count": 15,
   "metadata": {},
   "outputs": [
    {
     "name": "stdout",
     "output_type": "stream",
     "text": [
      "Corps humain\n",
      "          precision    recall  f1-score  support\n",
      "category                                        \n",
      "False      0.969298  0.960870  0.965066      230\n",
      "True       0.820000  0.854167  0.836735       48\n",
      "Genre/espèce humaine\n",
      "          precision    recall  f1-score  support\n",
      "category                                        \n",
      "False      0.941704  0.925110  0.933333      227\n",
      "True       0.690909  0.745098  0.716981       51\n",
      "Individu ou sujet\n",
      "          precision    recall  f1-score  support\n",
      "category                                        \n",
      "False      0.895833  0.942982  0.918803      228\n",
      "True       0.657895  0.500000  0.568182       50\n",
      "Personne relationnelle\n",
      "          precision    recall  f1-score  support\n",
      "category                                        \n",
      "False      0.929167  0.957082  0.942918      233\n",
      "True       0.736842  0.622222  0.674699       45\n",
      "Personne droits et devoirs\n",
      "          precision    recall  f1-score  support\n",
      "category                                        \n",
      "False      0.855615  0.824742  0.839895      194\n",
      "True       0.626374  0.678571  0.651429       84\n"
     ]
    }
   ],
   "source": [
    "for cat in categories_for_models:\n",
    "    scores = scores_by_cat[cat]\n",
    "    categories = ['False','True']\n",
    "    pd.DataFrame({\n",
    "        \"category\" : categories,\n",
    "        \"precision\" : scores[0],\n",
    "        \"recall\" : scores[1],\n",
    "        \"f1-score\" : scores[2],\n",
    "        \"support\" : scores[3]\n",
    "    }).set_index(\"category\").to_csv(f\"./models/{cat}/scores.csv\")\n",
    "    print(cat)\n",
    "    print(\n",
    "    pd.DataFrame({\n",
    "        \"category\" : categories,\n",
    "        \"precision\" : scores[0],\n",
    "        \"recall\" : scores[1],\n",
    "        \"f1-score\" : scores[2],\n",
    "        \"support\" : scores[3]\n",
    "    }).set_index(\"category\")\n",
    "    )"
   ]
  },
  {
   "cell_type": "code",
   "execution_count": 16,
   "metadata": {},
   "outputs": [
    {
     "name": "stdout",
     "output_type": "stream",
     "text": [
      "Folder 'models' successfully zipped to 'models.zip'\n"
     ]
    }
   ],
   "source": [
    "import os\n",
    "import zipfile\n",
    "\n",
    "def zip_folder(folder_path, zip_file_path):\n",
    "    with zipfile.ZipFile(zip_file_path, 'w', zipfile.ZIP_DEFLATED) as zipf:\n",
    "        for root, dirs, files in os.walk(folder_path):\n",
    "            for file in files:\n",
    "                # Create a relative path for the file inside the zip archive\n",
    "                file_path = os.path.join(root, file)\n",
    "                relative_path = os.path.relpath(file_path, folder_path)\n",
    "                zipf.write(file_path, relative_path)\n",
    "    print(f\"Folder '{folder_path}' successfully zipped to '{zip_file_path}'\")\n",
    "\n",
    "# Example usage\n",
    "folder_path = 'models'\n",
    "zip_file_path = 'models.zip'\n",
    "zip_folder(folder_path, zip_file_path)\n"
   ]
  }
 ],
 "metadata": {
  "kernelspec": {
   "display_name": "ccne",
   "language": "python",
   "name": "python3"
  },
  "language_info": {
   "codemirror_mode": {
    "name": "ipython",
    "version": 3
   },
   "file_extension": ".py",
   "mimetype": "text/x-python",
   "name": "python",
   "nbconvert_exporter": "python",
   "pygments_lexer": "ipython3",
   "version": "3.12.2"
  }
 },
 "nbformat": 4,
 "nbformat_minor": 2
}
