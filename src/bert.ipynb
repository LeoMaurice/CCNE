{
 "cells": [
  {
   "cell_type": "code",
   "execution_count": 1,
   "metadata": {},
   "outputs": [
    {
     "name": "stdout",
     "output_type": "stream",
     "text": [
      "Requirement already satisfied: AugmentedSocialScientist in /opt/mamba/lib/python3.11/site-packages (2.2.1)\n",
      "Requirement already satisfied: pandas in /opt/mamba/lib/python3.11/site-packages (2.2.1)\n",
      "Requirement already satisfied: numpy in /opt/mamba/lib/python3.11/site-packages (1.26.4)\n",
      "Requirement already satisfied: scikit-learn in /opt/mamba/lib/python3.11/site-packages (from AugmentedSocialScientist) (1.4.1.post1)\n",
      "Requirement already satisfied: tqdm in /opt/mamba/lib/python3.11/site-packages (from AugmentedSocialScientist) (4.66.1)\n",
      "Requirement already satisfied: scipy in /opt/mamba/lib/python3.11/site-packages (from AugmentedSocialScientist) (1.12.0)\n",
      "Requirement already satisfied: torch in /opt/mamba/lib/python3.11/site-packages (from AugmentedSocialScientist) (2.2.1)\n",
      "Requirement already satisfied: transformers in /opt/mamba/lib/python3.11/site-packages (from AugmentedSocialScientist) (4.38.2)\n",
      "Requirement already satisfied: sentencepiece in /opt/mamba/lib/python3.11/site-packages (from AugmentedSocialScientist) (0.2.0)\n",
      "Requirement already satisfied: python-dateutil>=2.8.2 in /opt/mamba/lib/python3.11/site-packages (from pandas) (2.9.0)\n",
      "Requirement already satisfied: pytz>=2020.1 in /opt/mamba/lib/python3.11/site-packages (from pandas) (2024.1)\n",
      "Requirement already satisfied: tzdata>=2022.7 in /opt/mamba/lib/python3.11/site-packages (from pandas) (2024.1)\n",
      "Requirement already satisfied: six>=1.5 in /opt/mamba/lib/python3.11/site-packages (from python-dateutil>=2.8.2->pandas) (1.16.0)\n",
      "Requirement already satisfied: joblib>=1.2.0 in /opt/mamba/lib/python3.11/site-packages (from scikit-learn->AugmentedSocialScientist) (1.3.2)\n",
      "Requirement already satisfied: threadpoolctl>=2.0.0 in /opt/mamba/lib/python3.11/site-packages (from scikit-learn->AugmentedSocialScientist) (3.3.0)\n",
      "Requirement already satisfied: filelock in /opt/mamba/lib/python3.11/site-packages (from torch->AugmentedSocialScientist) (3.13.1)\n",
      "Requirement already satisfied: typing-extensions>=4.8.0 in /opt/mamba/lib/python3.11/site-packages (from torch->AugmentedSocialScientist) (4.10.0)\n",
      "Requirement already satisfied: sympy in /opt/mamba/lib/python3.11/site-packages (from torch->AugmentedSocialScientist) (1.12)\n",
      "Requirement already satisfied: networkx in /opt/mamba/lib/python3.11/site-packages (from torch->AugmentedSocialScientist) (3.2.1)\n",
      "Requirement already satisfied: jinja2 in /opt/mamba/lib/python3.11/site-packages (from torch->AugmentedSocialScientist) (3.1.3)\n",
      "Requirement already satisfied: fsspec in /opt/mamba/lib/python3.11/site-packages (from torch->AugmentedSocialScientist) (2024.2.0)\n",
      "Requirement already satisfied: nvidia-cuda-nvrtc-cu12==12.1.105 in /opt/mamba/lib/python3.11/site-packages (from torch->AugmentedSocialScientist) (12.1.105)\n",
      "Requirement already satisfied: nvidia-cuda-runtime-cu12==12.1.105 in /opt/mamba/lib/python3.11/site-packages (from torch->AugmentedSocialScientist) (12.1.105)\n",
      "Requirement already satisfied: nvidia-cuda-cupti-cu12==12.1.105 in /opt/mamba/lib/python3.11/site-packages (from torch->AugmentedSocialScientist) (12.1.105)\n",
      "Requirement already satisfied: nvidia-cudnn-cu12==8.9.2.26 in /opt/mamba/lib/python3.11/site-packages (from torch->AugmentedSocialScientist) (8.9.2.26)\n",
      "Requirement already satisfied: nvidia-cublas-cu12==12.1.3.1 in /opt/mamba/lib/python3.11/site-packages (from torch->AugmentedSocialScientist) (12.1.3.1)\n",
      "Requirement already satisfied: nvidia-cufft-cu12==11.0.2.54 in /opt/mamba/lib/python3.11/site-packages (from torch->AugmentedSocialScientist) (11.0.2.54)\n",
      "Requirement already satisfied: nvidia-curand-cu12==10.3.2.106 in /opt/mamba/lib/python3.11/site-packages (from torch->AugmentedSocialScientist) (10.3.2.106)\n",
      "Requirement already satisfied: nvidia-cusolver-cu12==11.4.5.107 in /opt/mamba/lib/python3.11/site-packages (from torch->AugmentedSocialScientist) (11.4.5.107)\n",
      "Requirement already satisfied: nvidia-cusparse-cu12==12.1.0.106 in /opt/mamba/lib/python3.11/site-packages (from torch->AugmentedSocialScientist) (12.1.0.106)\n",
      "Requirement already satisfied: nvidia-nccl-cu12==2.19.3 in /opt/mamba/lib/python3.11/site-packages (from torch->AugmentedSocialScientist) (2.19.3)\n",
      "Requirement already satisfied: nvidia-nvtx-cu12==12.1.105 in /opt/mamba/lib/python3.11/site-packages (from torch->AugmentedSocialScientist) (12.1.105)\n",
      "Requirement already satisfied: triton==2.2.0 in /opt/mamba/lib/python3.11/site-packages (from torch->AugmentedSocialScientist) (2.2.0)\n",
      "Requirement already satisfied: nvidia-nvjitlink-cu12 in /opt/mamba/lib/python3.11/site-packages (from nvidia-cusolver-cu12==11.4.5.107->torch->AugmentedSocialScientist) (12.4.99)\n",
      "Requirement already satisfied: huggingface-hub<1.0,>=0.19.3 in /opt/mamba/lib/python3.11/site-packages (from transformers->AugmentedSocialScientist) (0.21.4)\n",
      "Requirement already satisfied: packaging>=20.0 in /opt/mamba/lib/python3.11/site-packages (from transformers->AugmentedSocialScientist) (23.2)\n",
      "Requirement already satisfied: pyyaml>=5.1 in /opt/mamba/lib/python3.11/site-packages (from transformers->AugmentedSocialScientist) (6.0.1)\n",
      "Requirement already satisfied: regex!=2019.12.17 in /opt/mamba/lib/python3.11/site-packages (from transformers->AugmentedSocialScientist) (2023.12.25)\n",
      "Requirement already satisfied: requests in /opt/mamba/lib/python3.11/site-packages (from transformers->AugmentedSocialScientist) (2.31.0)\n",
      "Requirement already satisfied: tokenizers<0.19,>=0.14 in /opt/mamba/lib/python3.11/site-packages (from transformers->AugmentedSocialScientist) (0.15.2)\n",
      "Requirement already satisfied: safetensors>=0.4.1 in /opt/mamba/lib/python3.11/site-packages (from transformers->AugmentedSocialScientist) (0.4.2)\n",
      "Requirement already satisfied: MarkupSafe>=2.0 in /opt/mamba/lib/python3.11/site-packages (from jinja2->torch->AugmentedSocialScientist) (2.1.5)\n",
      "Requirement already satisfied: charset-normalizer<4,>=2 in /opt/mamba/lib/python3.11/site-packages (from requests->transformers->AugmentedSocialScientist) (3.3.2)\n",
      "Requirement already satisfied: idna<4,>=2.5 in /opt/mamba/lib/python3.11/site-packages (from requests->transformers->AugmentedSocialScientist) (3.6)\n",
      "Requirement already satisfied: urllib3<3,>=1.21.1 in /opt/mamba/lib/python3.11/site-packages (from requests->transformers->AugmentedSocialScientist) (1.26.18)\n",
      "Requirement already satisfied: certifi>=2017.4.17 in /opt/mamba/lib/python3.11/site-packages (from requests->transformers->AugmentedSocialScientist) (2024.2.2)\n",
      "Requirement already satisfied: mpmath>=0.19 in /opt/mamba/lib/python3.11/site-packages (from sympy->torch->AugmentedSocialScientist) (1.3.0)\n"
     ]
    }
   ],
   "source": [
    "!pip install AugmentedSocialScientist pandas numpy"
   ]
  },
  {
   "cell_type": "code",
   "execution_count": 2,
   "metadata": {},
   "outputs": [
    {
     "data": {
      "text/plain": [
       "'Tesla T4'"
      ]
     },
     "execution_count": 2,
     "metadata": {},
     "output_type": "execute_result"
    }
   ],
   "source": [
    "import os\n",
    "# os.environ[\"PYTORCH_CUDA_ALLOC_CONF\"] = \"expandable_segments:True\"\n",
    "\n",
    "from torch import cuda\n",
    "\n",
    "cuda.get_device_name(0)"
   ]
  },
  {
   "cell_type": "code",
   "execution_count": 3,
   "metadata": {},
   "outputs": [
    {
     "data": {
      "text/html": [
       "<div>\n",
       "<style scoped>\n",
       "    .dataframe tbody tr th:only-of-type {\n",
       "        vertical-align: middle;\n",
       "    }\n",
       "\n",
       "    .dataframe tbody tr th {\n",
       "        vertical-align: top;\n",
       "    }\n",
       "\n",
       "    .dataframe thead th {\n",
       "        text-align: right;\n",
       "    }\n",
       "</style>\n",
       "<table border=\"1\" class=\"dataframe\">\n",
       "  <thead>\n",
       "    <tr style=\"text-align: right;\">\n",
       "      <th></th>\n",
       "      <th>sentence_id</th>\n",
       "      <th>Personne</th>\n",
       "      <th>sentence_text</th>\n",
       "    </tr>\n",
       "  </thead>\n",
       "  <tbody>\n",
       "    <tr>\n",
       "      <th>269</th>\n",
       "      <td>1060206</td>\n",
       "      <td>Personne à protéger</td>\n",
       "      <td>10  Conférence de J.P. Moatti, Journées nation...</td>\n",
       "    </tr>\n",
       "    <tr>\n",
       "      <th>1270</th>\n",
       "      <td>1390670</td>\n",
       "      <td>NaN</td>\n",
       "      <td>Enfin, il remplit un formulaire pour choisir l...</td>\n",
       "    </tr>\n",
       "    <tr>\n",
       "      <th>1373</th>\n",
       "      <td>490243</td>\n",
       "      <td>NaN</td>\n",
       "      <td>Reste que partout dans le monde, l'introductio...</td>\n",
       "    </tr>\n",
       "    <tr>\n",
       "      <th>1032</th>\n",
       "      <td>820142</td>\n",
       "      <td>NaN</td>\n",
       "      <td>C’est un ensemble de traits \\nqui bougent, sou...</td>\n",
       "    </tr>\n",
       "    <tr>\n",
       "      <th>1438</th>\n",
       "      <td>820333</td>\n",
       "      <td>NaN</td>\n",
       "      <td>a. Le problème du traitement immunodépresseur ...</td>\n",
       "    </tr>\n",
       "  </tbody>\n",
       "</table>\n",
       "</div>"
      ],
      "text/plain": [
       "      sentence_id             Personne  \\\n",
       "269       1060206  Personne à protéger   \n",
       "1270      1390670                  NaN   \n",
       "1373       490243                  NaN   \n",
       "1032       820142                  NaN   \n",
       "1438       820333                  NaN   \n",
       "\n",
       "                                          sentence_text  \n",
       "269   10  Conférence de J.P. Moatti, Journées nation...  \n",
       "1270  Enfin, il remplit un formulaire pour choisir l...  \n",
       "1373  Reste que partout dans le monde, l'introductio...  \n",
       "1032  C’est un ensemble de traits \\nqui bougent, sou...  \n",
       "1438  a. Le problème du traitement immunodépresseur ...  "
      ]
     },
     "execution_count": 3,
     "metadata": {},
     "output_type": "execute_result"
    }
   ],
   "source": [
    "import pandas as pd\n",
    "\n",
    "annotations_file = pd.read_csv(\"../data/intermediate/current_annotation_file.csv\")\n",
    "annotations_file.sample(5)"
   ]
  },
  {
   "cell_type": "code",
   "execution_count": 4,
   "metadata": {},
   "outputs": [
    {
     "data": {
      "text/html": [
       "<div>\n",
       "<style scoped>\n",
       "    .dataframe tbody tr th:only-of-type {\n",
       "        vertical-align: middle;\n",
       "    }\n",
       "\n",
       "    .dataframe tbody tr th {\n",
       "        vertical-align: top;\n",
       "    }\n",
       "\n",
       "    .dataframe thead th {\n",
       "        text-align: right;\n",
       "    }\n",
       "</style>\n",
       "<table border=\"1\" class=\"dataframe\">\n",
       "  <thead>\n",
       "    <tr style=\"text-align: right;\">\n",
       "      <th></th>\n",
       "      <th>sentence_id</th>\n",
       "      <th>Personne</th>\n",
       "      <th>sentence_text</th>\n",
       "    </tr>\n",
       "  </thead>\n",
       "  <tbody>\n",
       "    <tr>\n",
       "      <th>425</th>\n",
       "      <td>930493</td>\n",
       "      <td>Genre/espèce humaine</td>\n",
       "      <td>De plus il importe ici de se souvenir de ce qu...</td>\n",
       "    </tr>\n",
       "    <tr>\n",
       "      <th>243</th>\n",
       "      <td>1200618</td>\n",
       "      <td>Genre/espèce humaine</td>\n",
       "      <td>Dans\\t\\n  ce\\t\\n  contexte,\\t\\n  ne\\t\\n  pourr...</td>\n",
       "    </tr>\n",
       "    <tr>\n",
       "      <th>629</th>\n",
       "      <td>1280759</td>\n",
       "      <td>Individu</td>\n",
       "      <td>Force est de constater que les logiques actuel...</td>\n",
       "    </tr>\n",
       "    <tr>\n",
       "      <th>208</th>\n",
       "      <td>940717</td>\n",
       "      <td>Personne à protéger</td>\n",
       "      <td>3. Lors du jugement:  \\n \\n- Faire en sorte qu...</td>\n",
       "    </tr>\n",
       "    <tr>\n",
       "      <th>389</th>\n",
       "      <td>1190328</td>\n",
       "      <td>Personne relationnelle</td>\n",
       "      <td>Cette information doit \\nêtre adaptée par sa c...</td>\n",
       "    </tr>\n",
       "  </tbody>\n",
       "</table>\n",
       "</div>"
      ],
      "text/plain": [
       "     sentence_id                Personne  \\\n",
       "425       930493    Genre/espèce humaine   \n",
       "243      1200618    Genre/espèce humaine   \n",
       "629      1280759                Individu   \n",
       "208       940717     Personne à protéger   \n",
       "389      1190328  Personne relationnelle   \n",
       "\n",
       "                                         sentence_text  \n",
       "425  De plus il importe ici de se souvenir de ce qu...  \n",
       "243  Dans\\t\\n  ce\\t\\n  contexte,\\t\\n  ne\\t\\n  pourr...  \n",
       "629  Force est de constater que les logiques actuel...  \n",
       "208  3. Lors du jugement:  \\n \\n- Faire en sorte qu...  \n",
       "389  Cette information doit \\nêtre adaptée par sa c...  "
      ]
     },
     "execution_count": 4,
     "metadata": {},
     "output_type": "execute_result"
    }
   ],
   "source": [
    "annotations = annotations_file.dropna()\n",
    "annotations.sample(5)"
   ]
  },
  {
   "cell_type": "code",
   "execution_count": 5,
   "metadata": {},
   "outputs": [
    {
     "data": {
      "text/plain": [
       "Personne\n",
       "Personne à protéger       143\n",
       "Matériel biologique       127\n",
       "Individu                  118\n",
       "Agent responsable         104\n",
       "Personne relationnelle     97\n",
       "Genre/espèce humaine       90\n",
       "Humain comme empathie      10\n",
       "Poubelle                    8\n",
       "Name: count, dtype: int64"
      ]
     },
     "execution_count": 5,
     "metadata": {},
     "output_type": "execute_result"
    }
   ],
   "source": [
    "annotations[\"Personne\"].value_counts()"
   ]
  },
  {
   "cell_type": "code",
   "execution_count": 6,
   "metadata": {},
   "outputs": [],
   "source": [
    "from sklearn.model_selection import train_test_split\n",
    " \n",
    "train_data, test_data = train_test_split(annotations, train_size=0.90)"
   ]
  },
  {
   "cell_type": "code",
   "execution_count": 7,
   "metadata": {},
   "outputs": [
    {
     "name": "stderr",
     "output_type": "stream",
     "text": [
      "Special tokens have been added in the vocabulary, make sure the associated word embeddings are fine-tuned or trained.\n"
     ]
    },
    {
     "name": "stdout",
     "output_type": "stream",
     "text": [
      "There are 1 GPU(s) available.\n",
      "We will use GPU 0: Tesla T4\n"
     ]
    }
   ],
   "source": [
    "from AugmentedSocialScientist.models import Camembert\n",
    "\n",
    "bert = Camembert()"
   ]
  },
  {
   "cell_type": "code",
   "execution_count": 8,
   "metadata": {},
   "outputs": [
    {
     "data": {
      "application/vnd.jupyter.widget-view+json": {
       "model_id": "f2686b6a1e7e4c46b9a3aa961f4d3277",
       "version_major": 2,
       "version_minor": 0
      },
      "text/plain": [
       "  0%|          | 0/627 [00:00<?, ?it/s]"
      ]
     },
     "metadata": {},
     "output_type": "display_data"
    },
    {
     "name": "stderr",
     "output_type": "stream",
     "text": [
      "Token indices sequence length is longer than the specified maximum sequence length for this model (620 > 512). Running this sequence through the model will result in indexing errors\n"
     ]
    },
    {
     "data": {
      "application/vnd.jupyter.widget-view+json": {
       "model_id": "ade4625c22e145e18f495b433e7a2d01",
       "version_major": 2,
       "version_minor": 0
      },
      "text/plain": [
       "  0%|          | 0/627 [00:00<?, ?it/s]"
      ]
     },
     "metadata": {},
     "output_type": "display_data"
    },
    {
     "name": "stdout",
     "output_type": "stream",
     "text": [
      "label ids: {'Agent responsable': 0, 'Genre/espèce humaine': 1, 'Humain comme empathie': 2, 'Individu': 3, 'Matériel biologique': 4, 'Personne relationnelle': 5, 'Personne à protéger': 6, 'Poubelle': 7}\n"
     ]
    }
   ],
   "source": [
    "batch_size = 16\n",
    "train_loader = bert.encode(train_data.sentence_text.values,\n",
    "train_data.Personne.values, batch_size=batch_size)"
   ]
  },
  {
   "cell_type": "code",
   "execution_count": 9,
   "metadata": {},
   "outputs": [
    {
     "data": {
      "application/vnd.jupyter.widget-view+json": {
       "model_id": "5f32c1aab98d43be8be211af0f38c48f",
       "version_major": 2,
       "version_minor": 0
      },
      "text/plain": [
       "  0%|          | 0/70 [00:00<?, ?it/s]"
      ]
     },
     "metadata": {},
     "output_type": "display_data"
    },
    {
     "data": {
      "application/vnd.jupyter.widget-view+json": {
       "model_id": "70eebf31b59144d1a53d9fec1cc43e9d",
       "version_major": 2,
       "version_minor": 0
      },
      "text/plain": [
       "  0%|          | 0/70 [00:00<?, ?it/s]"
      ]
     },
     "metadata": {},
     "output_type": "display_data"
    },
    {
     "name": "stdout",
     "output_type": "stream",
     "text": [
      "label ids: {'Agent responsable': 0, 'Genre/espèce humaine': 1, 'Humain comme empathie': 2, 'Individu': 3, 'Matériel biologique': 4, 'Personne relationnelle': 5, 'Personne à protéger': 6}\n"
     ]
    }
   ],
   "source": [
    "test_loader = bert.encode(test_data.sentence_text.values,\n",
    "test_data.Personne.values, batch_size=batch_size)"
   ]
  },
  {
   "cell_type": "code",
   "execution_count": 10,
   "metadata": {},
   "outputs": [
    {
     "name": "stderr",
     "output_type": "stream",
     "text": [
      "Some weights of CamembertForSequenceClassification were not initialized from the model checkpoint at camembert-base and are newly initialized: ['classifier.dense.bias', 'classifier.dense.weight', 'classifier.out_proj.bias', 'classifier.out_proj.weight']\n",
      "You should probably TRAIN this model on a down-stream task to be able to use it for predictions and inference.\n",
      "/opt/mamba/lib/python3.11/site-packages/transformers/optimization.py:429: FutureWarning: This implementation of AdamW is deprecated and will be removed in a future version. Use the PyTorch implementation torch.optim.AdamW instead, or set `no_deprecation_warning=True` to disable this warning\n",
      "  warnings.warn(\n"
     ]
    },
    {
     "name": "stdout",
     "output_type": "stream",
     "text": [
      "\n",
      "======== Epoch 1 / 2 ========\n",
      "Training...\n"
     ]
    },
    {
     "name": "stderr",
     "output_type": "stream",
     "text": [
      "../aten/src/ATen/native/cuda/Loss.cu:250: nll_loss_forward_reduce_cuda_kernel_2d: block: [0,0,0], thread: [4,0,0] Assertion `t >= 0 && t < n_classes` failed.\n"
     ]
    },
    {
     "ename": "RuntimeError",
     "evalue": "CUDA error: device-side assert triggered\nCUDA kernel errors might be asynchronously reported at some other API call, so the stacktrace below might be incorrect.\nFor debugging consider passing CUDA_LAUNCH_BLOCKING=1.\nCompile with `TORCH_USE_CUDA_DSA` to enable device-side assertions.\n",
     "output_type": "error",
     "traceback": [
      "\u001b[0;31m---------------------------------------------------------------------------\u001b[0m",
      "\u001b[0;31mRuntimeError\u001b[0m                              Traceback (most recent call last)",
      "\u001b[1;32m/home/onyxia/CCNE/src/bert.ipynb Cell 10\u001b[0m line \u001b[0;36m1\n\u001b[0;32m----> <a href='vscode-notebook-cell://user-lmaurice-181844-0.user.lab.sspcloud.fr/home/onyxia/CCNE/src/bert.ipynb#X11sdnNjb2RlLXJlbW90ZQ%3D%3D?line=0'>1</a>\u001b[0m scores \u001b[39m=\u001b[39m bert\u001b[39m.\u001b[39;49mrun_training(\n\u001b[1;32m      <a href='vscode-notebook-cell://user-lmaurice-181844-0.user.lab.sspcloud.fr/home/onyxia/CCNE/src/bert.ipynb#X11sdnNjb2RlLXJlbW90ZQ%3D%3D?line=1'>2</a>\u001b[0m     train_loader,\n\u001b[1;32m      <a href='vscode-notebook-cell://user-lmaurice-181844-0.user.lab.sspcloud.fr/home/onyxia/CCNE/src/bert.ipynb#X11sdnNjb2RlLXJlbW90ZQ%3D%3D?line=2'>3</a>\u001b[0m     test_loader,\n\u001b[1;32m      <a href='vscode-notebook-cell://user-lmaurice-181844-0.user.lab.sspcloud.fr/home/onyxia/CCNE/src/bert.ipynb#X11sdnNjb2RlLXJlbW90ZQ%3D%3D?line=3'>4</a>\u001b[0m     n_epochs\u001b[39m=\u001b[39;49m\u001b[39m2\u001b[39;49m,\n\u001b[1;32m      <a href='vscode-notebook-cell://user-lmaurice-181844-0.user.lab.sspcloud.fr/home/onyxia/CCNE/src/bert.ipynb#X11sdnNjb2RlLXJlbW90ZQ%3D%3D?line=4'>5</a>\u001b[0m     lr\u001b[39m=\u001b[39;49m\u001b[39m2e-5\u001b[39;49m,\n\u001b[1;32m      <a href='vscode-notebook-cell://user-lmaurice-181844-0.user.lab.sspcloud.fr/home/onyxia/CCNE/src/bert.ipynb#X11sdnNjb2RlLXJlbW90ZQ%3D%3D?line=5'>6</a>\u001b[0m     random_state\u001b[39m=\u001b[39;49m\u001b[39m1968\u001b[39;49m,\n\u001b[1;32m      <a href='vscode-notebook-cell://user-lmaurice-181844-0.user.lab.sspcloud.fr/home/onyxia/CCNE/src/bert.ipynb#X11sdnNjb2RlLXJlbW90ZQ%3D%3D?line=6'>7</a>\u001b[0m     save_model_as\u001b[39m=\u001b[39;49m\u001b[39m'\u001b[39;49m\u001b[39mclickbait\u001b[39;49m\u001b[39m'\u001b[39;49m\n\u001b[1;32m      <a href='vscode-notebook-cell://user-lmaurice-181844-0.user.lab.sspcloud.fr/home/onyxia/CCNE/src/bert.ipynb#X11sdnNjb2RlLXJlbW90ZQ%3D%3D?line=7'>8</a>\u001b[0m     )\n",
      "File \u001b[0;32m/opt/mamba/lib/python3.11/site-packages/AugmentedSocialScientist/bert_base.py:301\u001b[0m, in \u001b[0;36mBertBase.run_training\u001b[0;34m(self, train_dataloader, test_dataloader, n_epochs, lr, random_state, save_model_as)\u001b[0m\n\u001b[1;32m    295\u001b[0m loss \u001b[39m=\u001b[39m outputs[\u001b[39m0\u001b[39m]\n\u001b[1;32m    297\u001b[0m \u001b[39m# Accumulate the training loss over all of the batches so that we can\u001b[39;00m\n\u001b[1;32m    298\u001b[0m \u001b[39m# calculate the average loss at the end. `loss` is a Tensor containing a\u001b[39;00m\n\u001b[1;32m    299\u001b[0m \u001b[39m# single value; the `.item()` function just returns the Python value\u001b[39;00m\n\u001b[1;32m    300\u001b[0m \u001b[39m# from the tensor.\u001b[39;00m\n\u001b[0;32m--> 301\u001b[0m total_train_loss \u001b[39m+\u001b[39m\u001b[39m=\u001b[39m loss\u001b[39m.\u001b[39;49mitem()\n\u001b[1;32m    303\u001b[0m \u001b[39m# Perform a backward pass to calculate the gradients.\u001b[39;00m\n\u001b[1;32m    304\u001b[0m loss\u001b[39m.\u001b[39mbackward()\n",
      "\u001b[0;31mRuntimeError\u001b[0m: CUDA error: device-side assert triggered\nCUDA kernel errors might be asynchronously reported at some other API call, so the stacktrace below might be incorrect.\nFor debugging consider passing CUDA_LAUNCH_BLOCKING=1.\nCompile with `TORCH_USE_CUDA_DSA` to enable device-side assertions.\n"
     ]
    }
   ],
   "source": [
    "scores = bert.run_training(\n",
    "    train_loader,\n",
    "    test_loader,\n",
    "    n_epochs=2,\n",
    "    lr=2e-5,\n",
    "    random_state=1968,\n",
    "    save_model_as='clickbait'\n",
    "    )"
   ]
  },
  {
   "cell_type": "code",
   "execution_count": null,
   "metadata": {},
   "outputs": [
    {
     "data": {
      "application/vnd.jupyter.widget-view+json": {
       "model_id": "32769d3d88bf43739ce562e662febf37",
       "version_major": 2,
       "version_minor": 0
      },
      "text/plain": [
       "  0%|          | 0/798 [00:00<?, ?it/s]"
      ]
     },
     "metadata": {},
     "output_type": "display_data"
    },
    {
     "data": {
      "application/vnd.jupyter.widget-view+json": {
       "model_id": "61be4eeb858c4fb1aa81a5abb1cace53",
       "version_major": 2,
       "version_minor": 0
      },
      "text/plain": [
       "  0%|          | 0/798 [00:00<?, ?it/s]"
      ]
     },
     "metadata": {},
     "output_type": "display_data"
    },
    {
     "data": {
      "application/vnd.jupyter.widget-view+json": {
       "model_id": "e8628d78fbb24a908c70287de8038ad1",
       "version_major": 2,
       "version_minor": 0
      },
      "text/plain": [
       "  0%|          | 0/50 [00:00<?, ?it/s]"
      ]
     },
     "metadata": {},
     "output_type": "display_data"
    },
    {
     "name": "stdout",
     "output_type": "stream",
     "text": [
      "label ids: {'Agent responsable': 0, 'Genre/espèce humaine': 1, 'Humain comme empathie': 2, 'Individu': 3, 'Matériel biologique': 4, 'Personne relationnelle': 5, 'Personne à protéger': 6, 'Poubelle': 7}\n"
     ]
    }
   ],
   "source": [
    "import numpy as np\n",
    "pred_data = annotations_file[annotations_file.isna().any(axis=1)].drop('Personne', axis=1).dropna()\n",
    "pred_loader = bert.encode(pred_data.sentence_text.values, batch_size=batch_size)\n",
    "pred_proba = bert.predict_with_model(pred_loader, model_path='./models/clickbait')\n",
    "pred_data['pred_label'] = np.argmax(pred_proba, axis=1)\n",
    "pred_data['pred_proba'] = np.max(pred_proba, axis=1)"
   ]
  }
 ],
 "metadata": {
  "kernelspec": {
   "display_name": "ccne",
   "language": "python",
   "name": "python3"
  },
  "language_info": {
   "codemirror_mode": {
    "name": "ipython",
    "version": 3
   },
   "file_extension": ".py",
   "mimetype": "text/x-python",
   "name": "python",
   "nbconvert_exporter": "python",
   "pygments_lexer": "ipython3",
   "version": "3.11.6"
  }
 },
 "nbformat": 4,
 "nbformat_minor": 2
}
