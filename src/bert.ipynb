{
 "cells": [
  {
   "cell_type": "markdown",
   "metadata": {},
   "source": [
    "# Bert classification"
   ]
  },
  {
   "cell_type": "code",
   "execution_count": 1,
   "metadata": {},
   "outputs": [
    {
     "name": "stdout",
     "output_type": "stream",
     "text": [
      "Requirement already satisfied: AugmentedSocialScientist in /opt/mamba/lib/python3.11/site-packages (2.2.1)\n",
      "Requirement already satisfied: pandas in /opt/mamba/lib/python3.11/site-packages (2.2.1)\n",
      "Requirement already satisfied: numpy in /opt/mamba/lib/python3.11/site-packages (1.26.4)\n",
      "Requirement already satisfied: scikit-learn in /opt/mamba/lib/python3.11/site-packages (from AugmentedSocialScientist) (1.4.1.post1)\n",
      "Requirement already satisfied: tqdm in /opt/mamba/lib/python3.11/site-packages (from AugmentedSocialScientist) (4.66.1)\n",
      "Requirement already satisfied: scipy in /opt/mamba/lib/python3.11/site-packages (from AugmentedSocialScientist) (1.12.0)\n",
      "Requirement already satisfied: torch in /opt/mamba/lib/python3.11/site-packages (from AugmentedSocialScientist) (2.2.1)\n",
      "Requirement already satisfied: transformers in /opt/mamba/lib/python3.11/site-packages (from AugmentedSocialScientist) (4.38.2)\n",
      "Requirement already satisfied: sentencepiece in /opt/mamba/lib/python3.11/site-packages (from AugmentedSocialScientist) (0.2.0)\n",
      "Requirement already satisfied: python-dateutil>=2.8.2 in /opt/mamba/lib/python3.11/site-packages (from pandas) (2.9.0)\n",
      "Requirement already satisfied: pytz>=2020.1 in /opt/mamba/lib/python3.11/site-packages (from pandas) (2024.1)\n",
      "Requirement already satisfied: tzdata>=2022.7 in /opt/mamba/lib/python3.11/site-packages (from pandas) (2024.1)\n",
      "Requirement already satisfied: six>=1.5 in /opt/mamba/lib/python3.11/site-packages (from python-dateutil>=2.8.2->pandas) (1.16.0)\n",
      "Requirement already satisfied: joblib>=1.2.0 in /opt/mamba/lib/python3.11/site-packages (from scikit-learn->AugmentedSocialScientist) (1.3.2)\n",
      "Requirement already satisfied: threadpoolctl>=2.0.0 in /opt/mamba/lib/python3.11/site-packages (from scikit-learn->AugmentedSocialScientist) (3.3.0)\n",
      "Requirement already satisfied: filelock in /opt/mamba/lib/python3.11/site-packages (from torch->AugmentedSocialScientist) (3.13.1)\n",
      "Requirement already satisfied: typing-extensions>=4.8.0 in /opt/mamba/lib/python3.11/site-packages (from torch->AugmentedSocialScientist) (4.10.0)\n",
      "Requirement already satisfied: sympy in /opt/mamba/lib/python3.11/site-packages (from torch->AugmentedSocialScientist) (1.12)\n",
      "Requirement already satisfied: networkx in /opt/mamba/lib/python3.11/site-packages (from torch->AugmentedSocialScientist) (3.2.1)\n",
      "Requirement already satisfied: jinja2 in /opt/mamba/lib/python3.11/site-packages (from torch->AugmentedSocialScientist) (3.1.3)\n",
      "Requirement already satisfied: fsspec in /opt/mamba/lib/python3.11/site-packages (from torch->AugmentedSocialScientist) (2024.2.0)\n",
      "Requirement already satisfied: nvidia-cuda-nvrtc-cu12==12.1.105 in /opt/mamba/lib/python3.11/site-packages (from torch->AugmentedSocialScientist) (12.1.105)\n",
      "Requirement already satisfied: nvidia-cuda-runtime-cu12==12.1.105 in /opt/mamba/lib/python3.11/site-packages (from torch->AugmentedSocialScientist) (12.1.105)\n",
      "Requirement already satisfied: nvidia-cuda-cupti-cu12==12.1.105 in /opt/mamba/lib/python3.11/site-packages (from torch->AugmentedSocialScientist) (12.1.105)\n",
      "Requirement already satisfied: nvidia-cudnn-cu12==8.9.2.26 in /opt/mamba/lib/python3.11/site-packages (from torch->AugmentedSocialScientist) (8.9.2.26)\n",
      "Requirement already satisfied: nvidia-cublas-cu12==12.1.3.1 in /opt/mamba/lib/python3.11/site-packages (from torch->AugmentedSocialScientist) (12.1.3.1)\n",
      "Requirement already satisfied: nvidia-cufft-cu12==11.0.2.54 in /opt/mamba/lib/python3.11/site-packages (from torch->AugmentedSocialScientist) (11.0.2.54)\n",
      "Requirement already satisfied: nvidia-curand-cu12==10.3.2.106 in /opt/mamba/lib/python3.11/site-packages (from torch->AugmentedSocialScientist) (10.3.2.106)\n",
      "Requirement already satisfied: nvidia-cusolver-cu12==11.4.5.107 in /opt/mamba/lib/python3.11/site-packages (from torch->AugmentedSocialScientist) (11.4.5.107)\n",
      "Requirement already satisfied: nvidia-cusparse-cu12==12.1.0.106 in /opt/mamba/lib/python3.11/site-packages (from torch->AugmentedSocialScientist) (12.1.0.106)\n",
      "Requirement already satisfied: nvidia-nccl-cu12==2.19.3 in /opt/mamba/lib/python3.11/site-packages (from torch->AugmentedSocialScientist) (2.19.3)\n",
      "Requirement already satisfied: nvidia-nvtx-cu12==12.1.105 in /opt/mamba/lib/python3.11/site-packages (from torch->AugmentedSocialScientist) (12.1.105)\n",
      "Requirement already satisfied: triton==2.2.0 in /opt/mamba/lib/python3.11/site-packages (from torch->AugmentedSocialScientist) (2.2.0)\n",
      "Requirement already satisfied: nvidia-nvjitlink-cu12 in /opt/mamba/lib/python3.11/site-packages (from nvidia-cusolver-cu12==11.4.5.107->torch->AugmentedSocialScientist) (12.4.99)\n",
      "Requirement already satisfied: huggingface-hub<1.0,>=0.19.3 in /opt/mamba/lib/python3.11/site-packages (from transformers->AugmentedSocialScientist) (0.21.4)\n",
      "Requirement already satisfied: packaging>=20.0 in /opt/mamba/lib/python3.11/site-packages (from transformers->AugmentedSocialScientist) (23.2)\n",
      "Requirement already satisfied: pyyaml>=5.1 in /opt/mamba/lib/python3.11/site-packages (from transformers->AugmentedSocialScientist) (6.0.1)\n",
      "Requirement already satisfied: regex!=2019.12.17 in /opt/mamba/lib/python3.11/site-packages (from transformers->AugmentedSocialScientist) (2023.12.25)\n",
      "Requirement already satisfied: requests in /opt/mamba/lib/python3.11/site-packages (from transformers->AugmentedSocialScientist) (2.31.0)\n",
      "Requirement already satisfied: tokenizers<0.19,>=0.14 in /opt/mamba/lib/python3.11/site-packages (from transformers->AugmentedSocialScientist) (0.15.2)\n",
      "Requirement already satisfied: safetensors>=0.4.1 in /opt/mamba/lib/python3.11/site-packages (from transformers->AugmentedSocialScientist) (0.4.2)\n",
      "Requirement already satisfied: MarkupSafe>=2.0 in /opt/mamba/lib/python3.11/site-packages (from jinja2->torch->AugmentedSocialScientist) (2.1.5)\n",
      "Requirement already satisfied: charset-normalizer<4,>=2 in /opt/mamba/lib/python3.11/site-packages (from requests->transformers->AugmentedSocialScientist) (3.3.2)\n",
      "Requirement already satisfied: idna<4,>=2.5 in /opt/mamba/lib/python3.11/site-packages (from requests->transformers->AugmentedSocialScientist) (3.6)\n",
      "Requirement already satisfied: urllib3<3,>=1.21.1 in /opt/mamba/lib/python3.11/site-packages (from requests->transformers->AugmentedSocialScientist) (1.26.18)\n",
      "Requirement already satisfied: certifi>=2017.4.17 in /opt/mamba/lib/python3.11/site-packages (from requests->transformers->AugmentedSocialScientist) (2024.2.2)\n",
      "Requirement already satisfied: mpmath>=0.19 in /opt/mamba/lib/python3.11/site-packages (from sympy->torch->AugmentedSocialScientist) (1.3.0)\n"
     ]
    }
   ],
   "source": [
    "!pip install AugmentedSocialScientist pandas numpy"
   ]
  },
  {
   "cell_type": "code",
   "execution_count": 2,
   "metadata": {},
   "outputs": [
    {
     "data": {
      "text/plain": [
       "'Tesla T4'"
      ]
     },
     "execution_count": 2,
     "metadata": {},
     "output_type": "execute_result"
    }
   ],
   "source": [
    "import os\n",
    "os.environ[\"PYTORCH_CUDA_ALLOC_CONF\"] = \"expandable_segments:True\"\n",
    "\n",
    "from torch import cuda\n",
    "\n",
    "cuda.get_device_name(0)"
   ]
  },
  {
   "cell_type": "code",
   "execution_count": 3,
   "metadata": {},
   "outputs": [
    {
     "data": {
      "text/html": [
       "<div>\n",
       "<style scoped>\n",
       "    .dataframe tbody tr th:only-of-type {\n",
       "        vertical-align: middle;\n",
       "    }\n",
       "\n",
       "    .dataframe tbody tr th {\n",
       "        vertical-align: top;\n",
       "    }\n",
       "\n",
       "    .dataframe thead th {\n",
       "        text-align: right;\n",
       "    }\n",
       "</style>\n",
       "<table border=\"1\" class=\"dataframe\">\n",
       "  <thead>\n",
       "    <tr style=\"text-align: right;\">\n",
       "      <th></th>\n",
       "      <th>sentence_id</th>\n",
       "      <th>Personne</th>\n",
       "      <th>sentence_text</th>\n",
       "      <th>label</th>\n",
       "      <th>text</th>\n",
       "    </tr>\n",
       "  </thead>\n",
       "  <tbody>\n",
       "    <tr>\n",
       "      <th>393</th>\n",
       "      <td>1140012</td>\n",
       "      <td>Individu</td>\n",
       "      <td>DGT : Direction générale du travail. DRH : Dir...</td>\n",
       "      <td>Individu</td>\n",
       "      <td>DGT : Direction générale du travail. DRH : Dir...</td>\n",
       "    </tr>\n",
       "    <tr>\n",
       "      <th>1225</th>\n",
       "      <td>780242</td>\n",
       "      <td>NaN</td>\n",
       "      <td>Un dernier point concerne la question de la « ...</td>\n",
       "      <td>NaN</td>\n",
       "      <td>Un dernier point concerne la question de la « ...</td>\n",
       "    </tr>\n",
       "    <tr>\n",
       "      <th>848</th>\n",
       "      <td>590401</td>\n",
       "      <td>NaN</td>\n",
       "      <td>III - Groupe \"Prospective personnes âgées\"\\nCo...</td>\n",
       "      <td>NaN</td>\n",
       "      <td>III - Groupe \"Prospective personnes âgées\"\\nCo...</td>\n",
       "    </tr>\n",
       "    <tr>\n",
       "      <th>187</th>\n",
       "      <td>1270324</td>\n",
       "      <td>Personne relationnelle</td>\n",
       "      <td>La variété des flux amène en France des res so...</td>\n",
       "      <td>Personne relationnelle</td>\n",
       "      <td>La variété des flux amène en France des res so...</td>\n",
       "    </tr>\n",
       "    <tr>\n",
       "      <th>589</th>\n",
       "      <td>1290295</td>\n",
       "      <td>Agent responsable</td>\n",
       "      <td>Elle crée notamment la Commission \\nnationale ...</td>\n",
       "      <td>Agent responsable</td>\n",
       "      <td>Elle crée notamment la Commission \\nnationale ...</td>\n",
       "    </tr>\n",
       "  </tbody>\n",
       "</table>\n",
       "</div>"
      ],
      "text/plain": [
       "      sentence_id                Personne  \\\n",
       "393       1140012                Individu   \n",
       "1225       780242                     NaN   \n",
       "848        590401                     NaN   \n",
       "187       1270324  Personne relationnelle   \n",
       "589       1290295       Agent responsable   \n",
       "\n",
       "                                          sentence_text  \\\n",
       "393   DGT : Direction générale du travail. DRH : Dir...   \n",
       "1225  Un dernier point concerne la question de la « ...   \n",
       "848   III - Groupe \"Prospective personnes âgées\"\\nCo...   \n",
       "187   La variété des flux amène en France des res so...   \n",
       "589   Elle crée notamment la Commission \\nnationale ...   \n",
       "\n",
       "                       label  \\\n",
       "393                 Individu   \n",
       "1225                     NaN   \n",
       "848                      NaN   \n",
       "187   Personne relationnelle   \n",
       "589        Agent responsable   \n",
       "\n",
       "                                                   text  \n",
       "393   DGT : Direction générale du travail. DRH : Dir...  \n",
       "1225  Un dernier point concerne la question de la « ...  \n",
       "848   III - Groupe \"Prospective personnes âgées\"\\nCo...  \n",
       "187   La variété des flux amène en France des res so...  \n",
       "589   Elle crée notamment la Commission \\nnationale ...  "
      ]
     },
     "execution_count": 3,
     "metadata": {},
     "output_type": "execute_result"
    }
   ],
   "source": [
    "import pandas as pd\n",
    "simplify_labels = False\n",
    "\n",
    "annotations_file = pd.read_csv(\"../data/intermediate/current_annotation_file.csv\")\n",
    "# defining the label variable, with a possible recategorization before training\n",
    "label_categories = {\n",
    "    \"Poubelle\" : \"Anything but personne\",\n",
    "    \"Humain comme empathie\" : \"Anything but personne\",\n",
    "    \"Genre/espèce humaine\": \"Anything but personne\",\n",
    "    \"Matériel biologique\": \"Anything but personne\",\n",
    "    \"Individu\": \"Anything but personne\",\n",
    "    \"Agent responsable\":\"Personne\",\n",
    "    \"Personne relationnelle\": \"Personne\",\n",
    "    \"Personne à protéger\":\"Personne\"\n",
    "\n",
    "}\n",
    "\n",
    "if(simplify_labels):\n",
    "    annotations_file['label'] = annotations_file['Personne'].map(label_categories)\n",
    "else:\n",
    "    annotations_file['label'] = annotations_file['Personne']\n",
    "\n",
    "# defining text variable    \n",
    "annotations_file['text'] = annotations_file['sentence_text']\n",
    "\n",
    "\n",
    "annotations_file.sample(5)"
   ]
  },
  {
   "cell_type": "code",
   "execution_count": 4,
   "metadata": {},
   "outputs": [
    {
     "data": {
      "text/html": [
       "<div>\n",
       "<style scoped>\n",
       "    .dataframe tbody tr th:only-of-type {\n",
       "        vertical-align: middle;\n",
       "    }\n",
       "\n",
       "    .dataframe tbody tr th {\n",
       "        vertical-align: top;\n",
       "    }\n",
       "\n",
       "    .dataframe thead th {\n",
       "        text-align: right;\n",
       "    }\n",
       "</style>\n",
       "<table border=\"1\" class=\"dataframe\">\n",
       "  <thead>\n",
       "    <tr style=\"text-align: right;\">\n",
       "      <th></th>\n",
       "      <th>sentence_id</th>\n",
       "      <th>Personne</th>\n",
       "      <th>sentence_text</th>\n",
       "      <th>label</th>\n",
       "      <th>text</th>\n",
       "    </tr>\n",
       "  </thead>\n",
       "  <tbody>\n",
       "    <tr>\n",
       "      <th>322</th>\n",
       "      <td>1280420</td>\n",
       "      <td>Personne relationnelle</td>\n",
       "      <td>L’expérimentati on de telles dynamiques \\ndans...</td>\n",
       "      <td>Personne relationnelle</td>\n",
       "      <td>L’expérimentati on de telles dynamiques \\ndans...</td>\n",
       "    </tr>\n",
       "    <tr>\n",
       "      <th>575</th>\n",
       "      <td>1400158</td>\n",
       "      <td>Individu</td>\n",
       "      <td>1.2.1. Un creusement des inégalités sociales e...</td>\n",
       "      <td>Individu</td>\n",
       "      <td>1.2.1. Un creusement des inégalités sociales e...</td>\n",
       "    </tr>\n",
       "    <tr>\n",
       "      <th>246</th>\n",
       "      <td>1360339</td>\n",
       "      <td>Agent responsable</td>\n",
       "      <td>Depuis la \\nloi Caillavet du 22 décembre 1976,...</td>\n",
       "      <td>Agent responsable</td>\n",
       "      <td>Depuis la \\nloi Caillavet du 22 décembre 1976,...</td>\n",
       "    </tr>\n",
       "    <tr>\n",
       "      <th>237</th>\n",
       "      <td>1260319</td>\n",
       "      <td>Individu</td>\n",
       "      <td>La société n’a pas pour seule fonction de prom...</td>\n",
       "      <td>Individu</td>\n",
       "      <td>La société n’a pas pour seule fonction de prom...</td>\n",
       "    </tr>\n",
       "    <tr>\n",
       "      <th>262</th>\n",
       "      <td>770427</td>\n",
       "      <td>Agent responsable</td>\n",
       "      <td>Cet\\nintérêt englobe la connaissance génétique...</td>\n",
       "      <td>Agent responsable</td>\n",
       "      <td>Cet\\nintérêt englobe la connaissance génétique...</td>\n",
       "    </tr>\n",
       "  </tbody>\n",
       "</table>\n",
       "</div>"
      ],
      "text/plain": [
       "     sentence_id                Personne  \\\n",
       "322      1280420  Personne relationnelle   \n",
       "575      1400158                Individu   \n",
       "246      1360339       Agent responsable   \n",
       "237      1260319                Individu   \n",
       "262       770427       Agent responsable   \n",
       "\n",
       "                                         sentence_text  \\\n",
       "322  L’expérimentati on de telles dynamiques \\ndans...   \n",
       "575  1.2.1. Un creusement des inégalités sociales e...   \n",
       "246  Depuis la \\nloi Caillavet du 22 décembre 1976,...   \n",
       "237  La société n’a pas pour seule fonction de prom...   \n",
       "262  Cet\\nintérêt englobe la connaissance génétique...   \n",
       "\n",
       "                      label                                               text  \n",
       "322  Personne relationnelle  L’expérimentati on de telles dynamiques \\ndans...  \n",
       "575                Individu  1.2.1. Un creusement des inégalités sociales e...  \n",
       "246       Agent responsable  Depuis la \\nloi Caillavet du 22 décembre 1976,...  \n",
       "237                Individu  La société n’a pas pour seule fonction de prom...  \n",
       "262       Agent responsable  Cet\\nintérêt englobe la connaissance génétique...  "
      ]
     },
     "execution_count": 4,
     "metadata": {},
     "output_type": "execute_result"
    }
   ],
   "source": [
    "# filtering out not annotated (na) and some categories\n",
    "annotations = annotations_file.dropna()\n",
    "annotations = annotations[~annotations[\"Personne\"].isin([\"Humain comme empathie\", \"Poubelle\",\"Personne à protéger\",\"Matériel biologique\"])]\n",
    "annotations.sample(5)"
   ]
  },
  {
   "cell_type": "code",
   "execution_count": 5,
   "metadata": {},
   "outputs": [
    {
     "data": {
      "text/plain": [
       "Personne\n",
       "Individu                  118\n",
       "Agent responsable         104\n",
       "Personne relationnelle     97\n",
       "Genre/espèce humaine       90\n",
       "Name: count, dtype: int64"
      ]
     },
     "execution_count": 5,
     "metadata": {},
     "output_type": "execute_result"
    }
   ],
   "source": [
    "annotations[\"Personne\"].value_counts()"
   ]
  },
  {
   "cell_type": "code",
   "execution_count": 6,
   "metadata": {},
   "outputs": [
    {
     "data": {
      "text/plain": [
       "label\n",
       "Individu                  118\n",
       "Agent responsable         104\n",
       "Personne relationnelle     97\n",
       "Genre/espèce humaine       90\n",
       "Name: count, dtype: int64"
      ]
     },
     "execution_count": 6,
     "metadata": {},
     "output_type": "execute_result"
    }
   ],
   "source": [
    "annotations[\"label\"].value_counts()"
   ]
  },
  {
   "cell_type": "code",
   "execution_count": 7,
   "metadata": {},
   "outputs": [],
   "source": [
    "from sklearn.model_selection import train_test_split\n",
    " \n",
    "train_data, test_data = train_test_split(annotations, train_size=0.80)"
   ]
  },
  {
   "cell_type": "code",
   "execution_count": 8,
   "metadata": {},
   "outputs": [
    {
     "name": "stderr",
     "output_type": "stream",
     "text": [
      "Special tokens have been added in the vocabulary, make sure the associated word embeddings are fine-tuned or trained.\n"
     ]
    },
    {
     "name": "stdout",
     "output_type": "stream",
     "text": [
      "There are 1 GPU(s) available.\n",
      "We will use GPU 0: Tesla T4\n"
     ]
    }
   ],
   "source": [
    "from AugmentedSocialScientist.models import Camembert\n",
    "\n",
    "bert = Camembert()"
   ]
  },
  {
   "cell_type": "code",
   "execution_count": 9,
   "metadata": {},
   "outputs": [
    {
     "data": {
      "application/vnd.jupyter.widget-view+json": {
       "model_id": "c5d3d76cf189422bab55585623415240",
       "version_major": 2,
       "version_minor": 0
      },
      "text/plain": [
       "  0%|          | 0/327 [00:00<?, ?it/s]"
      ]
     },
     "metadata": {},
     "output_type": "display_data"
    },
    {
     "name": "stderr",
     "output_type": "stream",
     "text": [
      "Token indices sequence length is longer than the specified maximum sequence length for this model (1022 > 512). Running this sequence through the model will result in indexing errors\n"
     ]
    },
    {
     "data": {
      "application/vnd.jupyter.widget-view+json": {
       "model_id": "66cedda457844169b521a2bb2c13dc69",
       "version_major": 2,
       "version_minor": 0
      },
      "text/plain": [
       "  0%|          | 0/327 [00:00<?, ?it/s]"
      ]
     },
     "metadata": {},
     "output_type": "display_data"
    },
    {
     "name": "stdout",
     "output_type": "stream",
     "text": [
      "label ids: {'Agent responsable': 0, 'Genre/espèce humaine': 1, 'Individu': 2, 'Personne relationnelle': 3}\n"
     ]
    }
   ],
   "source": [
    "batch_size = 16\n",
    "train_loader = bert.encode(train_data.text.values,\n",
    "train_data.label.values, batch_size=batch_size)"
   ]
  },
  {
   "cell_type": "code",
   "execution_count": 10,
   "metadata": {},
   "outputs": [
    {
     "data": {
      "application/vnd.jupyter.widget-view+json": {
       "model_id": "babec2b21eb14ffc82d14e92e84e2105",
       "version_major": 2,
       "version_minor": 0
      },
      "text/plain": [
       "  0%|          | 0/82 [00:00<?, ?it/s]"
      ]
     },
     "metadata": {},
     "output_type": "display_data"
    },
    {
     "data": {
      "application/vnd.jupyter.widget-view+json": {
       "model_id": "482945982ab448568dacadff322a02d3",
       "version_major": 2,
       "version_minor": 0
      },
      "text/plain": [
       "  0%|          | 0/82 [00:00<?, ?it/s]"
      ]
     },
     "metadata": {},
     "output_type": "display_data"
    },
    {
     "name": "stdout",
     "output_type": "stream",
     "text": [
      "label ids: {'Agent responsable': 0, 'Genre/espèce humaine': 1, 'Individu': 2, 'Personne relationnelle': 3}\n"
     ]
    }
   ],
   "source": [
    "test_loader = bert.encode(test_data.text.values,\n",
    "test_data.label.values, batch_size=batch_size)"
   ]
  },
  {
   "cell_type": "code",
   "execution_count": 11,
   "metadata": {},
   "outputs": [
    {
     "name": "stderr",
     "output_type": "stream",
     "text": [
      "Some weights of CamembertForSequenceClassification were not initialized from the model checkpoint at camembert-base and are newly initialized: ['classifier.dense.bias', 'classifier.dense.weight', 'classifier.out_proj.bias', 'classifier.out_proj.weight']\n",
      "You should probably TRAIN this model on a down-stream task to be able to use it for predictions and inference.\n"
     ]
    },
    {
     "name": "stderr",
     "output_type": "stream",
     "text": [
      "/opt/mamba/lib/python3.11/site-packages/transformers/optimization.py:429: FutureWarning: This implementation of AdamW is deprecated and will be removed in a future version. Use the PyTorch implementation torch.optim.AdamW instead, or set `no_deprecation_warning=True` to disable this warning\n",
      "  warnings.warn(\n"
     ]
    },
    {
     "name": "stdout",
     "output_type": "stream",
     "text": [
      "\n",
      "======== Epoch 1 / 3 ========\n",
      "Training...\n",
      "\n",
      "  Average training loss: 1.38\n",
      "  Training took: 0:00:31\n",
      "\n",
      "Running Validation...\n",
      "\n",
      "  Average test loss: 1.35\n",
      "  Validation took: 0:00:02\n",
      "                        precision    recall  f1-score   support\n",
      "\n",
      "     Agent responsable       0.00      0.00      0.00        30\n",
      "  Genre/espèce humaine       0.00      0.00      0.00        17\n",
      "              Individu       0.26      1.00      0.41        21\n",
      "Personne relationnelle       0.00      0.00      0.00        14\n",
      "\n",
      "              accuracy                           0.26        82\n",
      "             macro avg       0.06      0.25      0.10        82\n",
      "          weighted avg       0.07      0.26      0.10        82\n",
      "\n",
      "\n",
      "======== Epoch 2 / 3 ========\n",
      "Training...\n"
     ]
    },
    {
     "name": "stderr",
     "output_type": "stream",
     "text": [
      "/opt/mamba/lib/python3.11/site-packages/sklearn/metrics/_classification.py:1509: UndefinedMetricWarning: Precision is ill-defined and being set to 0.0 in labels with no predicted samples. Use `zero_division` parameter to control this behavior.\n",
      "  _warn_prf(average, modifier, f\"{metric.capitalize()} is\", len(result))\n",
      "/opt/mamba/lib/python3.11/site-packages/sklearn/metrics/_classification.py:1509: UndefinedMetricWarning: Precision is ill-defined and being set to 0.0 in labels with no predicted samples. Use `zero_division` parameter to control this behavior.\n",
      "  _warn_prf(average, modifier, f\"{metric.capitalize()} is\", len(result))\n",
      "/opt/mamba/lib/python3.11/site-packages/sklearn/metrics/_classification.py:1509: UndefinedMetricWarning: Precision is ill-defined and being set to 0.0 in labels with no predicted samples. Use `zero_division` parameter to control this behavior.\n",
      "  _warn_prf(average, modifier, f\"{metric.capitalize()} is\", len(result))\n",
      "/opt/mamba/lib/python3.11/site-packages/sklearn/metrics/_classification.py:1509: UndefinedMetricWarning: Precision is ill-defined and being set to 0.0 in labels with no predicted samples. Use `zero_division` parameter to control this behavior.\n",
      "  _warn_prf(average, modifier, f\"{metric.capitalize()} is\", len(result))\n"
     ]
    },
    {
     "name": "stdout",
     "output_type": "stream",
     "text": [
      "\n",
      "  Average training loss: 1.35\n",
      "  Training took: 0:00:31\n",
      "\n",
      "Running Validation...\n",
      "\n",
      "  Average test loss: 1.34\n",
      "  Validation took: 0:00:02\n",
      "                        precision    recall  f1-score   support\n",
      "\n",
      "     Agent responsable       0.00      0.00      0.00        30\n",
      "  Genre/espèce humaine       0.00      0.00      0.00        17\n",
      "              Individu       0.27      1.00      0.42        21\n",
      "Personne relationnelle       0.33      0.07      0.12        14\n",
      "\n",
      "              accuracy                           0.27        82\n",
      "             macro avg       0.15      0.27      0.13        82\n",
      "          weighted avg       0.12      0.27      0.13        82\n",
      "\n",
      "\n",
      "======== Epoch 3 / 3 ========\n",
      "Training...\n"
     ]
    },
    {
     "name": "stderr",
     "output_type": "stream",
     "text": [
      "/opt/mamba/lib/python3.11/site-packages/sklearn/metrics/_classification.py:1509: UndefinedMetricWarning: Precision is ill-defined and being set to 0.0 in labels with no predicted samples. Use `zero_division` parameter to control this behavior.\n",
      "  _warn_prf(average, modifier, f\"{metric.capitalize()} is\", len(result))\n",
      "/opt/mamba/lib/python3.11/site-packages/sklearn/metrics/_classification.py:1509: UndefinedMetricWarning: Precision is ill-defined and being set to 0.0 in labels with no predicted samples. Use `zero_division` parameter to control this behavior.\n",
      "  _warn_prf(average, modifier, f\"{metric.capitalize()} is\", len(result))\n",
      "/opt/mamba/lib/python3.11/site-packages/sklearn/metrics/_classification.py:1509: UndefinedMetricWarning: Precision is ill-defined and being set to 0.0 in labels with no predicted samples. Use `zero_division` parameter to control this behavior.\n",
      "  _warn_prf(average, modifier, f\"{metric.capitalize()} is\", len(result))\n",
      "/opt/mamba/lib/python3.11/site-packages/sklearn/metrics/_classification.py:1509: UndefinedMetricWarning: Precision is ill-defined and being set to 0.0 in labels with no predicted samples. Use `zero_division` parameter to control this behavior.\n",
      "  _warn_prf(average, modifier, f\"{metric.capitalize()} is\", len(result))\n"
     ]
    },
    {
     "name": "stdout",
     "output_type": "stream",
     "text": [
      "\n",
      "  Average training loss: 1.34\n",
      "  Training took: 0:00:33\n",
      "\n",
      "Running Validation...\n",
      "\n",
      "  Average test loss: 1.33\n",
      "  Validation took: 0:00:02\n",
      "                        precision    recall  f1-score   support\n",
      "\n",
      "     Agent responsable       0.00      0.00      0.00        30\n",
      "  Genre/espèce humaine       0.00      0.00      0.00        17\n",
      "              Individu       0.27      1.00      0.42        21\n",
      "Personne relationnelle       0.25      0.07      0.11        14\n",
      "\n",
      "              accuracy                           0.27        82\n",
      "             macro avg       0.13      0.27      0.13        82\n",
      "          weighted avg       0.11      0.27      0.13        82\n",
      "\n",
      "\n",
      "Training complete!\n"
     ]
    },
    {
     "name": "stderr",
     "output_type": "stream",
     "text": [
      "/opt/mamba/lib/python3.11/site-packages/sklearn/metrics/_classification.py:1509: UndefinedMetricWarning: Precision is ill-defined and being set to 0.0 in labels with no predicted samples. Use `zero_division` parameter to control this behavior.\n",
      "  _warn_prf(average, modifier, f\"{metric.capitalize()} is\", len(result))\n",
      "/opt/mamba/lib/python3.11/site-packages/sklearn/metrics/_classification.py:1509: UndefinedMetricWarning: Precision is ill-defined and being set to 0.0 in labels with no predicted samples. Use `zero_division` parameter to control this behavior.\n",
      "  _warn_prf(average, modifier, f\"{metric.capitalize()} is\", len(result))\n",
      "/opt/mamba/lib/python3.11/site-packages/sklearn/metrics/_classification.py:1509: UndefinedMetricWarning: Precision is ill-defined and being set to 0.0 in labels with no predicted samples. Use `zero_division` parameter to control this behavior.\n",
      "  _warn_prf(average, modifier, f\"{metric.capitalize()} is\", len(result))\n",
      "/opt/mamba/lib/python3.11/site-packages/sklearn/metrics/_classification.py:1509: UndefinedMetricWarning: Precision is ill-defined and being set to 0.0 in labels with no predicted samples. Use `zero_division` parameter to control this behavior.\n",
      "  _warn_prf(average, modifier, f\"{metric.capitalize()} is\", len(result))\n"
     ]
    }
   ],
   "source": [
    "scores = bert.run_training(\n",
    "    train_loader,\n",
    "    test_loader,\n",
    "    n_epochs=3,\n",
    "    lr=2e-5,\n",
    "    random_state=42,\n",
    "    save_model_as='clickbait'\n",
    "    )"
   ]
  },
  {
   "cell_type": "code",
   "execution_count": 12,
   "metadata": {},
   "outputs": [
    {
     "data": {
      "application/vnd.jupyter.widget-view+json": {
       "model_id": "d676cfa544eb4d2aa158da7f5467f735",
       "version_major": 2,
       "version_minor": 0
      },
      "text/plain": [
       "  0%|          | 0/798 [00:00<?, ?it/s]"
      ]
     },
     "metadata": {},
     "output_type": "display_data"
    },
    {
     "data": {
      "application/vnd.jupyter.widget-view+json": {
       "model_id": "d88eb931d51b426bb8976d3b6170ba78",
       "version_major": 2,
       "version_minor": 0
      },
      "text/plain": [
       "  0%|          | 0/798 [00:00<?, ?it/s]"
      ]
     },
     "metadata": {},
     "output_type": "display_data"
    },
    {
     "data": {
      "application/vnd.jupyter.widget-view+json": {
       "model_id": "85d35637e5c8426880df07d04ab0c45f",
       "version_major": 2,
       "version_minor": 0
      },
      "text/plain": [
       "  0%|          | 0/50 [00:00<?, ?it/s]"
      ]
     },
     "metadata": {},
     "output_type": "display_data"
    },
    {
     "name": "stdout",
     "output_type": "stream",
     "text": [
      "label ids: {'Agent responsable': 0, 'Genre/espèce humaine': 1, 'Individu': 2, 'Personne relationnelle': 3}\n"
     ]
    }
   ],
   "source": [
    "import numpy as np\n",
    "pred_data = annotations_file[annotations_file[\"label\"].isna()][[\"text\"]].dropna()\n",
    "pred_loader = bert.encode(pred_data.text.values, batch_size=batch_size)\n",
    "pred_proba = bert.predict_with_model(pred_loader, model_path='./models/clickbait')\n",
    "pred_data['pred_label'] = np.argmax(pred_proba, axis=1)\n",
    "pred_data['pred_proba'] = np.max(pred_proba, axis=1)"
   ]
  },
  {
   "cell_type": "code",
   "execution_count": 13,
   "metadata": {},
   "outputs": [
    {
     "data": {
      "text/plain": [
       "count    798.000000\n",
       "mean       0.290116\n",
       "std        0.011629\n",
       "min        0.259866\n",
       "25%        0.281881\n",
       "50%        0.288847\n",
       "75%        0.298296\n",
       "max        0.325199\n",
       "Name: pred_proba, dtype: float64"
      ]
     },
     "execution_count": 13,
     "metadata": {},
     "output_type": "execute_result"
    }
   ],
   "source": [
    "pred_data[\"pred_proba\"].describe()"
   ]
  },
  {
   "cell_type": "code",
   "execution_count": 14,
   "metadata": {},
   "outputs": [
    {
     "data": {
      "text/html": [
       "<div>\n",
       "<style scoped>\n",
       "    .dataframe tbody tr th:only-of-type {\n",
       "        vertical-align: middle;\n",
       "    }\n",
       "\n",
       "    .dataframe tbody tr th {\n",
       "        vertical-align: top;\n",
       "    }\n",
       "\n",
       "    .dataframe thead th {\n",
       "        text-align: right;\n",
       "    }\n",
       "</style>\n",
       "<table border=\"1\" class=\"dataframe\">\n",
       "  <thead>\n",
       "    <tr style=\"text-align: right;\">\n",
       "      <th></th>\n",
       "      <th>text</th>\n",
       "      <th>pred_label</th>\n",
       "      <th>pred_proba</th>\n",
       "    </tr>\n",
       "  </thead>\n",
       "  <tbody>\n",
       "    <tr>\n",
       "      <th>700</th>\n",
       "      <td>S’il semble dès lors naïf de penser que le sentiment de soi est dépendant \\nd’une augmentation ou d’une diminution quelconque, on ne peut en revanche exclure que ce sentiment \\npuisse être modifié quand un seuil technique, par la prise régulière et prolongée de médicaments \\nnotamme nt, est franchi. Il importe donc de tenir compte de toutes les modifications du comportement \\nd’une personne quand on veut évaluer les processus dits «  internes  » liés au sentiment de soi 91. En raison du manque d’études d’observation au long cours sur la ne uroamélioration (IIIb), la \\nquestion reste posée du risque éventuel de modification de capacités premières, relatives au soi, de la \\npersonne humaine comme «  être en bonne santé, vivre longtemps, avoir une bonne mémoire, être \\nd’une humeur égale, ne pas être  durablement dans des états affectifs paralysants comme la timidité ou \\nla peur  » (B.Baertschi, 2011).</td>\n",
       "      <td>2</td>\n",
       "      <td>0.295188</td>\n",
       "    </tr>\n",
       "    <tr>\n",
       "      <th>701</th>\n",
       "      <td>Personne ne soutient qu'il soit possible de tourner ce droit des parents pour entreprendre\\ndes recherches sur l'embryon. Mais, ici encore, la question primaire, celle du principe de\\ntelles recherches, suscitera sans doute des oppositions passionnées entre ceux qui\\nvoudraient rendre les recherches impossibles et ceux qui n'ont aucune objection à ce\\nqu'elles soient menées avec l'accord des personnes qui ont donné vie à l'embryon, par des\\néquipes connues et sérieuses qui en garantiraient la destination. Par ailleurs, il ne saurait être question de refuser un statut juridique aux enfants nés d'une\\nfécondation artificielle.</td>\n",
       "      <td>2</td>\n",
       "      <td>0.277055</td>\n",
       "    </tr>\n",
       "    <tr>\n",
       "      <th>702</th>\n",
       "      <td>Le temps de parole doit être suffisant pour \\nque le mineur éventuel puisse, dans une relation avec l’expert faite de confiance, d’ouverture \\nd’esprit et de dialogue, saisir non seulement les raisons de la demande d’examen mais en \\nmême temps le caractère aléatoire de ses résultats. 4 - Ces examens médicaux sont actuellement pratiqués en l’absence de consentement de la \\npersonne ellemême ou d’un tuteur ou d’une personne de référence. Ils ne peuvent être \\nprescrits et réalisés que dans le respect attentif de la personne qui se réclame du statut de \\nmineur.</td>\n",
       "      <td>3</td>\n",
       "      <td>0.279503</td>\n",
       "    </tr>\n",
       "    <tr>\n",
       "      <th>703</th>\n",
       "      <td>»\\n24 Avis N°107  du 15 octobre 2009 sur les problèmes éthiques liés aux diagnostics anténatals : le diagnostic  \\nprénatal (DPN) et le diagnostic préimplantatoire (DPI) . 25 Dans l’Avis N°8 du 15 décembre 1986 relatif aux recherches et utilisation des embryons humains in vitro à des  \\nfins médicales et scientifiques : « Le Comité constate que le développement de la procréation par la fécondation  \\nin vitro accentue la tendance à réduire les corps humains à l’état d’instruments ; de plus, des techniques telles  \\nque  la  congélation  des  embryons  renforcent  le  caractère  artificiel  de  la  reproduction,  notamment  par  la  \\ndissociation entre la fécondation et la gestation. […] On peut envisager et souhaiter que la recherche permette à  \\nl’avenir de ne féconder que des ovocytes destinés à être transplantés en vue de la naissance d’un enfant.</td>\n",
       "      <td>2</td>\n",
       "      <td>0.295519</td>\n",
       "    </tr>\n",
       "    <tr>\n",
       "      <th>704</th>\n",
       "      <td>Sur la question du champ d'application de la loi, ils recommandent en\\nl'argumentant, \" l'extension du champ de la loi à toute recherche scientifique sur\\nl'être humain\" . N° 41 : La Coopération dans le domaine de la recherche biomédicale entre équipes\\nfrançaises et équipes de pays en voie de développement économique, 1993\\nConsidérant que \" les projets de recherche biomédicale entre les équipes françaises et les\\néquipes de pays en voie de développement économique exigent des précautions\\nparticulières afin que soient garanties la dignité et la sécurité des personnes se prêtant à\\nces recherches d'intérêt général\" , le CCNE déclare : \" Tous les projets doivent être\\nsoumis, avant que d'être entrepris, à un Comité spécialisé à créer (Comité\\nconsultatif français de protection des personnes se prêteant à la recherche\\nbiomédicale dans les pays en voie de développement, ou CCPPVD). Ce Comité spécialisé doit notamment inclure des experts de l'Organisation\\nmondiale de la santé ayant l'expérience de la conduite ou du contrôle de tels\\nprojets, et pourrait être constitué sous l'égide des départements ministériels en\\ncharge de la Santé, de la Recherche et de la Coopération.</td>\n",
       "      <td>2</td>\n",
       "      <td>0.300774</td>\n",
       "    </tr>\n",
       "    <tr>\n",
       "      <th>...</th>\n",
       "      <td>...</td>\n",
       "      <td>...</td>\n",
       "      <td>...</td>\n",
       "    </tr>\n",
       "    <tr>\n",
       "      <th>1495</th>\n",
       "      <td>La garde à vue est une mesure privative de liberté  permettant à la police judiciaire ou à \\nla gendarmerie, de retenir et d'interroger dans ses  locaux une personne présumée innocente, \\ndans des conditions discrétionnaires (privation de sommeil, relais des intervenants, \\nindifférence à l'état de santé….). Le maintien en garde à vue, qui selon la gravité d es faits reprochés, peut durer de 24 à \\n96 heures, concerne chaque année un nombre très imp ortant de personnes (426 000 en 2003 ; \\n460 000 en 2004) et conduit souvent à une détention  dans des conditions d’hygiène et de \\npromiscuité déplorables. Les règles de cette privation de liberté d’aller e t venir sont clairement fixées par \\nla loi du 4 janvier 1993.</td>\n",
       "      <td>2</td>\n",
       "      <td>0.292892</td>\n",
       "    </tr>\n",
       "    <tr>\n",
       "      <th>1496</th>\n",
       "      <td>50\\t\\n  “Il\\t\\n  convient\\t\\n  surtout\\t\\n  de\\t\\n  miser\\t\\n  sur\\t\\n  l’appropriation\\t\\n  par\\t\\n  les\\t\\n  couples\\t\\n  du\\t\\n  savoir\\t\\n  génétique,\\t\\n  la\\t\\n  prise\\t\\n  de\\t\\n  conscience\\t\\n  des\\t\\n  limites\\t\\n   d’un\\t\\n   tel\\t\\n   savoir,\\t\\n   des\\t\\n   risques\\t\\n   de\\t\\n   surdiagnostic\\t\\n   et\\t\\n  -­‐\\t\\n  p o u s s é \\t\\n  à \\t\\n  l ’ a b s u r d e \\t\\n  -­‐\\t\\n  d u \\t\\n  r i s q u e \\t\\n  d e \\t\\n  n e \\t\\n  j a m a i s \\t\\n  c oncevoir\\t\\n  d’enfant. Aucun\\t\\n  être\\t\\n  humain,\\t\\n  en\\t\\n  effet,\\t\\n  ne\\t\\n  peut\\t\\n  naître\\t\\n  génétiquement\\t\\n  exempt\\t\\n  de\\t\\n  risque\\t\\n  de\\t\\n  développer\\t\\n  une\\t\\n  maladie\\t\\n  grave\\t\\n  au\\t\\n  cours\\t\\n  de\\t\\n  son\\t\\n  existence”. CCNE,\\t\\n  avis\\t\\n  N°\\t\\n  107\\t\\n  (2009):\\t\\n  “Avis\\t\\n  sur\\t\\n  les\\t\\n  problèmes\\t\\n  éthiques\\t\\n  liés\\t\\n  aux\\t\\n  diagnostics\\t\\n  anténatals\\t\\n  :\\t\\n  le\\t\\n  diagnostic\\t\\n  prénatal\\t\\n  (DPN)\\t\\n  et\\t\\n  le\\t\\n  diagnostic\\t\\n  préimplantatoire\\t\\n  (DPI).”\\t\\n  51\\t\\n  CCNE,\\t\\n  avis\\t\\n  N°\\t\\n  109\\t\\n  (2010)\\t\\n  :\\t\\n  “Communication\\t\\n  d’informations\\t\\n  scientifiques\\t\\n  et\\t\\n  médicales,\\t\\n  et\\t\\n  société\\t\\n  :\\t\\n  enjeux\\t\\n  éthi-­‐ques”.</td>\n",
       "      <td>2</td>\n",
       "      <td>0.299383</td>\n",
       "    </tr>\n",
       "    <tr>\n",
       "      <th>1497</th>\n",
       "      <td>Cette mosaïque de situ ations d’inégalité s en matière de santé  représente un angle \\nmort des politiques de santé publique, et met en évidence un système de soins peu \\nadapté aux plus fragiles , malgré la mise en place d’une couverture maladie à visée \\nuniversaliste. Ces difficultés  à prendre en compte en France les inégalités dans les programmes de \\nsanté 35 ont été particulièrement manifestes dans le développement de la vaccination \\ncontre la Covid -19, qui est restée marquée par un important gradient social, et ce \\nmême après l’instaura tion du pass vaccinal et malgré d’importantes initiatives \\n« d’aller -vers » en faveur des personnes les plus vulnérables en raison de leur état de \\nsanté ou de leur situation socioéconomique (à titre d’exemple , les personnes détenues ont été parmi les plus d iscriminées  : en janvier 2022, lorsque 77 % de la population générale présentait un schéma vaccinal complet, seules 47 % des personnes détenues étaient ainsi immunisées 36). Il faut souligner que le  déficit de couverture vaccinale chez les personnes les moin s favorisées socialement et dans certains territoires \\n(les Antilles en particulier),  plus qu’un défaut d’accès à la vaccination, témoigne d’une \\n                                                 \\n32 Marmot M. et al., (2010), Fair Society, Healthy Lives: The Marmot Review , London, Institute of healthy \\nequity, 238 p.  \\n33 On peut cependant noter que la population carcérale, a priori parmi les plus exposées à la pandémie \\nen raison de la suroccupation des cellules dans les maisons d’arrêt , a bénéficié d’une spectaculaire, \\nmais transitoire, diminution de sa démographie et de programmes résolus de prévention qui ont contenu la progression de l’infection.</td>\n",
       "      <td>2</td>\n",
       "      <td>0.325105</td>\n",
       "    </tr>\n",
       "    <tr>\n",
       "      <th>1498</th>\n",
       "      <td>Dans le souci de clarification exposé plus haut, le Comité propose en outre que le terme de\\n\"clonage dit reproductif\" figure explicitement dans le texte de cet alinéa. De l'AMP à la recherche sur l'embryon\\nAttentif aux risques de dérives qu'entraînerait, sur le plan éthique, la réification de l'embryon\\nhumain, c'està-dire le fait de le considérer comme une chose, et non plus comme une\\npersonne humaine potentielle, le CCNE a déjà fait connaître sa position relative à la\\nrecherche sur l'embryon. Sur le fond, il approuve les choix opérés dans l'avantprojet  :\\n• d'une part la réaffirmation du principe selon lequel la production à des fins de\\nrecherche d'embryons humains par fécondation in vitro est interdite;\\n• d'autre part l’ouverture contrôlée des possibilités de recherche sur les embryons\\nsurnuméraires \"qui ne font plus l'objet d'un projet parental\" (article L.</td>\n",
       "      <td>2</td>\n",
       "      <td>0.280682</td>\n",
       "    </tr>\n",
       "    <tr>\n",
       "      <th>1499</th>\n",
       "      <td>Sa modification actuelle devient : \"n'est pas\\npénalement responsable la personne qui était atteinte, au moment des faits, d'un\\ntrouble psychique ou neuropsychique ayant aboli son discernement ou le contrôle de\\nses actes”. Cependant, la personne \"demeure punissable\" si son discernement n'a\\nété \"qu'altéré\" et non aboli. Cette distinction repousse donc \"la frontière séparant les\\ncomportements responsables des névroses ou des psychoses considérées comme\\naliénantes, jouant parfois sur des concepts plus philosophiques -tels que celui du\\n\"librearbitre\"”- ou moraux -la perception du bien et du malque strictement\\nmédicaux.</td>\n",
       "      <td>2</td>\n",
       "      <td>0.271219</td>\n",
       "    </tr>\n",
       "  </tbody>\n",
       "</table>\n",
       "<p>798 rows × 3 columns</p>\n",
       "</div>"
      ],
      "text/plain": [
       "                                                                                                                                                                                                                                                                                                                                                                                                                                                                                                                                                                                                                                                                                                                                                                                                                                                                                                                                                                                                                                                                                                                                                                                                                                                                                                                                                                                                                                                                                                                                                                                                                                                                                                                                                                                                                     text  \\\n",
       "700                                                                                                                                                                                                                                                                                                                                                                                                                                                                                                                                                                                                                                                                                                                                                                                                                                                                     S’il semble dès lors naïf de penser que le sentiment de soi est dépendant \\nd’une augmentation ou d’une diminution quelconque, on ne peut en revanche exclure que ce sentiment \\npuisse être modifié quand un seuil technique, par la prise régulière et prolongée de médicaments \\nnotamme nt, est franchi. Il importe donc de tenir compte de toutes les modifications du comportement \\nd’une personne quand on veut évaluer les processus dits «  internes  » liés au sentiment de soi 91. En raison du manque d’études d’observation au long cours sur la ne uroamélioration (IIIb), la \\nquestion reste posée du risque éventuel de modification de capacités premières, relatives au soi, de la \\npersonne humaine comme «  être en bonne santé, vivre longtemps, avoir une bonne mémoire, être \\nd’une humeur égale, ne pas être  durablement dans des états affectifs paralysants comme la timidité ou \\nla peur  » (B.Baertschi, 2011).   \n",
       "701                                                                                                                                                                                                                                                                                                                                                                                                                                                                                                                                                                                                                                                                                                                                                                                                                                                                                                                                                                                                                                                                                                                                                              Personne ne soutient qu'il soit possible de tourner ce droit des parents pour entreprendre\\ndes recherches sur l'embryon. Mais, ici encore, la question primaire, celle du principe de\\ntelles recherches, suscitera sans doute des oppositions passionnées entre ceux qui\\nvoudraient rendre les recherches impossibles et ceux qui n'ont aucune objection à ce\\nqu'elles soient menées avec l'accord des personnes qui ont donné vie à l'embryon, par des\\néquipes connues et sérieuses qui en garantiraient la destination. Par ailleurs, il ne saurait être question de refuser un statut juridique aux enfants nés d'une\\nfécondation artificielle.   \n",
       "702                                                                                                                                                                                                                                                                                                                                                                                                                                                                                                                                                                                                                                                                                                                                                                                                                                                                                                                                                                                                                                                                                                                                                                                                                                Le temps de parole doit être suffisant pour \\nque le mineur éventuel puisse, dans une relation avec l’expert faite de confiance, d’ouverture \\nd’esprit et de dialogue, saisir non seulement les raisons de la demande d’examen mais en \\nmême temps le caractère aléatoire de ses résultats. 4 - Ces examens médicaux sont actuellement pratiqués en l’absence de consentement de la \\npersonne ellemême ou d’un tuteur ou d’une personne de référence. Ils ne peuvent être \\nprescrits et réalisés que dans le respect attentif de la personne qui se réclame du statut de \\nmineur.   \n",
       "703                                                                                                                                                                                                                                                                                                                                                                                                                                                                                                                                                                                                                                                                                                                                                                                                                                                                                                                      »\\n24 Avis N°107  du 15 octobre 2009 sur les problèmes éthiques liés aux diagnostics anténatals : le diagnostic  \\nprénatal (DPN) et le diagnostic préimplantatoire (DPI) . 25 Dans l’Avis N°8 du 15 décembre 1986 relatif aux recherches et utilisation des embryons humains in vitro à des  \\nfins médicales et scientifiques : « Le Comité constate que le développement de la procréation par la fécondation  \\nin vitro accentue la tendance à réduire les corps humains à l’état d’instruments ; de plus, des techniques telles  \\nque  la  congélation  des  embryons  renforcent  le  caractère  artificiel  de  la  reproduction,  notamment  par  la  \\ndissociation entre la fécondation et la gestation. […] On peut envisager et souhaiter que la recherche permette à  \\nl’avenir de ne féconder que des ovocytes destinés à être transplantés en vue de la naissance d’un enfant.   \n",
       "704                                                                                                                                                                                                                                                                                                                                                                                                                                                                                                                                                                                  Sur la question du champ d'application de la loi, ils recommandent en\\nl'argumentant, \" l'extension du champ de la loi à toute recherche scientifique sur\\nl'être humain\" . N° 41 : La Coopération dans le domaine de la recherche biomédicale entre équipes\\nfrançaises et équipes de pays en voie de développement économique, 1993\\nConsidérant que \" les projets de recherche biomédicale entre les équipes françaises et les\\néquipes de pays en voie de développement économique exigent des précautions\\nparticulières afin que soient garanties la dignité et la sécurité des personnes se prêtant à\\nces recherches d'intérêt général\" , le CCNE déclare : \" Tous les projets doivent être\\nsoumis, avant que d'être entrepris, à un Comité spécialisé à créer (Comité\\nconsultatif français de protection des personnes se prêteant à la recherche\\nbiomédicale dans les pays en voie de développement, ou CCPPVD). Ce Comité spécialisé doit notamment inclure des experts de l'Organisation\\nmondiale de la santé ayant l'expérience de la conduite ou du contrôle de tels\\nprojets, et pourrait être constitué sous l'égide des départements ministériels en\\ncharge de la Santé, de la Recherche et de la Coopération.   \n",
       "...                                                                                                                                                                                                                                                                                                                                                                                                                                                                                                                                                                                                                                                                                                                                                                                                                                                                                                                                                                                                                                                                                                                                                                                                                                                                                                                                                                                                                                                                                                                                                                                                                                                                                                                                                                                                                   ...   \n",
       "1495                                                                                                                                                                                                                                                                                                                                                                                                                                                                                                                                                                                                                                                                                                                                                                                                                                                                                                                                                                                                                                                                 La garde à vue est une mesure privative de liberté  permettant à la police judiciaire ou à \\nla gendarmerie, de retenir et d'interroger dans ses  locaux une personne présumée innocente, \\ndans des conditions discrétionnaires (privation de sommeil, relais des intervenants, \\nindifférence à l'état de santé….). Le maintien en garde à vue, qui selon la gravité d es faits reprochés, peut durer de 24 à \\n96 heures, concerne chaque année un nombre très imp ortant de personnes (426 000 en 2003 ; \\n460 000 en 2004) et conduit souvent à une détention  dans des conditions d’hygiène et de \\npromiscuité déplorables. Les règles de cette privation de liberté d’aller e t venir sont clairement fixées par \\nla loi du 4 janvier 1993.   \n",
       "1496                                                                                                                                                                                                                                                                                                                                                                                                                                                                                                                                                              50\\t\\n  “Il\\t\\n  convient\\t\\n  surtout\\t\\n  de\\t\\n  miser\\t\\n  sur\\t\\n  l’appropriation\\t\\n  par\\t\\n  les\\t\\n  couples\\t\\n  du\\t\\n  savoir\\t\\n  génétique,\\t\\n  la\\t\\n  prise\\t\\n  de\\t\\n  conscience\\t\\n  des\\t\\n  limites\\t\\n   d’un\\t\\n   tel\\t\\n   savoir,\\t\\n   des\\t\\n   risques\\t\\n   de\\t\\n   surdiagnostic\\t\\n   et\\t\\n  -­‐\\t\\n  p o u s s é \\t\\n  à \\t\\n  l ’ a b s u r d e \\t\\n  -­‐\\t\\n  d u \\t\\n  r i s q u e \\t\\n  d e \\t\\n  n e \\t\\n  j a m a i s \\t\\n  c oncevoir\\t\\n  d’enfant. Aucun\\t\\n  être\\t\\n  humain,\\t\\n  en\\t\\n  effet,\\t\\n  ne\\t\\n  peut\\t\\n  naître\\t\\n  génétiquement\\t\\n  exempt\\t\\n  de\\t\\n  risque\\t\\n  de\\t\\n  développer\\t\\n  une\\t\\n  maladie\\t\\n  grave\\t\\n  au\\t\\n  cours\\t\\n  de\\t\\n  son\\t\\n  existence”. CCNE,\\t\\n  avis\\t\\n  N°\\t\\n  107\\t\\n  (2009):\\t\\n  “Avis\\t\\n  sur\\t\\n  les\\t\\n  problèmes\\t\\n  éthiques\\t\\n  liés\\t\\n  aux\\t\\n  diagnostics\\t\\n  anténatals\\t\\n  :\\t\\n  le\\t\\n  diagnostic\\t\\n  prénatal\\t\\n  (DPN)\\t\\n  et\\t\\n  le\\t\\n  diagnostic\\t\\n  préimplantatoire\\t\\n  (DPI).”\\t\\n  51\\t\\n  CCNE,\\t\\n  avis\\t\\n  N°\\t\\n  109\\t\\n  (2010)\\t\\n  :\\t\\n  “Communication\\t\\n  d’informations\\t\\n  scientifiques\\t\\n  et\\t\\n  médicales,\\t\\n  et\\t\\n  société\\t\\n  :\\t\\n  enjeux\\t\\n  éthi-­‐ques”.   \n",
       "1497  Cette mosaïque de situ ations d’inégalité s en matière de santé  représente un angle \\nmort des politiques de santé publique, et met en évidence un système de soins peu \\nadapté aux plus fragiles , malgré la mise en place d’une couverture maladie à visée \\nuniversaliste. Ces difficultés  à prendre en compte en France les inégalités dans les programmes de \\nsanté 35 ont été particulièrement manifestes dans le développement de la vaccination \\ncontre la Covid -19, qui est restée marquée par un important gradient social, et ce \\nmême après l’instaura tion du pass vaccinal et malgré d’importantes initiatives \\n« d’aller -vers » en faveur des personnes les plus vulnérables en raison de leur état de \\nsanté ou de leur situation socioéconomique (à titre d’exemple , les personnes détenues ont été parmi les plus d iscriminées  : en janvier 2022, lorsque 77 % de la population générale présentait un schéma vaccinal complet, seules 47 % des personnes détenues étaient ainsi immunisées 36). Il faut souligner que le  déficit de couverture vaccinale chez les personnes les moin s favorisées socialement et dans certains territoires \\n(les Antilles en particulier),  plus qu’un défaut d’accès à la vaccination, témoigne d’une \\n                                                 \\n32 Marmot M. et al., (2010), Fair Society, Healthy Lives: The Marmot Review , London, Institute of healthy \\nequity, 238 p.  \\n33 On peut cependant noter que la population carcérale, a priori parmi les plus exposées à la pandémie \\nen raison de la suroccupation des cellules dans les maisons d’arrêt , a bénéficié d’une spectaculaire, \\nmais transitoire, diminution de sa démographie et de programmes résolus de prévention qui ont contenu la progression de l’infection.   \n",
       "1498                                                                                                                                                                                                                                                                                                                                                                                                                                                                                                                                                                                                                                                                                                                                                                                                                                                                                                    Dans le souci de clarification exposé plus haut, le Comité propose en outre que le terme de\\n\"clonage dit reproductif\" figure explicitement dans le texte de cet alinéa. De l'AMP à la recherche sur l'embryon\\nAttentif aux risques de dérives qu'entraînerait, sur le plan éthique, la réification de l'embryon\\nhumain, c'està-dire le fait de le considérer comme une chose, et non plus comme une\\npersonne humaine potentielle, le CCNE a déjà fait connaître sa position relative à la\\nrecherche sur l'embryon. Sur le fond, il approuve les choix opérés dans l'avantprojet  :\\n• d'une part la réaffirmation du principe selon lequel la production à des fins de\\nrecherche d'embryons humains par fécondation in vitro est interdite;\\n• d'autre part l’ouverture contrôlée des possibilités de recherche sur les embryons\\nsurnuméraires \"qui ne font plus l'objet d'un projet parental\" (article L.   \n",
       "1499                                                                                                                                                                                                                                                                                                                                                                                                                                                                                                                                                                                                                                                                                                                                                                                                                                                                                                                                                                                                                                                                                                                                                                Sa modification actuelle devient : \"n'est pas\\npénalement responsable la personne qui était atteinte, au moment des faits, d'un\\ntrouble psychique ou neuropsychique ayant aboli son discernement ou le contrôle de\\nses actes”. Cependant, la personne \"demeure punissable\" si son discernement n'a\\nété \"qu'altéré\" et non aboli. Cette distinction repousse donc \"la frontière séparant les\\ncomportements responsables des névroses ou des psychoses considérées comme\\naliénantes, jouant parfois sur des concepts plus philosophiques -tels que celui du\\n\"librearbitre\"”- ou moraux -la perception du bien et du malque strictement\\nmédicaux.   \n",
       "\n",
       "      pred_label  pred_proba  \n",
       "700            2    0.295188  \n",
       "701            2    0.277055  \n",
       "702            3    0.279503  \n",
       "703            2    0.295519  \n",
       "704            2    0.300774  \n",
       "...          ...         ...  \n",
       "1495           2    0.292892  \n",
       "1496           2    0.299383  \n",
       "1497           2    0.325105  \n",
       "1498           2    0.280682  \n",
       "1499           2    0.271219  \n",
       "\n",
       "[798 rows x 3 columns]"
      ]
     },
     "execution_count": 14,
     "metadata": {},
     "output_type": "execute_result"
    }
   ],
   "source": [
    "pd.set_option('display.max_colwidth', None)  # Use None to show all the text, or set a large number\n",
    "\n",
    "pred_data"
   ]
  }
 ],
 "metadata": {
  "kernelspec": {
   "display_name": "ccne",
   "language": "python",
   "name": "python3"
  },
  "language_info": {
   "codemirror_mode": {
    "name": "ipython",
    "version": 3
   },
   "file_extension": ".py",
   "mimetype": "text/x-python",
   "name": "python",
   "nbconvert_exporter": "python",
   "pygments_lexer": "ipython3",
   "version": "3.11.6"
  }
 },
 "nbformat": 4,
 "nbformat_minor": 2
}
