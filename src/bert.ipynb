{
 "cells": [
  {
   "cell_type": "code",
   "execution_count": 1,
   "metadata": {},
   "outputs": [
    {
     "name": "stdout",
     "output_type": "stream",
     "text": [
      "Requirement already satisfied: AugmentedSocialScientist in c:\\users\\leopo\\anaconda3\\envs\\ccne\\lib\\site-packages (2.2.1)\n",
      "Requirement already satisfied: scikit-learn in c:\\users\\leopo\\anaconda3\\envs\\ccne\\lib\\site-packages (from AugmentedSocialScientist) (1.3.0)\n",
      "Requirement already satisfied: tqdm in c:\\users\\leopo\\anaconda3\\envs\\ccne\\lib\\site-packages (from AugmentedSocialScientist) (4.65.0)\n",
      "Requirement already satisfied: numpy in c:\\users\\leopo\\anaconda3\\envs\\ccne\\lib\\site-packages (from AugmentedSocialScientist) (1.26.3)\n",
      "Requirement already satisfied: scipy in c:\\users\\leopo\\anaconda3\\envs\\ccne\\lib\\site-packages (from AugmentedSocialScientist) (1.11.4)\n",
      "Requirement already satisfied: torch in c:\\users\\leopo\\anaconda3\\envs\\ccne\\lib\\site-packages (from AugmentedSocialScientist) (2.1.0)\n",
      "Requirement already satisfied: transformers in c:\\users\\leopo\\anaconda3\\envs\\ccne\\lib\\site-packages (from AugmentedSocialScientist) (4.37.2)\n",
      "Requirement already satisfied: sentencepiece in c:\\users\\leopo\\anaconda3\\envs\\ccne\\lib\\site-packages (from AugmentedSocialScientist) (0.1.99)\n",
      "Requirement already satisfied: joblib>=1.1.1 in c:\\users\\leopo\\anaconda3\\envs\\ccne\\lib\\site-packages (from scikit-learn->AugmentedSocialScientist) (1.2.0)\n",
      "Requirement already satisfied: threadpoolctl>=2.0.0 in c:\\users\\leopo\\anaconda3\\envs\\ccne\\lib\\site-packages (from scikit-learn->AugmentedSocialScientist) (2.2.0)\n",
      "Requirement already satisfied: filelock in c:\\users\\leopo\\anaconda3\\envs\\ccne\\lib\\site-packages (from torch->AugmentedSocialScientist) (3.13.1)\n",
      "Requirement already satisfied: typing-extensions in c:\\users\\leopo\\anaconda3\\envs\\ccne\\lib\\site-packages (from torch->AugmentedSocialScientist) (4.9.0)\n",
      "Requirement already satisfied: sympy in c:\\users\\leopo\\anaconda3\\envs\\ccne\\lib\\site-packages (from torch->AugmentedSocialScientist) (1.12)\n",
      "Requirement already satisfied: networkx in c:\\users\\leopo\\anaconda3\\envs\\ccne\\lib\\site-packages (from torch->AugmentedSocialScientist) (3.1)\n",
      "Requirement already satisfied: jinja2 in c:\\users\\leopo\\anaconda3\\envs\\ccne\\lib\\site-packages (from torch->AugmentedSocialScientist) (3.1.2)\n",
      "Requirement already satisfied: fsspec in c:\\users\\leopo\\anaconda3\\envs\\ccne\\lib\\site-packages (from torch->AugmentedSocialScientist) (2023.10.0)\n",
      "Requirement already satisfied: colorama in c:\\users\\leopo\\anaconda3\\envs\\ccne\\lib\\site-packages (from tqdm->AugmentedSocialScientist) (0.4.6)\n",
      "Requirement already satisfied: huggingface-hub<1.0,>=0.19.3 in c:\\users\\leopo\\anaconda3\\envs\\ccne\\lib\\site-packages (from transformers->AugmentedSocialScientist) (0.20.2)\n",
      "Requirement already satisfied: packaging>=20.0 in c:\\users\\leopo\\anaconda3\\envs\\ccne\\lib\\site-packages (from transformers->AugmentedSocialScientist) (23.1)\n",
      "Requirement already satisfied: pyyaml>=5.1 in c:\\users\\leopo\\anaconda3\\envs\\ccne\\lib\\site-packages (from transformers->AugmentedSocialScientist) (6.0.1)\n",
      "Requirement already satisfied: regex!=2019.12.17 in c:\\users\\leopo\\anaconda3\\envs\\ccne\\lib\\site-packages (from transformers->AugmentedSocialScientist) (2023.10.3)\n",
      "Requirement already satisfied: requests in c:\\users\\leopo\\anaconda3\\envs\\ccne\\lib\\site-packages (from transformers->AugmentedSocialScientist) (2.31.0)\n",
      "Requirement already satisfied: tokenizers<0.19,>=0.14 in c:\\users\\leopo\\anaconda3\\envs\\ccne\\lib\\site-packages (from transformers->AugmentedSocialScientist) (0.15.2)\n",
      "Requirement already satisfied: safetensors>=0.4.1 in c:\\users\\leopo\\anaconda3\\envs\\ccne\\lib\\site-packages (from transformers->AugmentedSocialScientist) (0.4.2)\n",
      "Requirement already satisfied: MarkupSafe>=2.0 in c:\\users\\leopo\\anaconda3\\envs\\ccne\\lib\\site-packages (from jinja2->torch->AugmentedSocialScientist) (2.1.3)\n",
      "Requirement already satisfied: charset-normalizer<4,>=2 in c:\\users\\leopo\\anaconda3\\envs\\ccne\\lib\\site-packages (from requests->transformers->AugmentedSocialScientist) (2.0.4)\n",
      "Requirement already satisfied: idna<4,>=2.5 in c:\\users\\leopo\\anaconda3\\envs\\ccne\\lib\\site-packages (from requests->transformers->AugmentedSocialScientist) (3.4)\n",
      "Requirement already satisfied: urllib3<3,>=1.21.1 in c:\\users\\leopo\\anaconda3\\envs\\ccne\\lib\\site-packages (from requests->transformers->AugmentedSocialScientist) (2.1.0)\n",
      "Requirement already satisfied: certifi>=2017.4.17 in c:\\users\\leopo\\anaconda3\\envs\\ccne\\lib\\site-packages (from requests->transformers->AugmentedSocialScientist) (2024.2.2)\n",
      "Requirement already satisfied: mpmath>=0.19 in c:\\users\\leopo\\anaconda3\\envs\\ccne\\lib\\site-packages (from sympy->torch->AugmentedSocialScientist) (1.3.0)\n"
     ]
    }
   ],
   "source": [
    "!pip install AugmentedSocialScientist"
   ]
  },
  {
   "cell_type": "code",
   "execution_count": 2,
   "metadata": {},
   "outputs": [
    {
     "ename": "AssertionError",
     "evalue": "Torch not compiled with CUDA enabled",
     "output_type": "error",
     "traceback": [
      "\u001b[1;31m---------------------------------------------------------------------------\u001b[0m",
      "\u001b[1;31mAssertionError\u001b[0m                            Traceback (most recent call last)",
      "Cell \u001b[1;32mIn[2], line 3\u001b[0m\n\u001b[0;32m      1\u001b[0m \u001b[38;5;28;01mfrom\u001b[39;00m \u001b[38;5;21;01mtorch\u001b[39;00m \u001b[38;5;28;01mimport\u001b[39;00m cuda\n\u001b[1;32m----> 3\u001b[0m \u001b[43mcuda\u001b[49m\u001b[38;5;241;43m.\u001b[39;49m\u001b[43mget_device_name\u001b[49m\u001b[43m(\u001b[49m\u001b[38;5;241;43m0\u001b[39;49m\u001b[43m)\u001b[49m\n",
      "File \u001b[1;32mc:\\Users\\leopo\\anaconda3\\envs\\ccne\\lib\\site-packages\\torch\\cuda\\__init__.py:419\u001b[0m, in \u001b[0;36mget_device_name\u001b[1;34m(device)\u001b[0m\n\u001b[0;32m    407\u001b[0m \u001b[38;5;28;01mdef\u001b[39;00m \u001b[38;5;21mget_device_name\u001b[39m(device: Optional[_device_t] \u001b[38;5;241m=\u001b[39m \u001b[38;5;28;01mNone\u001b[39;00m) \u001b[38;5;241m-\u001b[39m\u001b[38;5;241m>\u001b[39m \u001b[38;5;28mstr\u001b[39m:\n\u001b[0;32m    408\u001b[0m \u001b[38;5;250m    \u001b[39m\u001b[38;5;124mr\u001b[39m\u001b[38;5;124;03m\"\"\"Gets the name of a device.\u001b[39;00m\n\u001b[0;32m    409\u001b[0m \n\u001b[0;32m    410\u001b[0m \u001b[38;5;124;03m    Args:\u001b[39;00m\n\u001b[1;32m   (...)\u001b[0m\n\u001b[0;32m    417\u001b[0m \u001b[38;5;124;03m        str: the name of the device\u001b[39;00m\n\u001b[0;32m    418\u001b[0m \u001b[38;5;124;03m    \"\"\"\u001b[39;00m\n\u001b[1;32m--> 419\u001b[0m     \u001b[38;5;28;01mreturn\u001b[39;00m \u001b[43mget_device_properties\u001b[49m\u001b[43m(\u001b[49m\u001b[43mdevice\u001b[49m\u001b[43m)\u001b[49m\u001b[38;5;241m.\u001b[39mname\n",
      "File \u001b[1;32mc:\\Users\\leopo\\anaconda3\\envs\\ccne\\lib\\site-packages\\torch\\cuda\\__init__.py:449\u001b[0m, in \u001b[0;36mget_device_properties\u001b[1;34m(device)\u001b[0m\n\u001b[0;32m    439\u001b[0m \u001b[38;5;28;01mdef\u001b[39;00m \u001b[38;5;21mget_device_properties\u001b[39m(device: _device_t) \u001b[38;5;241m-\u001b[39m\u001b[38;5;241m>\u001b[39m _CudaDeviceProperties:\n\u001b[0;32m    440\u001b[0m \u001b[38;5;250m    \u001b[39m\u001b[38;5;124mr\u001b[39m\u001b[38;5;124;03m\"\"\"Gets the properties of a device.\u001b[39;00m\n\u001b[0;32m    441\u001b[0m \n\u001b[0;32m    442\u001b[0m \u001b[38;5;124;03m    Args:\u001b[39;00m\n\u001b[1;32m   (...)\u001b[0m\n\u001b[0;32m    447\u001b[0m \u001b[38;5;124;03m        _CudaDeviceProperties: the properties of the device\u001b[39;00m\n\u001b[0;32m    448\u001b[0m \u001b[38;5;124;03m    \"\"\"\u001b[39;00m\n\u001b[1;32m--> 449\u001b[0m     \u001b[43m_lazy_init\u001b[49m\u001b[43m(\u001b[49m\u001b[43m)\u001b[49m  \u001b[38;5;66;03m# will define _get_device_properties\u001b[39;00m\n\u001b[0;32m    450\u001b[0m     device \u001b[38;5;241m=\u001b[39m _get_device_index(device, optional\u001b[38;5;241m=\u001b[39m\u001b[38;5;28;01mTrue\u001b[39;00m)\n\u001b[0;32m    451\u001b[0m     \u001b[38;5;28;01mif\u001b[39;00m device \u001b[38;5;241m<\u001b[39m \u001b[38;5;241m0\u001b[39m \u001b[38;5;129;01mor\u001b[39;00m device \u001b[38;5;241m>\u001b[39m\u001b[38;5;241m=\u001b[39m device_count():\n",
      "File \u001b[1;32mc:\\Users\\leopo\\anaconda3\\envs\\ccne\\lib\\site-packages\\torch\\cuda\\__init__.py:289\u001b[0m, in \u001b[0;36m_lazy_init\u001b[1;34m()\u001b[0m\n\u001b[0;32m    284\u001b[0m     \u001b[38;5;28;01mraise\u001b[39;00m \u001b[38;5;167;01mRuntimeError\u001b[39;00m(\n\u001b[0;32m    285\u001b[0m         \u001b[38;5;124m\"\u001b[39m\u001b[38;5;124mCannot re-initialize CUDA in forked subprocess. To use CUDA with \u001b[39m\u001b[38;5;124m\"\u001b[39m\n\u001b[0;32m    286\u001b[0m         \u001b[38;5;124m\"\u001b[39m\u001b[38;5;124mmultiprocessing, you must use the \u001b[39m\u001b[38;5;124m'\u001b[39m\u001b[38;5;124mspawn\u001b[39m\u001b[38;5;124m'\u001b[39m\u001b[38;5;124m start method\u001b[39m\u001b[38;5;124m\"\u001b[39m\n\u001b[0;32m    287\u001b[0m     )\n\u001b[0;32m    288\u001b[0m \u001b[38;5;28;01mif\u001b[39;00m \u001b[38;5;129;01mnot\u001b[39;00m \u001b[38;5;28mhasattr\u001b[39m(torch\u001b[38;5;241m.\u001b[39m_C, \u001b[38;5;124m\"\u001b[39m\u001b[38;5;124m_cuda_getDeviceCount\u001b[39m\u001b[38;5;124m\"\u001b[39m):\n\u001b[1;32m--> 289\u001b[0m     \u001b[38;5;28;01mraise\u001b[39;00m \u001b[38;5;167;01mAssertionError\u001b[39;00m(\u001b[38;5;124m\"\u001b[39m\u001b[38;5;124mTorch not compiled with CUDA enabled\u001b[39m\u001b[38;5;124m\"\u001b[39m)\n\u001b[0;32m    290\u001b[0m \u001b[38;5;28;01mif\u001b[39;00m _cudart \u001b[38;5;129;01mis\u001b[39;00m \u001b[38;5;28;01mNone\u001b[39;00m:\n\u001b[0;32m    291\u001b[0m     \u001b[38;5;28;01mraise\u001b[39;00m \u001b[38;5;167;01mAssertionError\u001b[39;00m(\n\u001b[0;32m    292\u001b[0m         \u001b[38;5;124m\"\u001b[39m\u001b[38;5;124mlibcudart functions unavailable. It looks like you have a broken build?\u001b[39m\u001b[38;5;124m\"\u001b[39m\n\u001b[0;32m    293\u001b[0m     )\n",
      "\u001b[1;31mAssertionError\u001b[0m: Torch not compiled with CUDA enabled"
     ]
    }
   ],
   "source": [
    "from torch import cuda\n",
    "\n",
    "cuda.get_device_name(0)"
   ]
  },
  {
   "cell_type": "code",
   "execution_count": 3,
   "metadata": {},
   "outputs": [
    {
     "data": {
      "text/html": [
       "<div>\n",
       "<style scoped>\n",
       "    .dataframe tbody tr th:only-of-type {\n",
       "        vertical-align: middle;\n",
       "    }\n",
       "\n",
       "    .dataframe tbody tr th {\n",
       "        vertical-align: top;\n",
       "    }\n",
       "\n",
       "    .dataframe thead th {\n",
       "        text-align: right;\n",
       "    }\n",
       "</style>\n",
       "<table border=\"1\" class=\"dataframe\">\n",
       "  <thead>\n",
       "    <tr style=\"text-align: right;\">\n",
       "      <th></th>\n",
       "      <th>sentence_id</th>\n",
       "      <th>Personne</th>\n",
       "      <th>sentence_text</th>\n",
       "    </tr>\n",
       "  </thead>\n",
       "  <tbody>\n",
       "    <tr>\n",
       "      <th>0</th>\n",
       "      <td>770722</td>\n",
       "      <td>Matériel biologique</td>\n",
       "      <td>Avec l’accumulation de grandes quantités de do...</td>\n",
       "    </tr>\n",
       "    <tr>\n",
       "      <th>1</th>\n",
       "      <td>930350</td>\n",
       "      <td>Matériel biologique</td>\n",
       "      <td>Le critère du consentement : le consentement p...</td>\n",
       "    </tr>\n",
       "    <tr>\n",
       "      <th>2</th>\n",
       "      <td>1070205</td>\n",
       "      <td>Personne à protéger</td>\n",
       "      <td>Notons, en outre, que si l’on considérait que ...</td>\n",
       "    </tr>\n",
       "    <tr>\n",
       "      <th>3</th>\n",
       "      <td>180058</td>\n",
       "      <td>Agent responsable</td>\n",
       "      <td>Dans cette perspective, on concluera que légit...</td>\n",
       "    </tr>\n",
       "    <tr>\n",
       "      <th>4</th>\n",
       "      <td>1301177</td>\n",
       "      <td>Agent responsable</td>\n",
       "      <td>Qui fautil informer, quand et com ment ? Comme...</td>\n",
       "    </tr>\n",
       "  </tbody>\n",
       "</table>\n",
       "</div>"
      ],
      "text/plain": [
       "   sentence_id             Personne  \\\n",
       "0       770722  Matériel biologique   \n",
       "1       930350  Matériel biologique   \n",
       "2      1070205  Personne à protéger   \n",
       "3       180058    Agent responsable   \n",
       "4      1301177    Agent responsable   \n",
       "\n",
       "                                       sentence_text  \n",
       "0  Avec l’accumulation de grandes quantités de do...  \n",
       "1  Le critère du consentement : le consentement p...  \n",
       "2  Notons, en outre, que si l’on considérait que ...  \n",
       "3  Dans cette perspective, on concluera que légit...  \n",
       "4  Qui fautil informer, quand et com ment ? Comme...  "
      ]
     },
     "execution_count": 3,
     "metadata": {},
     "output_type": "execute_result"
    }
   ],
   "source": [
    "import pandas as pd\n",
    "\n",
    "annotations = pd.read_csv(\"../data/intermediate/big/annotations/2024-03-11_annotation_personne_700.csv\")\n",
    "annotations.head(5)"
   ]
  },
  {
   "cell_type": "code",
   "execution_count": 4,
   "metadata": {},
   "outputs": [],
   "source": [
    "from sklearn.model_selection import train_test_split\n",
    " \n",
    "train_data, test_data = train_test_split(annotations, train_size=0.67)"
   ]
  },
  {
   "cell_type": "code",
   "execution_count": 7,
   "metadata": {},
   "outputs": [
    {
     "ename": "TypeError",
     "evalue": "unsupported operand type(s) for |: '_UnionGenericAlias' and 'NoneType'",
     "output_type": "error",
     "traceback": [
      "\u001b[1;31m---------------------------------------------------------------------------\u001b[0m",
      "\u001b[1;31mTypeError\u001b[0m                                 Traceback (most recent call last)",
      "Cell \u001b[1;32mIn[7], line 1\u001b[0m\n\u001b[1;32m----> 1\u001b[0m \u001b[38;5;28;01mfrom\u001b[39;00m \u001b[38;5;21;01mAugmentedSocialScientist\u001b[39;00m\u001b[38;5;21;01m.\u001b[39;00m\u001b[38;5;21;01mmodels\u001b[39;00m \u001b[38;5;28;01mimport\u001b[39;00m Camembert\n\u001b[0;32m      3\u001b[0m bert \u001b[38;5;241m=\u001b[39m Bert()\n",
      "File \u001b[1;32mc:\\Users\\leopo\\anaconda3\\envs\\ccne\\lib\\site-packages\\AugmentedSocialScientist\\__init__.py:1\u001b[0m\n\u001b[1;32m----> 1\u001b[0m \u001b[38;5;28;01mfrom\u001b[39;00m \u001b[38;5;21;01m.\u001b[39;00m\u001b[38;5;21;01mbert_abc\u001b[39;00m \u001b[38;5;28;01mimport\u001b[39;00m BertABC\n\u001b[0;32m      2\u001b[0m \u001b[38;5;28;01mfrom\u001b[39;00m \u001b[38;5;21;01m.\u001b[39;00m\u001b[38;5;21;01mbert_base\u001b[39;00m \u001b[38;5;28;01mimport\u001b[39;00m BertBase\n\u001b[0;32m      3\u001b[0m \u001b[38;5;28;01mfrom\u001b[39;00m \u001b[38;5;21;01m.\u001b[39;00m\u001b[38;5;21;01mmodels\u001b[39;00m \u001b[38;5;28;01mimport\u001b[39;00m Bert\n",
      "File \u001b[1;32mc:\\Users\\leopo\\anaconda3\\envs\\ccne\\lib\\site-packages\\AugmentedSocialScientist\\bert_abc.py:8\u001b[0m\n\u001b[0;32m      4\u001b[0m \u001b[38;5;28;01mfrom\u001b[39;00m \u001b[38;5;21;01mtorch\u001b[39;00m\u001b[38;5;21;01m.\u001b[39;00m\u001b[38;5;21;01mtypes\u001b[39;00m \u001b[38;5;28;01mimport\u001b[39;00m Device\n\u001b[0;32m      5\u001b[0m \u001b[38;5;28;01mfrom\u001b[39;00m \u001b[38;5;21;01mtorch\u001b[39;00m\u001b[38;5;21;01m.\u001b[39;00m\u001b[38;5;21;01mutils\u001b[39;00m\u001b[38;5;21;01m.\u001b[39;00m\u001b[38;5;21;01mdata\u001b[39;00m \u001b[38;5;28;01mimport\u001b[39;00m DataLoader\n\u001b[1;32m----> 8\u001b[0m \u001b[38;5;28;01mclass\u001b[39;00m \u001b[38;5;21;01mBertABC\u001b[39;00m(ABC):\n\u001b[0;32m      9\u001b[0m \u001b[38;5;250m    \u001b[39m\u001b[38;5;124;03m\"\"\"\u001b[39;00m\n\u001b[0;32m     10\u001b[0m \u001b[38;5;124;03m    Abstract class defining that Bert implementations can inherit from.\u001b[39;00m\n\u001b[0;32m     11\u001b[0m \u001b[38;5;124;03m    \"\"\"\u001b[39;00m\n\u001b[0;32m     13\u001b[0m     \u001b[38;5;129m@abstractmethod\u001b[39m\n\u001b[0;32m     14\u001b[0m     \u001b[38;5;28;01mdef\u001b[39;00m \u001b[38;5;21m__init__\u001b[39m(\n\u001b[0;32m     15\u001b[0m             \u001b[38;5;28mself\u001b[39m,\n\u001b[1;32m   (...)\u001b[0m\n\u001b[0;32m     19\u001b[0m             device: Device \u001b[38;5;241m|\u001b[39m \u001b[38;5;28;01mNone\u001b[39;00m \u001b[38;5;241m=\u001b[39m \u001b[38;5;28;01mNone\u001b[39;00m,\n\u001b[0;32m     20\u001b[0m     ):\n",
      "File \u001b[1;32mc:\\Users\\leopo\\anaconda3\\envs\\ccne\\lib\\site-packages\\AugmentedSocialScientist\\bert_abc.py:19\u001b[0m, in \u001b[0;36mBertABC\u001b[1;34m()\u001b[0m\n\u001b[0;32m      8\u001b[0m \u001b[38;5;28;01mclass\u001b[39;00m \u001b[38;5;21;01mBertABC\u001b[39;00m(ABC):\n\u001b[0;32m      9\u001b[0m \u001b[38;5;250m    \u001b[39m\u001b[38;5;124;03m\"\"\"\u001b[39;00m\n\u001b[0;32m     10\u001b[0m \u001b[38;5;124;03m    Abstract class defining that Bert implementations can inherit from.\u001b[39;00m\n\u001b[0;32m     11\u001b[0m \u001b[38;5;124;03m    \"\"\"\u001b[39;00m\n\u001b[0;32m     13\u001b[0m     \u001b[38;5;129m@abstractmethod\u001b[39m\n\u001b[0;32m     14\u001b[0m     \u001b[38;5;28;01mdef\u001b[39;00m \u001b[38;5;21m__init__\u001b[39m(\n\u001b[0;32m     15\u001b[0m             \u001b[38;5;28mself\u001b[39m,\n\u001b[0;32m     16\u001b[0m             model_name: \u001b[38;5;28mstr\u001b[39m,\n\u001b[0;32m     17\u001b[0m             tokenizer: Any,\n\u001b[0;32m     18\u001b[0m             model_sequence_classifier: Any,\n\u001b[1;32m---> 19\u001b[0m             device: \u001b[43mDevice\u001b[49m\u001b[43m \u001b[49m\u001b[38;5;241;43m|\u001b[39;49m\u001b[43m \u001b[49m\u001b[38;5;28;43;01mNone\u001b[39;49;00m \u001b[38;5;241m=\u001b[39m \u001b[38;5;28;01mNone\u001b[39;00m,\n\u001b[0;32m     20\u001b[0m     ):\n\u001b[0;32m     21\u001b[0m         \u001b[38;5;28;01mpass\u001b[39;00m\n\u001b[0;32m     23\u001b[0m     \u001b[38;5;129m@abstractmethod\u001b[39m\n\u001b[0;32m     24\u001b[0m     \u001b[38;5;28;01mdef\u001b[39;00m \u001b[38;5;21mencode\u001b[39m(\n\u001b[0;32m     25\u001b[0m             \u001b[38;5;28mself\u001b[39m,\n\u001b[1;32m   (...)\u001b[0m\n\u001b[0;32m     30\u001b[0m             add_special_tokens: \u001b[38;5;28mbool\u001b[39m \u001b[38;5;241m=\u001b[39m \u001b[38;5;28;01mTrue\u001b[39;00m\n\u001b[0;32m     31\u001b[0m     ):\n",
      "\u001b[1;31mTypeError\u001b[0m: unsupported operand type(s) for |: '_UnionGenericAlias' and 'NoneType'"
     ]
    }
   ],
   "source": [
    "from AugmentedSocialScientist.models import Camembert\n",
    "\n",
    "bert = Bert()"
   ]
  }
 ],
 "metadata": {
  "kernelspec": {
   "display_name": "ccne",
   "language": "python",
   "name": "python3"
  },
  "language_info": {
   "codemirror_mode": {
    "name": "ipython",
    "version": 3
   },
   "file_extension": ".py",
   "mimetype": "text/x-python",
   "name": "python",
   "nbconvert_exporter": "python",
   "pygments_lexer": "ipython3",
   "version": "3.9.18"
  }
 },
 "nbformat": 4,
 "nbformat_minor": 2
}
