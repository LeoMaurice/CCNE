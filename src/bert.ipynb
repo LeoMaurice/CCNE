{
 "cells": [
  {
   "cell_type": "markdown",
   "metadata": {},
   "source": [
    "# Bert classification"
   ]
  },
  {
   "cell_type": "code",
   "execution_count": 1,
   "metadata": {},
   "outputs": [
    {
     "name": "stdout",
     "output_type": "stream",
     "text": [
      "Requirement already satisfied: AugmentedSocialScientist in /opt/mamba/lib/python3.11/site-packages (2.2.1)\n",
      "Requirement already satisfied: pandas in /opt/mamba/lib/python3.11/site-packages (2.2.1)\n",
      "Requirement already satisfied: numpy in /opt/mamba/lib/python3.11/site-packages (1.26.4)\n",
      "Requirement already satisfied: scikit-learn in /opt/mamba/lib/python3.11/site-packages (from AugmentedSocialScientist) (1.4.1.post1)\n",
      "Requirement already satisfied: tqdm in /opt/mamba/lib/python3.11/site-packages (from AugmentedSocialScientist) (4.66.1)\n",
      "Requirement already satisfied: scipy in /opt/mamba/lib/python3.11/site-packages (from AugmentedSocialScientist) (1.12.0)\n",
      "Requirement already satisfied: torch in /opt/mamba/lib/python3.11/site-packages (from AugmentedSocialScientist) (2.2.1)\n",
      "Requirement already satisfied: transformers in /opt/mamba/lib/python3.11/site-packages (from AugmentedSocialScientist) (4.38.2)\n",
      "Requirement already satisfied: sentencepiece in /opt/mamba/lib/python3.11/site-packages (from AugmentedSocialScientist) (0.2.0)\n",
      "Requirement already satisfied: python-dateutil>=2.8.2 in /opt/mamba/lib/python3.11/site-packages (from pandas) (2.9.0)\n",
      "Requirement already satisfied: pytz>=2020.1 in /opt/mamba/lib/python3.11/site-packages (from pandas) (2024.1)\n",
      "Requirement already satisfied: tzdata>=2022.7 in /opt/mamba/lib/python3.11/site-packages (from pandas) (2024.1)\n",
      "Requirement already satisfied: six>=1.5 in /opt/mamba/lib/python3.11/site-packages (from python-dateutil>=2.8.2->pandas) (1.16.0)\n",
      "Requirement already satisfied: joblib>=1.2.0 in /opt/mamba/lib/python3.11/site-packages (from scikit-learn->AugmentedSocialScientist) (1.3.2)\n",
      "Requirement already satisfied: threadpoolctl>=2.0.0 in /opt/mamba/lib/python3.11/site-packages (from scikit-learn->AugmentedSocialScientist) (3.3.0)\n",
      "Requirement already satisfied: filelock in /opt/mamba/lib/python3.11/site-packages (from torch->AugmentedSocialScientist) (3.13.1)\n",
      "Requirement already satisfied: typing-extensions>=4.8.0 in /opt/mamba/lib/python3.11/site-packages (from torch->AugmentedSocialScientist) (4.10.0)\n",
      "Requirement already satisfied: sympy in /opt/mamba/lib/python3.11/site-packages (from torch->AugmentedSocialScientist) (1.12)\n",
      "Requirement already satisfied: networkx in /opt/mamba/lib/python3.11/site-packages (from torch->AugmentedSocialScientist) (3.2.1)\n",
      "Requirement already satisfied: jinja2 in /opt/mamba/lib/python3.11/site-packages (from torch->AugmentedSocialScientist) (3.1.3)\n",
      "Requirement already satisfied: fsspec in /opt/mamba/lib/python3.11/site-packages (from torch->AugmentedSocialScientist) (2024.2.0)\n",
      "Requirement already satisfied: nvidia-cuda-nvrtc-cu12==12.1.105 in /opt/mamba/lib/python3.11/site-packages (from torch->AugmentedSocialScientist) (12.1.105)\n",
      "Requirement already satisfied: nvidia-cuda-runtime-cu12==12.1.105 in /opt/mamba/lib/python3.11/site-packages (from torch->AugmentedSocialScientist) (12.1.105)\n",
      "Requirement already satisfied: nvidia-cuda-cupti-cu12==12.1.105 in /opt/mamba/lib/python3.11/site-packages (from torch->AugmentedSocialScientist) (12.1.105)\n",
      "Requirement already satisfied: nvidia-cudnn-cu12==8.9.2.26 in /opt/mamba/lib/python3.11/site-packages (from torch->AugmentedSocialScientist) (8.9.2.26)\n",
      "Requirement already satisfied: nvidia-cublas-cu12==12.1.3.1 in /opt/mamba/lib/python3.11/site-packages (from torch->AugmentedSocialScientist) (12.1.3.1)\n",
      "Requirement already satisfied: nvidia-cufft-cu12==11.0.2.54 in /opt/mamba/lib/python3.11/site-packages (from torch->AugmentedSocialScientist) (11.0.2.54)\n",
      "Requirement already satisfied: nvidia-curand-cu12==10.3.2.106 in /opt/mamba/lib/python3.11/site-packages (from torch->AugmentedSocialScientist) (10.3.2.106)\n",
      "Requirement already satisfied: nvidia-cusolver-cu12==11.4.5.107 in /opt/mamba/lib/python3.11/site-packages (from torch->AugmentedSocialScientist) (11.4.5.107)\n",
      "Requirement already satisfied: nvidia-cusparse-cu12==12.1.0.106 in /opt/mamba/lib/python3.11/site-packages (from torch->AugmentedSocialScientist) (12.1.0.106)\n",
      "Requirement already satisfied: nvidia-nccl-cu12==2.19.3 in /opt/mamba/lib/python3.11/site-packages (from torch->AugmentedSocialScientist) (2.19.3)\n",
      "Requirement already satisfied: nvidia-nvtx-cu12==12.1.105 in /opt/mamba/lib/python3.11/site-packages (from torch->AugmentedSocialScientist) (12.1.105)\n",
      "Requirement already satisfied: triton==2.2.0 in /opt/mamba/lib/python3.11/site-packages (from torch->AugmentedSocialScientist) (2.2.0)\n",
      "Requirement already satisfied: nvidia-nvjitlink-cu12 in /opt/mamba/lib/python3.11/site-packages (from nvidia-cusolver-cu12==11.4.5.107->torch->AugmentedSocialScientist) (12.4.99)\n",
      "Requirement already satisfied: huggingface-hub<1.0,>=0.19.3 in /opt/mamba/lib/python3.11/site-packages (from transformers->AugmentedSocialScientist) (0.21.4)\n",
      "Requirement already satisfied: packaging>=20.0 in /opt/mamba/lib/python3.11/site-packages (from transformers->AugmentedSocialScientist) (23.2)\n",
      "Requirement already satisfied: pyyaml>=5.1 in /opt/mamba/lib/python3.11/site-packages (from transformers->AugmentedSocialScientist) (6.0.1)\n",
      "Requirement already satisfied: regex!=2019.12.17 in /opt/mamba/lib/python3.11/site-packages (from transformers->AugmentedSocialScientist) (2023.12.25)\n",
      "Requirement already satisfied: requests in /opt/mamba/lib/python3.11/site-packages (from transformers->AugmentedSocialScientist) (2.31.0)\n",
      "Requirement already satisfied: tokenizers<0.19,>=0.14 in /opt/mamba/lib/python3.11/site-packages (from transformers->AugmentedSocialScientist) (0.15.2)\n",
      "Requirement already satisfied: safetensors>=0.4.1 in /opt/mamba/lib/python3.11/site-packages (from transformers->AugmentedSocialScientist) (0.4.2)\n",
      "Requirement already satisfied: MarkupSafe>=2.0 in /opt/mamba/lib/python3.11/site-packages (from jinja2->torch->AugmentedSocialScientist) (2.1.5)\n",
      "Requirement already satisfied: charset-normalizer<4,>=2 in /opt/mamba/lib/python3.11/site-packages (from requests->transformers->AugmentedSocialScientist) (3.3.2)\n",
      "Requirement already satisfied: idna<4,>=2.5 in /opt/mamba/lib/python3.11/site-packages (from requests->transformers->AugmentedSocialScientist) (3.6)\n",
      "Requirement already satisfied: urllib3<3,>=1.21.1 in /opt/mamba/lib/python3.11/site-packages (from requests->transformers->AugmentedSocialScientist) (1.26.18)\n",
      "Requirement already satisfied: certifi>=2017.4.17 in /opt/mamba/lib/python3.11/site-packages (from requests->transformers->AugmentedSocialScientist) (2024.2.2)\n",
      "Requirement already satisfied: mpmath>=0.19 in /opt/mamba/lib/python3.11/site-packages (from sympy->torch->AugmentedSocialScientist) (1.3.0)\n"
     ]
    }
   ],
   "source": [
    "!pip install AugmentedSocialScientist pandas numpy"
   ]
  },
  {
   "cell_type": "code",
   "execution_count": 2,
   "metadata": {},
   "outputs": [
    {
     "data": {
      "text/plain": [
       "'Tesla T4'"
      ]
     },
     "execution_count": 2,
     "metadata": {},
     "output_type": "execute_result"
    }
   ],
   "source": [
    "import os\n",
    "os.environ[\"PYTORCH_CUDA_ALLOC_CONF\"] = \"expandable_segments:True\"\n",
    "\n",
    "from torch import cuda\n",
    "\n",
    "cuda.get_device_name(0)"
   ]
  },
  {
   "cell_type": "code",
   "execution_count": 1,
   "metadata": {},
   "outputs": [
    {
     "data": {
      "text/html": [
       "<div>\n",
       "<style scoped>\n",
       "    .dataframe tbody tr th:only-of-type {\n",
       "        vertical-align: middle;\n",
       "    }\n",
       "\n",
       "    .dataframe tbody tr th {\n",
       "        vertical-align: top;\n",
       "    }\n",
       "\n",
       "    .dataframe thead th {\n",
       "        text-align: right;\n",
       "    }\n",
       "</style>\n",
       "<table border=\"1\" class=\"dataframe\">\n",
       "  <thead>\n",
       "    <tr style=\"text-align: right;\">\n",
       "      <th></th>\n",
       "      <th>sentence_id</th>\n",
       "      <th>Personne</th>\n",
       "      <th>sentence_text</th>\n",
       "      <th>label</th>\n",
       "    </tr>\n",
       "  </thead>\n",
       "  <tbody>\n",
       "    <tr>\n",
       "      <th>630</th>\n",
       "      <td>80420</td>\n",
       "      <td>Matériel biologique</td>\n",
       "      <td>La phase critique de l'implantation se situe e...</td>\n",
       "      <td>Anything but personne</td>\n",
       "    </tr>\n",
       "    <tr>\n",
       "      <th>509</th>\n",
       "      <td>1280800</td>\n",
       "      <td>Agent responsable</td>\n",
       "      <td>Au terme de cette  réflexion sur l’âgisme, ten...</td>\n",
       "      <td>Personne</td>\n",
       "    </tr>\n",
       "    <tr>\n",
       "      <th>694</th>\n",
       "      <td>1060067</td>\n",
       "      <td>Individu</td>\n",
       "      <td>Spécificité épidémiologique de la pandémie gri...</td>\n",
       "      <td>Anything but personne</td>\n",
       "    </tr>\n",
       "    <tr>\n",
       "      <th>408</th>\n",
       "      <td>980024</td>\n",
       "      <td>Matériel biologique</td>\n",
       "      <td>A ces techniques classiques, s'est ajoutée une...</td>\n",
       "      <td>Anything but personne</td>\n",
       "    </tr>\n",
       "    <tr>\n",
       "      <th>519</th>\n",
       "      <td>1280489</td>\n",
       "      <td>Personne relationnelle</td>\n",
       "      <td>Un enjeu essentiel est \\nde faire en sorte que...</td>\n",
       "      <td>Personne</td>\n",
       "    </tr>\n",
       "  </tbody>\n",
       "</table>\n",
       "</div>"
      ],
      "text/plain": [
       "     sentence_id                Personne  \\\n",
       "630        80420     Matériel biologique   \n",
       "509      1280800       Agent responsable   \n",
       "694      1060067                Individu   \n",
       "408       980024     Matériel biologique   \n",
       "519      1280489  Personne relationnelle   \n",
       "\n",
       "                                         sentence_text                  label  \n",
       "630  La phase critique de l'implantation se situe e...  Anything but personne  \n",
       "509  Au terme de cette  réflexion sur l’âgisme, ten...               Personne  \n",
       "694  Spécificité épidémiologique de la pandémie gri...  Anything but personne  \n",
       "408  A ces techniques classiques, s'est ajoutée une...  Anything but personne  \n",
       "519  Un enjeu essentiel est \\nde faire en sorte que...               Personne  "
      ]
     },
     "execution_count": 1,
     "metadata": {},
     "output_type": "execute_result"
    }
   ],
   "source": [
    "import pandas as pd\n",
    "\n",
    "annotations_file = pd.read_csv(\"../data/intermediate/current_annotation_file.csv\")\n",
    "label_categories = {\n",
    "    \"Poubelle\" : \"Anything but personne\",\n",
    "    \"Humain comme empathie\" : \"Anything but personne\",\n",
    "    \"Genre/espèce humaine\": \"Anything but personne\",\n",
    "    \"Matériel biologique\": \"Anything but personne\",\n",
    "    \"Individu\": \"Anything but personne\",\n",
    "    \"Agent responsable\":\"Personne\",\n",
    "    \"Personne relationnelle\": \"Personne\",\n",
    "    \"Personne à protéger\":\"Personne\"\n",
    "\n",
    "}\n",
    "annotations_file['label'] = annotations_file['Personne'].map(label_categories)\n",
    "annotations_file.sample(5)"
   ]
  },
  {
   "cell_type": "code",
   "execution_count": 2,
   "metadata": {},
   "outputs": [
    {
     "data": {
      "text/html": [
       "<div>\n",
       "<style scoped>\n",
       "    .dataframe tbody tr th:only-of-type {\n",
       "        vertical-align: middle;\n",
       "    }\n",
       "\n",
       "    .dataframe tbody tr th {\n",
       "        vertical-align: top;\n",
       "    }\n",
       "\n",
       "    .dataframe thead th {\n",
       "        text-align: right;\n",
       "    }\n",
       "</style>\n",
       "<table border=\"1\" class=\"dataframe\">\n",
       "  <thead>\n",
       "    <tr style=\"text-align: right;\">\n",
       "      <th></th>\n",
       "      <th>sentence_id</th>\n",
       "      <th>Personne</th>\n",
       "      <th>sentence_text</th>\n",
       "      <th>label</th>\n",
       "    </tr>\n",
       "  </thead>\n",
       "  <tbody>\n",
       "    <tr>\n",
       "      <th>293</th>\n",
       "      <td>540522</td>\n",
       "      <td>Genre/espèce humaine</td>\n",
       "      <td>Clonage reproductif : une inadmissible instrum...</td>\n",
       "      <td>Anything but personne</td>\n",
       "    </tr>\n",
       "    <tr>\n",
       "      <th>445</th>\n",
       "      <td>790389</td>\n",
       "      <td>Personne à protéger</td>\n",
       "      <td>D’un côté, l’absence de consentement a pu limi...</td>\n",
       "      <td>Personne</td>\n",
       "    </tr>\n",
       "    <tr>\n",
       "      <th>656</th>\n",
       "      <td>570528</td>\n",
       "      <td>Individu</td>\n",
       "      <td>A la\\ncollectivité incombe (i) l'identificatio...</td>\n",
       "      <td>Anything but personne</td>\n",
       "    </tr>\n",
       "    <tr>\n",
       "      <th>328</th>\n",
       "      <td>1020347</td>\n",
       "      <td>Personne à protéger</td>\n",
       "      <td>6) Il est illusoire de favoriser l’insertion  ...</td>\n",
       "      <td>Personne</td>\n",
       "    </tr>\n",
       "    <tr>\n",
       "      <th>359</th>\n",
       "      <td>490124</td>\n",
       "      <td>Personne à protéger</td>\n",
       "      <td>Quelles que soient les capacités affectives du...</td>\n",
       "      <td>Personne</td>\n",
       "    </tr>\n",
       "  </tbody>\n",
       "</table>\n",
       "</div>"
      ],
      "text/plain": [
       "     sentence_id              Personne  \\\n",
       "293       540522  Genre/espèce humaine   \n",
       "445       790389   Personne à protéger   \n",
       "656       570528              Individu   \n",
       "328      1020347   Personne à protéger   \n",
       "359       490124   Personne à protéger   \n",
       "\n",
       "                                         sentence_text                  label  \n",
       "293  Clonage reproductif : une inadmissible instrum...  Anything but personne  \n",
       "445  D’un côté, l’absence de consentement a pu limi...               Personne  \n",
       "656  A la\\ncollectivité incombe (i) l'identificatio...  Anything but personne  \n",
       "328  6) Il est illusoire de favoriser l’insertion  ...               Personne  \n",
       "359  Quelles que soient les capacités affectives du...               Personne  "
      ]
     },
     "execution_count": 2,
     "metadata": {},
     "output_type": "execute_result"
    }
   ],
   "source": [
    "annotations = annotations_file.dropna()\n",
    "annotations = annotations[~annotations[\"Personne\"].isin([\"Humain comme empathie\", \"Poubelle\"])]\n",
    "annotations.sample(5)"
   ]
  },
  {
   "cell_type": "code",
   "execution_count": 3,
   "metadata": {},
   "outputs": [
    {
     "data": {
      "text/plain": [
       "Personne\n",
       "Personne à protéger       143\n",
       "Matériel biologique       127\n",
       "Individu                  118\n",
       "Agent responsable         104\n",
       "Personne relationnelle     97\n",
       "Genre/espèce humaine       90\n",
       "Name: count, dtype: int64"
      ]
     },
     "execution_count": 3,
     "metadata": {},
     "output_type": "execute_result"
    }
   ],
   "source": [
    "annotations[\"Personne\"].value_counts()"
   ]
  },
  {
   "cell_type": "code",
   "execution_count": 4,
   "metadata": {},
   "outputs": [
    {
     "data": {
      "text/plain": [
       "label\n",
       "Personne                 344\n",
       "Anything but personne    335\n",
       "Name: count, dtype: int64"
      ]
     },
     "execution_count": 4,
     "metadata": {},
     "output_type": "execute_result"
    }
   ],
   "source": [
    "annotations[\"label\"].value_counts()"
   ]
  },
  {
   "cell_type": "code",
   "execution_count": 6,
   "metadata": {},
   "outputs": [],
   "source": [
    "from sklearn.model_selection import train_test_split\n",
    " \n",
    "train_data, test_data = train_test_split(annotations, train_size=0.67)"
   ]
  },
  {
   "cell_type": "code",
   "execution_count": 7,
   "metadata": {},
   "outputs": [
    {
     "name": "stderr",
     "output_type": "stream",
     "text": [
      "Special tokens have been added in the vocabulary, make sure the associated word embeddings are fine-tuned or trained.\n"
     ]
    },
    {
     "name": "stdout",
     "output_type": "stream",
     "text": [
      "There are 1 GPU(s) available.\n",
      "We will use GPU 0: Tesla T4\n"
     ]
    }
   ],
   "source": [
    "from AugmentedSocialScientist.models import Camembert\n",
    "\n",
    "bert = Camembert()"
   ]
  },
  {
   "cell_type": "code",
   "execution_count": 8,
   "metadata": {},
   "outputs": [
    {
     "data": {
      "application/vnd.jupyter.widget-view+json": {
       "model_id": "c7a2125e02c34d42b7197327a04b947a",
       "version_major": 2,
       "version_minor": 0
      },
      "text/plain": [
       "  0%|          | 0/466 [00:00<?, ?it/s]"
      ]
     },
     "metadata": {},
     "output_type": "display_data"
    },
    {
     "name": "stderr",
     "output_type": "stream",
     "text": [
      "Token indices sequence length is longer than the specified maximum sequence length for this model (1022 > 512). Running this sequence through the model will result in indexing errors\n"
     ]
    },
    {
     "data": {
      "application/vnd.jupyter.widget-view+json": {
       "model_id": "b3bf7030ea404e568e16b9266b5a9e2e",
       "version_major": 2,
       "version_minor": 0
      },
      "text/plain": [
       "  0%|          | 0/466 [00:00<?, ?it/s]"
      ]
     },
     "metadata": {},
     "output_type": "display_data"
    },
    {
     "name": "stdout",
     "output_type": "stream",
     "text": [
      "label ids: {'Anything but personne': 0, 'Personne': 1}\n"
     ]
    }
   ],
   "source": [
    "batch_size = 16\n",
    "train_loader = bert.encode(train_data.sentence_text.values,\n",
    "train_data.label.values, batch_size=batch_size)"
   ]
  },
  {
   "cell_type": "code",
   "execution_count": 9,
   "metadata": {},
   "outputs": [
    {
     "data": {
      "application/vnd.jupyter.widget-view+json": {
       "model_id": "67bf56ed85124401a9e069d64e4ee9c8",
       "version_major": 2,
       "version_minor": 0
      },
      "text/plain": [
       "  0%|          | 0/231 [00:00<?, ?it/s]"
      ]
     },
     "metadata": {},
     "output_type": "display_data"
    },
    {
     "data": {
      "application/vnd.jupyter.widget-view+json": {
       "model_id": "f7ebe371d38d4da786f3eba644807316",
       "version_major": 2,
       "version_minor": 0
      },
      "text/plain": [
       "  0%|          | 0/231 [00:00<?, ?it/s]"
      ]
     },
     "metadata": {},
     "output_type": "display_data"
    },
    {
     "name": "stdout",
     "output_type": "stream",
     "text": [
      "label ids: {'Anything but personne': 0, 'Personne': 1}\n"
     ]
    }
   ],
   "source": [
    "test_loader = bert.encode(test_data.sentence_text.values,\n",
    "test_data.Personne.values, batch_size=batch_size)"
   ]
  },
  {
   "cell_type": "code",
   "execution_count": 10,
   "metadata": {},
   "outputs": [
    {
     "name": "stderr",
     "output_type": "stream",
     "text": [
      "Some weights of CamembertForSequenceClassification were not initialized from the model checkpoint at camembert-base and are newly initialized: ['classifier.dense.bias', 'classifier.dense.weight', 'classifier.out_proj.bias', 'classifier.out_proj.weight']\n",
      "You should probably TRAIN this model on a down-stream task to be able to use it for predictions and inference.\n",
      "/opt/mamba/lib/python3.11/site-packages/transformers/optimization.py:429: FutureWarning: This implementation of AdamW is deprecated and will be removed in a future version. Use the PyTorch implementation torch.optim.AdamW instead, or set `no_deprecation_warning=True` to disable this warning\n",
      "  warnings.warn(\n"
     ]
    },
    {
     "name": "stdout",
     "output_type": "stream",
     "text": [
      "\n",
      "======== Epoch 1 / 3 ========\n",
      "Training...\n",
      "\n",
      "  Average training loss: 0.68\n",
      "  Training took: 0:00:42\n",
      "\n",
      "Running Validation...\n",
      "\n",
      "  Average test loss: 0.65\n",
      "  Validation took: 0:00:06\n",
      "                       precision    recall  f1-score   support\n",
      "\n",
      "Anything but personne       0.76      0.68      0.71       124\n",
      "             Personne       0.67      0.75      0.70       107\n",
      "\n",
      "             accuracy                           0.71       231\n",
      "            macro avg       0.71      0.71      0.71       231\n",
      "         weighted avg       0.72      0.71      0.71       231\n",
      "\n",
      "\n",
      "======== Epoch 2 / 3 ========\n",
      "Training...\n",
      "\n",
      "  Average training loss: 0.60\n",
      "  Training took: 0:00:42\n",
      "\n",
      "Running Validation...\n",
      "\n",
      "  Average test loss: 0.58\n",
      "  Validation took: 0:00:07\n",
      "                       precision    recall  f1-score   support\n",
      "\n",
      "Anything but personne       0.86      0.63      0.73       124\n",
      "             Personne       0.67      0.88      0.76       107\n",
      "\n",
      "             accuracy                           0.74       231\n",
      "            macro avg       0.76      0.75      0.74       231\n",
      "         weighted avg       0.77      0.74      0.74       231\n",
      "\n",
      "\n",
      "======== Epoch 3 / 3 ========\n",
      "Training...\n",
      "\n",
      "  Average training loss: 0.53\n",
      "  Training took: 0:00:44\n",
      "\n",
      "Running Validation...\n",
      "\n",
      "  Average test loss: 0.55\n",
      "  Validation took: 0:00:07\n",
      "                       precision    recall  f1-score   support\n",
      "\n",
      "Anything but personne       0.88      0.62      0.73       124\n",
      "             Personne       0.67      0.90      0.77       107\n",
      "\n",
      "             accuracy                           0.75       231\n",
      "            macro avg       0.77      0.76      0.75       231\n",
      "         weighted avg       0.78      0.75      0.75       231\n",
      "\n",
      "\n",
      "Training complete!\n"
     ]
    }
   ],
   "source": [
    "scores = bert.run_training(\n",
    "    train_loader,\n",
    "    test_loader,\n",
    "    n_epochs=3,\n",
    "    lr=2e-5,\n",
    "    random_state=42,\n",
    "    save_model_as='clickbait'\n",
    "    )"
   ]
  },
  {
   "cell_type": "code",
   "execution_count": 11,
   "metadata": {},
   "outputs": [
    {
     "data": {
      "application/vnd.jupyter.widget-view+json": {
       "model_id": "7963b0d6e26f4f84a00e4f947a5393f4",
       "version_major": 2,
       "version_minor": 0
      },
      "text/plain": [
       "  0%|          | 0/798 [00:00<?, ?it/s]"
      ]
     },
     "metadata": {},
     "output_type": "display_data"
    },
    {
     "data": {
      "application/vnd.jupyter.widget-view+json": {
       "model_id": "7ef20a2ac00f43678787823e3f951627",
       "version_major": 2,
       "version_minor": 0
      },
      "text/plain": [
       "  0%|          | 0/798 [00:00<?, ?it/s]"
      ]
     },
     "metadata": {},
     "output_type": "display_data"
    },
    {
     "data": {
      "application/vnd.jupyter.widget-view+json": {
       "model_id": "ad9d65a198a043ff8a565d053df837aa",
       "version_major": 2,
       "version_minor": 0
      },
      "text/plain": [
       "  0%|          | 0/50 [00:00<?, ?it/s]"
      ]
     },
     "metadata": {},
     "output_type": "display_data"
    },
    {
     "name": "stdout",
     "output_type": "stream",
     "text": [
      "label ids: {'Anything but personne': 0, 'Personne': 1}\n"
     ]
    }
   ],
   "source": [
    "import numpy as np\n",
    "pred_data = annotations_file[annotations_file.isna().any(axis=1)].drop('Personne', axis=1).dropna()\n",
    "pred_loader = bert.encode(pred_data.sentence_text.values, batch_size=batch_size)\n",
    "pred_proba = bert.predict_with_model(pred_loader, model_path='./models/clickbait')\n",
    "pred_data['pred_label'] = np.argmax(pred_proba, axis=1)\n",
    "pred_data['pred_proba'] = np.max(pred_proba, axis=1)"
   ]
  },
  {
   "cell_type": "code",
   "execution_count": 12,
   "metadata": {},
   "outputs": [
    {
     "data": {
      "text/html": [
       "<div>\n",
       "<style scoped>\n",
       "    .dataframe tbody tr th:only-of-type {\n",
       "        vertical-align: middle;\n",
       "    }\n",
       "\n",
       "    .dataframe tbody tr th {\n",
       "        vertical-align: top;\n",
       "    }\n",
       "\n",
       "    .dataframe thead th {\n",
       "        text-align: right;\n",
       "    }\n",
       "</style>\n",
       "<table border=\"1\" class=\"dataframe\">\n",
       "  <thead>\n",
       "    <tr style=\"text-align: right;\">\n",
       "      <th></th>\n",
       "      <th>sentence_id</th>\n",
       "      <th>sentence_text</th>\n",
       "      <th>pred_label</th>\n",
       "      <th>pred_proba</th>\n",
       "    </tr>\n",
       "  </thead>\n",
       "  <tbody>\n",
       "    <tr>\n",
       "      <th>700</th>\n",
       "      <td>1220587</td>\n",
       "      <td>S’il semble dès lors naïf de penser que le sen...</td>\n",
       "      <td>0</td>\n",
       "      <td>0.502037</td>\n",
       "    </tr>\n",
       "    <tr>\n",
       "      <th>701</th>\n",
       "      <td>30245</td>\n",
       "      <td>Personne ne soutient qu'il soit possible de to...</td>\n",
       "      <td>0</td>\n",
       "      <td>0.608660</td>\n",
       "    </tr>\n",
       "    <tr>\n",
       "      <th>702</th>\n",
       "      <td>880051</td>\n",
       "      <td>Le temps de parole doit être suffisant pour \\n...</td>\n",
       "      <td>1</td>\n",
       "      <td>0.741629</td>\n",
       "    </tr>\n",
       "    <tr>\n",
       "      <th>703</th>\n",
       "      <td>1120305</td>\n",
       "      <td>»\\n24 Avis N°107  du 15 octobre 2009 sur les p...</td>\n",
       "      <td>0</td>\n",
       "      <td>0.738585</td>\n",
       "    </tr>\n",
       "    <tr>\n",
       "      <th>704</th>\n",
       "      <td>600333</td>\n",
       "      <td>Sur la question du champ d'application de la l...</td>\n",
       "      <td>0</td>\n",
       "      <td>0.551886</td>\n",
       "    </tr>\n",
       "    <tr>\n",
       "      <th>...</th>\n",
       "      <td>...</td>\n",
       "      <td>...</td>\n",
       "      <td>...</td>\n",
       "      <td>...</td>\n",
       "    </tr>\n",
       "    <tr>\n",
       "      <th>1495</th>\n",
       "      <td>940495</td>\n",
       "      <td>La garde à vue est une mesure privative de lib...</td>\n",
       "      <td>1</td>\n",
       "      <td>0.689244</td>\n",
       "    </tr>\n",
       "    <tr>\n",
       "      <th>1496</th>\n",
       "      <td>1200490</td>\n",
       "      <td>50\\t\\n  “Il\\t\\n  convient\\t\\n  surtout\\t\\n  de...</td>\n",
       "      <td>0</td>\n",
       "      <td>0.675180</td>\n",
       "    </tr>\n",
       "    <tr>\n",
       "      <th>1497</th>\n",
       "      <td>1400183</td>\n",
       "      <td>Cette mosaïque de situ ations d’inégalité s en...</td>\n",
       "      <td>0</td>\n",
       "      <td>0.507050</td>\n",
       "    </tr>\n",
       "    <tr>\n",
       "      <th>1498</th>\n",
       "      <td>670025</td>\n",
       "      <td>Dans le souci de clarification exposé plus hau...</td>\n",
       "      <td>0</td>\n",
       "      <td>0.730586</td>\n",
       "    </tr>\n",
       "    <tr>\n",
       "      <th>1499</th>\n",
       "      <td>710226</td>\n",
       "      <td>Sa modification actuelle devient : \"n'est pas\\...</td>\n",
       "      <td>1</td>\n",
       "      <td>0.706707</td>\n",
       "    </tr>\n",
       "  </tbody>\n",
       "</table>\n",
       "<p>798 rows × 4 columns</p>\n",
       "</div>"
      ],
      "text/plain": [
       "      sentence_id                                      sentence_text  \\\n",
       "700       1220587  S’il semble dès lors naïf de penser que le sen...   \n",
       "701         30245  Personne ne soutient qu'il soit possible de to...   \n",
       "702        880051  Le temps de parole doit être suffisant pour \\n...   \n",
       "703       1120305  »\\n24 Avis N°107  du 15 octobre 2009 sur les p...   \n",
       "704        600333  Sur la question du champ d'application de la l...   \n",
       "...           ...                                                ...   \n",
       "1495       940495  La garde à vue est une mesure privative de lib...   \n",
       "1496      1200490  50\\t\\n  “Il\\t\\n  convient\\t\\n  surtout\\t\\n  de...   \n",
       "1497      1400183  Cette mosaïque de situ ations d’inégalité s en...   \n",
       "1498       670025  Dans le souci de clarification exposé plus hau...   \n",
       "1499       710226  Sa modification actuelle devient : \"n'est pas\\...   \n",
       "\n",
       "      pred_label  pred_proba  \n",
       "700            0    0.502037  \n",
       "701            0    0.608660  \n",
       "702            1    0.741629  \n",
       "703            0    0.738585  \n",
       "704            0    0.551886  \n",
       "...          ...         ...  \n",
       "1495           1    0.689244  \n",
       "1496           0    0.675180  \n",
       "1497           0    0.507050  \n",
       "1498           0    0.730586  \n",
       "1499           1    0.706707  \n",
       "\n",
       "[798 rows x 4 columns]"
      ]
     },
     "execution_count": 12,
     "metadata": {},
     "output_type": "execute_result"
    }
   ],
   "source": [
    "pred_data"
   ]
  }
 ],
 "metadata": {
  "kernelspec": {
   "display_name": "ccne",
   "language": "python",
   "name": "python3"
  },
  "language_info": {
   "codemirror_mode": {
    "name": "ipython",
    "version": 3
   },
   "file_extension": ".py",
   "mimetype": "text/x-python",
   "name": "python",
   "nbconvert_exporter": "python",
   "pygments_lexer": "ipython3",
   "version": "3.9.18"
  }
 },
 "nbformat": 4,
 "nbformat_minor": 2
}
