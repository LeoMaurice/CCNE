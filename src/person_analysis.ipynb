{
 "cells": [
  {
   "cell_type": "markdown",
   "metadata": {},
   "source": [
    "# Analyse du mot 'personne' dans les avis du CCNE   "
   ]
  },
  {
   "cell_type": "code",
   "execution_count": 1,
   "metadata": {},
   "outputs": [
    {
     "name": "stderr",
     "output_type": "stream",
     "text": [
      "[nltk_data] Downloading package punkt to\n",
      "[nltk_data]     C:\\Users\\leopo\\AppData\\Roaming\\nltk_data...\n",
      "[nltk_data]   Package punkt is already up-to-date!\n",
      "[nltk_data] Downloading package punkt to\n",
      "[nltk_data]     C:\\Users\\leopo\\AppData\\Roaming\\nltk_data...\n",
      "[nltk_data]   Package punkt is already up-to-date!\n"
     ]
    }
   ],
   "source": [
    "%load_ext autoreload\n",
    "%autoreload 2\n",
    "%reload_ext autoreload\n",
    "# The autoreload extension is already loaded. To reload it, use:\n",
    "#%reload_ext autoreload\n",
    "import sys\n",
    "sys.path.append('./helpers')  # Add the src directory to the Python path\n",
    "\n",
    "seed = 1968\n",
    "\n",
    "from database_creation import open_avis, join_metadata, corpus_to_sentences_with_context, filter_sentences_with_words\n",
    "from display import interactive_sentence_display, generate_sentences_pdf"
   ]
  },
  {
   "cell_type": "markdown",
   "metadata": {},
   "source": [
    "## Extraits et création d'un guideline d'annotation"
   ]
  },
  {
   "cell_type": "code",
   "execution_count": 2,
   "metadata": {},
   "outputs": [
    {
     "name": "stdout",
     "output_type": "stream",
     "text": [
      "\n",
      "              corpus_to_sentences_with_context :\n",
      "              is  the number of sentences counted corresponding to the number of rows by 'num' ?\n",
      "              True\n"
     ]
    }
   ],
   "source": [
    "# Step 1: Open Avis\n",
    "base_avis_ccne = open_avis(rescrap_texte=False)\n",
    "\n",
    "# Step 2: Join Metadata\n",
    "base_avis_ccne = join_metadata(base_avis_ccne)\n",
    "\n",
    "# Step 3: Transform to Sentences with Context\n",
    "base_sentences = corpus_to_sentences_with_context(base = base_avis_ccne)\n",
    "\n",
    "# Step 4: Filter on sentences with 'personne' in it\n",
    "base_filtered = filter_sentences_with_words(base_sentences,[\"personne\",\"personnes\",'humain','humains','humaine','humaines'])\n",
    "\n",
    "# Step 5: Sample 10 sentences by avis\n",
    "samples = base_filtered.sample(100, random_state = seed)"
   ]
  },
  {
   "cell_type": "code",
   "execution_count": 3,
   "metadata": {},
   "outputs": [
    {
     "data": {
      "application/vnd.jupyter.widget-view+json": {
       "model_id": "0d58f52339bc418c825a1a8ac9334cc7",
       "version_major": 2,
       "version_minor": 0
      },
      "text/plain": [
       "ToggleButtons(options=('Show Metadata', 'Hide Metadata'), value='Show Metadata')"
      ]
     },
     "metadata": {},
     "output_type": "display_data"
    },
    {
     "data": {
      "application/vnd.jupyter.widget-view+json": {
       "model_id": "ca185babb2fb4ede9a80ec986325421a",
       "version_major": 2,
       "version_minor": 0
      },
      "text/plain": [
       "Button(description='Previous', style=ButtonStyle())"
      ]
     },
     "metadata": {},
     "output_type": "display_data"
    },
    {
     "data": {
      "application/vnd.jupyter.widget-view+json": {
       "model_id": "ed0d2efa61574124b0d862ac2fe94beb",
       "version_major": 2,
       "version_minor": 0
      },
      "text/plain": [
       "Button(description='Next', style=ButtonStyle())"
      ]
     },
     "metadata": {},
     "output_type": "display_data"
    },
    {
     "data": {
      "application/vnd.jupyter.widget-view+json": {
       "model_id": "dada34b0f5a94525a353e50c03bd76ee",
       "version_major": 2,
       "version_minor": 0
      },
      "text/plain": [
       "Output()"
      ]
     },
     "metadata": {},
     "output_type": "display_data"
    }
   ],
   "source": [
    "# Step 6: Display samples\n",
    "interactive_sentence_display(samples)\n",
    "\n"
   ]
  },
  {
   "cell_type": "code",
   "execution_count": 4,
   "metadata": {},
   "outputs": [],
   "source": [
    "generate_sentences_pdf(samples, \"../output/exploration/phrase_personne_humain.pdf\")"
   ]
  }
 ],
 "metadata": {
  "kernelspec": {
   "display_name": "ccne",
   "language": "python",
   "name": "python3"
  },
  "language_info": {
   "codemirror_mode": {
    "name": "ipython",
    "version": 3
   },
   "file_extension": ".py",
   "mimetype": "text/x-python",
   "name": "python",
   "nbconvert_exporter": "python",
   "pygments_lexer": "ipython3",
   "version": "3.9.18"
  }
 },
 "nbformat": 4,
 "nbformat_minor": 2
}
