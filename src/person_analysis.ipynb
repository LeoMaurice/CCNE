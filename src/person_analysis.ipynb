{
 "cells": [
  {
   "cell_type": "markdown",
   "metadata": {},
   "source": [
    "# Analyse du mot 'personne' dans les avis du CCNE   "
   ]
  },
  {
   "cell_type": "code",
   "execution_count": 1,
   "metadata": {},
   "outputs": [
    {
     "name": "stderr",
     "output_type": "stream",
     "text": [
      "[nltk_data] Downloading package punkt to\n",
      "[nltk_data]     C:\\Users\\leopo\\AppData\\Roaming\\nltk_data...\n",
      "[nltk_data]   Package punkt is already up-to-date!\n"
     ]
    }
   ],
   "source": [
    "%load_ext autoreload\n",
    "%autoreload 2\n",
    "\n",
    "import sys\n",
    "sys.path.append('./helpers')  # Add the src directory to the Python path\n",
    "\n",
    "from database_creation import open_avis, join_metadata, extract_sentences_with_context\n"
   ]
  },
  {
   "cell_type": "markdown",
   "metadata": {},
   "source": [
    "## Extraits et création d'un guideline d'annotation"
   ]
  },
  {
   "cell_type": "code",
   "execution_count": 2,
   "metadata": {},
   "outputs": [],
   "source": [
    "# Step 1: Open Avis\n",
    "base_avis_ccne = open_avis(rescrap_texte=False)\n",
    "\n",
    "# Step 2: Join Metadata\n",
    "base_avis_ccne = join_metadata(base_avis_ccne)\n",
    "\n",
    "# Step 3: Extract Sentences with Context\n",
    "base_avis_ccne['sample_sentences'] = base_avis_ccne['avis'].apply(\n",
    "    lambda text: extract_sentences_with_context(text, 'personne')\n",
    ")\n",
    "\n",
    "# Now base_avis_ccne is updated with the extracted sentences\n"
   ]
  }
 ],
 "metadata": {
  "kernelspec": {
   "display_name": "ccne",
   "language": "python",
   "name": "python3"
  },
  "language_info": {
   "codemirror_mode": {
    "name": "ipython",
    "version": 3
   },
   "file_extension": ".py",
   "mimetype": "text/x-python",
   "name": "python",
   "nbconvert_exporter": "python",
   "pygments_lexer": "ipython3",
   "version": "3.9.18"
  }
 },
 "nbformat": 4,
 "nbformat_minor": 2
}
