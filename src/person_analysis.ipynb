{
 "cells": [
  {
   "cell_type": "markdown",
   "metadata": {},
   "source": [
    "# Analyse du mot 'personne' dans les avis du CCNE   "
   ]
  },
  {
   "cell_type": "code",
   "execution_count": 1,
   "metadata": {},
   "outputs": [
    {
     "name": "stderr",
     "output_type": "stream",
     "text": [
      "[nltk_data] Downloading package punkt to\n",
      "[nltk_data]     C:\\Users\\leopo\\AppData\\Roaming\\nltk_data...\n",
      "[nltk_data]   Package punkt is already up-to-date!\n",
      "[nltk_data] Downloading package punkt to\n",
      "[nltk_data]     C:\\Users\\leopo\\AppData\\Roaming\\nltk_data...\n",
      "[nltk_data]   Package punkt is already up-to-date!\n"
     ]
    }
   ],
   "source": [
    "%load_ext autoreload\n",
    "%autoreload 2\n",
    "%reload_ext autoreload\n",
    "# The autoreload extension is already loaded. To reload it, use:\n",
    "#%reload_ext autoreload\n",
    "import sys\n",
    "sys.path.append('./helpers')  # Add the src directory to the Python path\n",
    "\n",
    "seed = 1968\n",
    "\n",
    "from database_creation import open_avis, join_metadata, corpus_to_sentences_with_context, filter_sentences_with_words, has_words\n",
    "from display import interactive_sentence_display, generate_sentences_pdf"
   ]
  },
  {
   "cell_type": "markdown",
   "metadata": {},
   "source": [
    "## Extraits et création d'un guideline d'annotation"
   ]
  },
  {
   "cell_type": "code",
   "execution_count": 2,
   "metadata": {},
   "outputs": [
    {
     "name": "stdout",
     "output_type": "stream",
     "text": [
      "\n",
      "              corpus_to_sentences_with_context :\n",
      "              is  the number of sentences counted corresponding to the number of rows by 'num' ?\n",
      "              True\n"
     ]
    }
   ],
   "source": [
    "# Step 1: Open Avis\n",
    "base_avis_ccne = open_avis(rescrap_texte=False)\n",
    "\n",
    "# Step 2: Join Metadata\n",
    "base_avis_ccne = join_metadata(base_avis_ccne)\n",
    "\n",
    "# Step 3: Transform to Sentences with Context\n",
    "base_sentences = corpus_to_sentences_with_context(base = base_avis_ccne)\n",
    "\n",
    "# Step 4: Filter on sentences with 'personne' in it\n",
    "base_filtered = filter_sentences_with_words(base_sentences,[\"personne\",\"personnes\",'humain','humains','humaine','humaines'])\n",
    "\n",
    "# Step 5: Sample 100 sentences\n",
    "samples = base_filtered.sample(100, random_state = seed)"
   ]
  },
  {
   "cell_type": "code",
   "execution_count": 3,
   "metadata": {},
   "outputs": [
    {
     "data": {
      "application/vnd.jupyter.widget-view+json": {
       "model_id": "0f7bf8b8684940919c668447cf5bc241",
       "version_major": 2,
       "version_minor": 0
      },
      "text/plain": [
       "ToggleButtons(options=('Show Metadata', 'Hide Metadata'), value='Show Metadata')"
      ]
     },
     "metadata": {},
     "output_type": "display_data"
    },
    {
     "data": {
      "application/vnd.jupyter.widget-view+json": {
       "model_id": "3f57cb502fe340afa0a341ac233dc281",
       "version_major": 2,
       "version_minor": 0
      },
      "text/plain": [
       "Button(description='Previous', style=ButtonStyle())"
      ]
     },
     "metadata": {},
     "output_type": "display_data"
    },
    {
     "data": {
      "application/vnd.jupyter.widget-view+json": {
       "model_id": "e2bad4bc8f02496b8d6d2084a8e580f0",
       "version_major": 2,
       "version_minor": 0
      },
      "text/plain": [
       "Button(description='Next', style=ButtonStyle())"
      ]
     },
     "metadata": {},
     "output_type": "display_data"
    },
    {
     "data": {
      "application/vnd.jupyter.widget-view+json": {
       "model_id": "836c24d819b740478024f0a3802b9b56",
       "version_major": 2,
       "version_minor": 0
      },
      "text/plain": [
       "Output()"
      ]
     },
     "metadata": {},
     "output_type": "display_data"
    }
   ],
   "source": [
    "# Step 6: Display samples\n",
    "interactive_sentence_display(samples)\n",
    "\n"
   ]
  },
  {
   "cell_type": "code",
   "execution_count": 4,
   "metadata": {},
   "outputs": [],
   "source": [
    "generate_sentences_pdf(samples, \"../output/exploration/phrase_personne_humain.pdf\")"
   ]
  },
  {
   "cell_type": "markdown",
   "metadata": {},
   "source": [
    "# Présence lexicale et export"
   ]
  },
  {
   "cell_type": "markdown",
   "metadata": {},
   "source": [
    "## Présence lexicale"
   ]
  },
  {
   "cell_type": "code",
   "execution_count": 5,
   "metadata": {},
   "outputs": [
    {
     "name": "stdout",
     "output_type": "stream",
     "text": [
      "Nombre de phrases total dans les avis : 53591\n",
      "Le nombre de phrases qui contient ['personne', 'personnes'] est 5731\n",
      "Le nombre de phrases qui contient ['humain', 'humaine', 'humains', 'humaines'] est 2526\n",
      "Le nombre de phrases qui contient ['individu', 'individus'] est 1425\n",
      "Le nombre de phrases qui contient ['société', 'sociétés', 'societé', 'societés', 'sociéte', 'sociétes', 'societe', 'societes'] est 1416\n"
     ]
    }
   ],
   "source": [
    "synonyms = {\n",
    "    'person': ['personne', 'personnes'],\n",
    "    'human': ['humain', 'humaine', 'humains', 'humaines'],\n",
    "    'individu': ['individu', 'individus'],\n",
    "    'societe': ['société', 'sociétés', 'societé', 'societés', 'sociéte', 'sociétes', 'societe', 'societes']\n",
    "}\n",
    "\n",
    "print(f\"Nombre de phrases total dans les avis : {len(base_sentences)}\")\n",
    "\n",
    "for key in synonyms.keys():\n",
    "    has_specific_words = lambda x: has_words(x, words=synonyms[key])\n",
    "    base_sentences[key] = base_sentences['sentence'].apply(has_specific_words)\n",
    "    n = sum(base_sentences[key])\n",
    "    print(f\"Le nombre de phrases qui contient {synonyms[key]} est {n}\")"
   ]
  },
  {
   "cell_type": "markdown",
   "metadata": {},
   "source": [
    "## Export"
   ]
  },
  {
   "cell_type": "code",
   "execution_count": 6,
   "metadata": {},
   "outputs": [],
   "source": [
    "base_sentences.to_feather(\"../data/intermediate/big/base_sentences.feather\")"
   ]
  }
 ],
 "metadata": {
  "kernelspec": {
   "display_name": "ccne",
   "language": "python",
   "name": "python3"
  },
  "language_info": {
   "codemirror_mode": {
    "name": "ipython",
    "version": 3
   },
   "file_extension": ".py",
   "mimetype": "text/x-python",
   "name": "python",
   "nbconvert_exporter": "python",
   "pygments_lexer": "ipython3",
   "version": "3.9.18"
  }
 },
 "nbformat": 4,
 "nbformat_minor": 2
}
